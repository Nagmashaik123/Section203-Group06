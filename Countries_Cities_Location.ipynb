{
  "nbformat": 4,
  "nbformat_minor": 0,
  "metadata": {
    "colab": {
      "name": "Countries_Cities_Location.ipynb",
      "provenance": [],
      "collapsed_sections": [],
      "authorship_tag": "ABX9TyPFhaEbQeFJvZuR+y8Zvvpp",
      "include_colab_link": true
    },
    "kernelspec": {
      "name": "python3",
      "display_name": "Python 3"
    }
  },
  "cells": [
    {
      "cell_type": "markdown",
      "metadata": {
        "id": "view-in-github",
        "colab_type": "text"
      },
      "source": [
        "<a href=\"https://colab.research.google.com/github/Nagmashaik123/Section203-Group06/blob/main/Countries_Cities_Location.ipynb\" target=\"_parent\"><img src=\"https://colab.research.google.com/assets/colab-badge.svg\" alt=\"Open In Colab\"/></a>"
      ]
    },
    {
      "cell_type": "code",
      "metadata": {
        "id": "roJjkW8jvdFD"
      },
      "source": [
        "import pandas as pd\n",
        "df=pd.read_csv(r\"CovidVaccine.csv\",error_bad_lines=False)\n",
        "df\n"
      ],
      "execution_count": null,
      "outputs": []
    },
    {
      "cell_type": "code",
      "metadata": {
        "id": "mVznv2-v8b6h"
      },
      "source": [
        "!pip install geopy"
      ],
      "execution_count": null,
      "outputs": []
    },
    {
      "cell_type": "code",
      "metadata": {
        "id": "bGMvjwxRE-Pc",
        "colab": {
          "base_uri": "https://localhost:8080/"
        },
        "outputId": "a22f6c78-0948-4db3-b2b9-186a8fe21cfe"
      },
      "source": [
        "import numpy as np\n",
        "import re\n",
        "\n",
        "# Reading emoji patterns which contains emoticons , symbols & pictographs, transport & map symbols , flags\n",
        "emojisCollection = re.compile(\"[\"\n",
        "                       u\"\\U0001F600-\\U0001F64F\"  \n",
        "                       u\"\\U0001F300-\\U0001F5FF\"  \n",
        "                       u\"\\U0001F680-\\U0001F6FF\"  \n",
        "                       u\"\\U0001F1E0-\\U0001F1FF\"  \n",
        "                       u\"\\U00002702-\\U000027B0\"\n",
        "                       u\"\\U000024C2-\\U0001F251\"\n",
        "                       \"]+\", flags=re.UNICODE)\n",
        "df['TweetLocation'] = (df['TweetLocation'].str.replace(emojisCollection, '').str.strip())\n",
        "\n",
        "df['TweetLocation'] = df.TweetLocation.str.split(', ').str.get(0)\n",
        "df['TweetLocation'] = df['TweetLocation'].replace(np.nan, 'Unknown', regex=True)\n",
        "df['TweetLocation']"
      ],
      "execution_count": null,
      "outputs": [
        {
          "output_type": "execute_result",
          "data": {
            "text/plain": [
              "0                     San Antonio\n",
              "1                         Unknown\n",
              "2                         Unknown\n",
              "3                          London\n",
              "4                        Montreal\n",
              "5                   United States\n",
              "6                       Las Vegas\n",
              "7                      Georgetown\n",
              "8                        Portland\n",
              "9                      Pittsburgh\n",
              "10                        Unknown\n",
              "11                      Gateshead\n",
              "12                         Indore\n",
              "13                        England\n",
              "14                        Unknown\n",
              "15                      Frankfort\n",
              "16    Royaume-Uni. United Kingdom\n",
              "17                         Canada\n",
              "18                        Unknown\n",
              "19                   Winter Haven\n",
              "20                      Beckenham\n",
              "21                        Unknown\n",
              "22                         Orange\n",
              "23                    District 13\n",
              "24                     Washington\n",
              "Name: TweetLocation, dtype: object"
            ]
          },
          "metadata": {
            "tags": []
          },
          "execution_count": 10
        }
      ]
    },
    {
      "cell_type": "code",
      "metadata": {
        "id": "KltxryHevizF"
      },
      "source": [
        "from functools import partial\n",
        "from geopy.geocoders import Nominatim\n",
        "import re\n",
        "\n",
        "countryList =[]\n",
        "# Function to map the country for the corresponding city location\n",
        "def checkCountry(city):\n",
        "  geolocator = Nominatim(user_agent=\"COVID-19 vaccination attitudes\")\n",
        "  geocode = partial(geolocator.geocode, language=\"en\")\n",
        "  # passing the city through geocode api to return the location if city is not unknow\n",
        "  if city != \"Unknown\" and not re.match(r'^[_\\W]+$', city)  :\n",
        "    location = geocode(city)   \n",
        "    if location.address.find(\", \") != -1:      \n",
        "      country = str(location.address).split(\", \")[-1] \n",
        "    elif location is None:\n",
        "      country = \"Unknown\"   \n",
        "    else:\n",
        "      country = location.address  \n",
        "  # If city is not known then setting country as Unknown        \n",
        "  else:    \n",
        "    country = \"Unknown\"   \n",
        "  return country\n",
        "\n",
        "    "
      ],
      "execution_count": null,
      "outputs": []
    },
    {
      "cell_type": "code",
      "metadata": {
        "id": "psdH_XDY5awp"
      },
      "source": [
        "cities=[]\n",
        "countries=[]\n",
        "cities = df['TweetLocation'].tolist()\n",
        "for city in cities:\n",
        "    try:\n",
        "        countries.append(checkCountry(city))  #Calling the checkCountry function\n",
        "    except:\n",
        "        countries.append('Unknown')"
      ],
      "execution_count": null,
      "outputs": []
    },
    {
      "cell_type": "code",
      "metadata": {
        "id": "ygkTlk-LJ9v0"
      },
      "source": [
        "# Zipping city and corresponding country together\n",
        "dict_1=dict(zip(cities,countries))"
      ],
      "execution_count": null,
      "outputs": []
    },
    {
      "cell_type": "code",
      "metadata": {
        "id": "-mdmXe-TJ-ev",
        "colab": {
          "base_uri": "https://localhost:8080/",
          "height": 691
        },
        "outputId": "b02b0454-fe58-4b50-a3a4-4da09a4446e6"
      },
      "source": [
        "df['Country']=df['TweetLocation'].map(dict_1)\n",
        "df"
      ],
      "execution_count": null,
      "outputs": [
        {
          "output_type": "execute_result",
          "data": {
            "text/html": [
              "<div>\n",
              "<style scoped>\n",
              "    .dataframe tbody tr th:only-of-type {\n",
              "        vertical-align: middle;\n",
              "    }\n",
              "\n",
              "    .dataframe tbody tr th {\n",
              "        vertical-align: top;\n",
              "    }\n",
              "\n",
              "    .dataframe thead th {\n",
              "        text-align: right;\n",
              "    }\n",
              "</style>\n",
              "<table border=\"1\" class=\"dataframe\">\n",
              "  <thead>\n",
              "    <tr style=\"text-align: right;\">\n",
              "      <th></th>\n",
              "      <th>TweetDate</th>\n",
              "      <th>TweetText</th>\n",
              "      <th>TweetAuthor</th>\n",
              "      <th>TweetLocation</th>\n",
              "      <th>TweetCountry</th>\n",
              "      <th>AllHashtags</th>\n",
              "      <th>Country</th>\n",
              "    </tr>\n",
              "  </thead>\n",
              "  <tbody>\n",
              "    <tr>\n",
              "      <th>0</th>\n",
              "      <td>2021-03-16 17:04:39</td>\n",
              "      <td>Immediately after a needle related panic attac...</td>\n",
              "      <td>kstep38</td>\n",
              "      <td>Unknown</td>\n",
              "      <td>Unknown</td>\n",
              "      <td>['CovidVaccine']</td>\n",
              "      <td>Unknown</td>\n",
              "    </tr>\n",
              "    <tr>\n",
              "      <th>1</th>\n",
              "      <td>2021-03-16 17:04:27</td>\n",
              "      <td>Facebook is launching a new push to promote th...</td>\n",
              "      <td>MikeMck84268</td>\n",
              "      <td>Huddersfield</td>\n",
              "      <td>United Kingdom</td>\n",
              "      <td>['Facebook', '100daysofcode', 'COVID19Vaccine'...</td>\n",
              "      <td>United Kingdom</td>\n",
              "    </tr>\n",
              "    <tr>\n",
              "      <th>2</th>\n",
              "      <td>2021-03-16 17:04:18</td>\n",
              "      <td>Last Friday's Urdu Jumu'ah khutbah was also re...</td>\n",
              "      <td>MakkiMasjid_Mcr</td>\n",
              "      <td>Manchester</td>\n",
              "      <td>United Kingdom</td>\n",
              "      <td>['COVID19', 'vaccine', 'Covid_19', 'CovidVacci...</td>\n",
              "      <td>United Kingdom</td>\n",
              "    </tr>\n",
              "    <tr>\n",
              "      <th>3</th>\n",
              "      <td>2021-03-16 17:04:07</td>\n",
              "      <td>So while the \"Last guy\" was on TV saying Covid...</td>\n",
              "      <td>Deemoney521</td>\n",
              "      <td>Unknown</td>\n",
              "      <td>Unknown</td>\n",
              "      <td>['CovidVaccine']</td>\n",
              "      <td>Unknown</td>\n",
              "    </tr>\n",
              "    <tr>\n",
              "      <th>4</th>\n",
              "      <td>2021-03-16 17:03:48</td>\n",
              "      <td>A year of so much sacrifice and loss, but now....</td>\n",
              "      <td>lilkioko</td>\n",
              "      <td>Chicago</td>\n",
              "      <td>United States</td>\n",
              "      <td>['vaccinated', 'ScienceRocks']</td>\n",
              "      <td>United States</td>\n",
              "    </tr>\n",
              "    <tr>\n",
              "      <th>...</th>\n",
              "      <td>...</td>\n",
              "      <td>...</td>\n",
              "      <td>...</td>\n",
              "      <td>...</td>\n",
              "      <td>...</td>\n",
              "      <td>...</td>\n",
              "      <td>...</td>\n",
              "    </tr>\n",
              "    <tr>\n",
              "      <th>9995</th>\n",
              "      <td>2021-03-14 09:17:35</td>\n",
              "      <td>#Marr @Channel4News @SkyNews \\n\\nThink you're ...</td>\n",
              "      <td>WaronSpeech</td>\n",
              "      <td>uk</td>\n",
              "      <td>United Kingdom</td>\n",
              "      <td>['Marr', 'GAVI', 'vaccines', 'billgates', 'COV...</td>\n",
              "      <td>United Kingdom</td>\n",
              "    </tr>\n",
              "    <tr>\n",
              "      <th>9996</th>\n",
              "      <td>2021-03-14 09:17:34</td>\n",
              "      <td>#Marr @Channel4News @SkyNews \\n\\nThink you're ...</td>\n",
              "      <td>WaronSpeech</td>\n",
              "      <td>uk</td>\n",
              "      <td>United Kingdom</td>\n",
              "      <td>['Marr', 'GAVI', 'vaccines', 'billgates', 'COV...</td>\n",
              "      <td>United Kingdom</td>\n",
              "    </tr>\n",
              "    <tr>\n",
              "      <th>9997</th>\n",
              "      <td>2021-03-14 09:17:34</td>\n",
              "      <td>#Marr think you're clever\\nhttps://t.co/EbQ79s...</td>\n",
              "      <td>WaronSpeech</td>\n",
              "      <td>uk</td>\n",
              "      <td>United Kingdom</td>\n",
              "      <td>['Marr', 'GAVI', 'vaccines', 'billgates', 'COV...</td>\n",
              "      <td>United Kingdom</td>\n",
              "    </tr>\n",
              "    <tr>\n",
              "      <th>9998</th>\n",
              "      <td>2021-03-14 09:17:32</td>\n",
              "      <td>Interactable #heatmap showing number of new #C...</td>\n",
              "      <td>hangangmagazine</td>\n",
              "      <td>Seoul</td>\n",
              "      <td>South Korea</td>\n",
              "      <td>['heatmap', 'COVIDVaccinations', 'Korea', 'cor...</td>\n",
              "      <td>South Korea</td>\n",
              "    </tr>\n",
              "    <tr>\n",
              "      <th>9999</th>\n",
              "      <td>2021-03-14 09:17:16</td>\n",
              "      <td>Undisputed middleweight champion Marvelous Mar...</td>\n",
              "      <td>HPVSideEffects</td>\n",
              "      <td>Unknown</td>\n",
              "      <td>Unknown</td>\n",
              "      <td>['vaccinated']</td>\n",
              "      <td>Unknown</td>\n",
              "    </tr>\n",
              "  </tbody>\n",
              "</table>\n",
              "<p>10000 rows × 7 columns</p>\n",
              "</div>"
            ],
            "text/plain": [
              "                TweetDate  ...         Country\n",
              "0     2021-03-16 17:04:39  ...         Unknown\n",
              "1     2021-03-16 17:04:27  ...  United Kingdom\n",
              "2     2021-03-16 17:04:18  ...  United Kingdom\n",
              "3     2021-03-16 17:04:07  ...         Unknown\n",
              "4     2021-03-16 17:03:48  ...   United States\n",
              "...                   ...  ...             ...\n",
              "9995  2021-03-14 09:17:35  ...  United Kingdom\n",
              "9996  2021-03-14 09:17:34  ...  United Kingdom\n",
              "9997  2021-03-14 09:17:34  ...  United Kingdom\n",
              "9998  2021-03-14 09:17:32  ...     South Korea\n",
              "9999  2021-03-14 09:17:16  ...         Unknown\n",
              "\n",
              "[10000 rows x 7 columns]"
            ]
          },
          "metadata": {
            "tags": []
          },
          "execution_count": 41
        }
      ]
    },
    {
      "cell_type": "code",
      "metadata": {
        "id": "ZGJfaKS_bdwd"
      },
      "source": [
        "df.to_csv('CovidVaccineWorldWide.csv')"
      ],
      "execution_count": null,
      "outputs": []
    }
  ]
}