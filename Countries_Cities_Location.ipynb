{
  "nbformat": 4,
  "nbformat_minor": 0,
  "metadata": {
    "colab": {
      "name": "Countries_Cities_Location.ipynb",
      "provenance": [],
      "collapsed_sections": [],
      "authorship_tag": "ABX9TyOZMFr87uSDKbU7zp0WBLGD",
      "include_colab_link": true
    },
    "kernelspec": {
      "name": "python3",
      "display_name": "Python 3"
    }
  },
  "cells": [
    {
      "cell_type": "markdown",
      "metadata": {
        "id": "view-in-github",
        "colab_type": "text"
      },
      "source": [
        "<a href=\"https://colab.research.google.com/github/Nagmashaik123/Section203-Group06/blob/main/Countries_Cities_Location.ipynb\" target=\"_parent\"><img src=\"https://colab.research.google.com/assets/colab-badge.svg\" alt=\"Open In Colab\"/></a>"
      ]
    },
    {
      "cell_type": "code",
      "metadata": {
        "id": "vKCWwK-fvXpI",
        "colab": {
          "base_uri": "https://localhost:8080/",
          "height": 1000
        },
        "outputId": "6b735580-5982-488a-a50c-e7a984e2b0b5"
      },
      "source": [
        "import pandas as pd\n",
        "df=pd.read_csv(r\"CovidVaccine.csv\",error_bad_lines=False)\n",
        "df"
      ],
      "execution_count": 1,
      "outputs": [
        {
          "output_type": "execute_result",
          "data": {
            "text/html": [
              "<div>\n",
              "<style scoped>\n",
              "    .dataframe tbody tr th:only-of-type {\n",
              "        vertical-align: middle;\n",
              "    }\n",
              "\n",
              "    .dataframe tbody tr th {\n",
              "        vertical-align: top;\n",
              "    }\n",
              "\n",
              "    .dataframe thead th {\n",
              "        text-align: right;\n",
              "    }\n",
              "</style>\n",
              "<table border=\"1\" class=\"dataframe\">\n",
              "  <thead>\n",
              "    <tr style=\"text-align: right;\">\n",
              "      <th></th>\n",
              "      <th>TweetDate</th>\n",
              "      <th>TweetText</th>\n",
              "      <th>TweetAuthor</th>\n",
              "      <th>TweetLocation</th>\n",
              "      <th>TweetCountry</th>\n",
              "      <th>AllHashtags</th>\n",
              "    </tr>\n",
              "  </thead>\n",
              "  <tbody>\n",
              "    <tr>\n",
              "      <th>0</th>\n",
              "      <td>2021-03-17 19:55:24</td>\n",
              "      <td>.@SAMetroHealth is taking a hands-on approach ...</td>\n",
              "      <td>JoeGalliNews</td>\n",
              "      <td>San Antonio, TX</td>\n",
              "      <td>UNKNOWN</td>\n",
              "      <td>['CovidVaccine']</td>\n",
              "    </tr>\n",
              "    <tr>\n",
              "      <th>1</th>\n",
              "      <td>2021-03-17 19:55:03</td>\n",
              "      <td>Hats off to #SanFrancisco and #CADepartmentofH...</td>\n",
              "      <td>MizzLizaPFunk</td>\n",
              "      <td>NaN</td>\n",
              "      <td>UNKNOWN</td>\n",
              "      <td>['SanFrancisco', 'CADepartmentofHealth', 'vacc...</td>\n",
              "    </tr>\n",
              "    <tr>\n",
              "      <th>2</th>\n",
              "      <td>2021-03-17 19:54:47</td>\n",
              "      <td>JVT tellin’ like it is! Have the #CovidVaccine...</td>\n",
              "      <td>HelenJKnott</td>\n",
              "      <td>NaN</td>\n",
              "      <td>UNKNOWN</td>\n",
              "      <td>['CovidVaccine']</td>\n",
              "    </tr>\n",
              "    <tr>\n",
              "      <th>3</th>\n",
              "      <td>2021-03-17 19:54:12</td>\n",
              "      <td>#CLDS nurses on ITV news talking about the the...</td>\n",
              "      <td>CamdenLDService</td>\n",
              "      <td>London, England</td>\n",
              "      <td>UNKNOWN</td>\n",
              "      <td>['CLDS', 'equal', 'access', 'CovidVaccine', 'P...</td>\n",
              "    </tr>\n",
              "    <tr>\n",
              "      <th>4</th>\n",
              "      <td>2021-03-17 19:53:58</td>\n",
              "      <td>Today's #COVID19vaccine math update for #Quebe...</td>\n",
              "      <td>segacs</td>\n",
              "      <td>Montreal</td>\n",
              "      <td>UNKNOWN</td>\n",
              "      <td>['COVID19vaccine', 'Quebec']</td>\n",
              "    </tr>\n",
              "    <tr>\n",
              "      <th>5</th>\n",
              "      <td>2021-03-17 19:53:48</td>\n",
              "      <td>Trump recommends people get vaccinated against...</td>\n",
              "      <td>NovelSci</td>\n",
              "      <td>United States</td>\n",
              "      <td>UNKNOWN</td>\n",
              "      <td>['vaccine', 'trump', 'coronavirus', 'covid19',...</td>\n",
              "    </tr>\n",
              "    <tr>\n",
              "      <th>6</th>\n",
              "      <td>2021-03-17 19:53:34</td>\n",
              "      <td>I topped Rona! \\n\\nGot my first round of Vacci...</td>\n",
              "      <td>BBMunny</td>\n",
              "      <td>Las Vegas, NV</td>\n",
              "      <td>United States</td>\n",
              "      <td>['rona', 'vaccinated', 'imatop']</td>\n",
              "    </tr>\n",
              "    <tr>\n",
              "      <th>7</th>\n",
              "      <td>2021-03-17 19:53:31</td>\n",
              "      <td>Grateful that my mom and dad were able to get ...</td>\n",
              "      <td>Lollipop_Comics</td>\n",
              "      <td>Georgetown, ON, Canada</td>\n",
              "      <td>UNKNOWN</td>\n",
              "      <td>['CovidVaccine']</td>\n",
              "    </tr>\n",
              "    <tr>\n",
              "      <th>8</th>\n",
              "      <td>2021-03-17 19:53:18</td>\n",
              "      <td>Yeah I’m that person on St. Patrick’s Day ☘️ #...</td>\n",
              "      <td>jen3taft</td>\n",
              "      <td>Portland, OR</td>\n",
              "      <td>UNKNOWN</td>\n",
              "      <td>['StPatricksDay', 'bar', 'restaurants', 'vacci...</td>\n",
              "    </tr>\n",
              "    <tr>\n",
              "      <th>9</th>\n",
              "      <td>2021-03-17 19:53:06</td>\n",
              "      <td>Biden's disastrous border policy is evidence o...</td>\n",
              "      <td>PIRATE1775</td>\n",
              "      <td>Pittsburgh</td>\n",
              "      <td>UNKNOWN</td>\n",
              "      <td>['CNN', 'MSNBC', 'blacktwitter', 'jobs', 'COVI...</td>\n",
              "    </tr>\n",
              "    <tr>\n",
              "      <th>10</th>\n",
              "      <td>2021-03-17 19:53:04</td>\n",
              "      <td>@10DowningStreet You're screwing over people i...</td>\n",
              "      <td>Midland86335414</td>\n",
              "      <td>NaN</td>\n",
              "      <td>UNKNOWN</td>\n",
              "      <td>['u50lm', 'Covid19UK', 'COVID', 'vaccine', 'co...</td>\n",
              "    </tr>\n",
              "    <tr>\n",
              "      <th>11</th>\n",
              "      <td>2021-03-17 19:52:52</td>\n",
              "      <td>The feverish feelings of the #AstraZenaca vacc...</td>\n",
              "      <td>mediaworkspaddy</td>\n",
              "      <td>Gateshead</td>\n",
              "      <td>UNKNOWN</td>\n",
              "      <td>['AstraZenaca', 'guinness', 'CovidVaccine', 'S...</td>\n",
              "    </tr>\n",
              "    <tr>\n",
              "      <th>12</th>\n",
              "      <td>2021-03-17 19:52:32</td>\n",
              "      <td>The #CovidVaccine doesnt makes you immune to #...</td>\n",
              "      <td>ankitsingh3003</td>\n",
              "      <td>Indore, India</td>\n",
              "      <td>UNKNOWN</td>\n",
              "      <td>['CovidVaccine', 'COVID19', 'covidanniversary']</td>\n",
              "    </tr>\n",
              "    <tr>\n",
              "      <th>13</th>\n",
              "      <td>2021-03-17 19:52:25</td>\n",
              "      <td>The only obvious side effect of the #CovidVacc...</td>\n",
              "      <td>rockgod1970</td>\n",
              "      <td>England, United Kingdom</td>\n",
              "      <td>UNKNOWN</td>\n",
              "      <td>['CovidVaccine', 'EUVaccine', 'vaccine', 'Covi...</td>\n",
              "    </tr>\n",
              "    <tr>\n",
              "      <th>14</th>\n",
              "      <td>2021-03-17 19:52:01</td>\n",
              "      <td>@marknorm I once saw a group of homeless peopl...</td>\n",
              "      <td>e_kazz</td>\n",
              "      <td>NaN</td>\n",
              "      <td>UNKNOWN</td>\n",
              "      <td>['teamwork', 'vaccinated']</td>\n",
              "    </tr>\n",
              "    <tr>\n",
              "      <th>15</th>\n",
              "      <td>2021-03-17 19:51:56</td>\n",
              "      <td>Vaccine  1 is complete.\\n\\n#CovidVaccine \\n\\nT...</td>\n",
              "      <td>PaulaEquine</td>\n",
              "      <td>Frankfort, Kentucky</td>\n",
              "      <td>UNKNOWN</td>\n",
              "      <td>['CovidVaccine']</td>\n",
              "    </tr>\n",
              "    <tr>\n",
              "      <th>16</th>\n",
              "      <td>2021-03-17 19:51:37</td>\n",
              "      <td>Both appointments for #CovidVaccine booked eas...</td>\n",
              "      <td>ajpstromaefan</td>\n",
              "      <td>Royaume-Uni. United Kingdom</td>\n",
              "      <td>UNKNOWN</td>\n",
              "      <td>['CovidVaccine', 'NHSCovidVaccine']</td>\n",
              "    </tr>\n",
              "    <tr>\n",
              "      <th>17</th>\n",
              "      <td>2021-03-17 19:51:08</td>\n",
              "      <td>As a Christian I find Mr.Coates actions repuls...</td>\n",
              "      <td>BearleyKim</td>\n",
              "      <td>Canada</td>\n",
              "      <td>UNKNOWN</td>\n",
              "      <td>['WearAMask', 'SocialDistance', 'StayHome', 'C...</td>\n",
              "    </tr>\n",
              "    <tr>\n",
              "      <th>18</th>\n",
              "      <td>2021-03-17 19:51:08</td>\n",
              "      <td>In between midterm studying, a disastrous apt,...</td>\n",
              "      <td>AlyssaMcNulty5</td>\n",
              "      <td>NaN</td>\n",
              "      <td>UNKNOWN</td>\n",
              "      <td>['iamnotthrowingawaymyshot', 'COVIDvaccine']</td>\n",
              "    </tr>\n",
              "    <tr>\n",
              "      <th>19</th>\n",
              "      <td>2021-03-17 19:50:54</td>\n",
              "      <td>more vaccines going to waste. #freethevaccine ...</td>\n",
              "      <td>verdemtn</td>\n",
              "      <td>Winter Haven, FL</td>\n",
              "      <td>United States</td>\n",
              "      <td>['freethevaccine', 'DeathSantis', 'CovidVaccine']</td>\n",
              "    </tr>\n",
              "    <tr>\n",
              "      <th>20</th>\n",
              "      <td>2021-03-17 19:50:53</td>\n",
              "      <td>Isn’t this the same AstraZeneca vaccine the EU...</td>\n",
              "      <td>Mattl_w</td>\n",
              "      <td>Beckenham, Kent</td>\n",
              "      <td>United Kingdom</td>\n",
              "      <td>['AstraZenaca', 'EU', 'CovidVaccine', 'COVID19...</td>\n",
              "    </tr>\n",
              "    <tr>\n",
              "      <th>21</th>\n",
              "      <td>2021-03-17 19:50:36</td>\n",
              "      <td>Where work takes me today.  Very well organize...</td>\n",
              "      <td>leman_jason</td>\n",
              "      <td>NaN</td>\n",
              "      <td>United States</td>\n",
              "      <td>['CovidVaccine']</td>\n",
              "    </tr>\n",
              "    <tr>\n",
              "      <th>22</th>\n",
              "      <td>2021-03-17 19:50:28</td>\n",
              "      <td>I’m currently waiting to get my 2nd vaccine an...</td>\n",
              "      <td>MeSooLaLa</td>\n",
              "      <td>Orange, CA</td>\n",
              "      <td>UNKNOWN</td>\n",
              "      <td>['CovidVaccine', 'trustscience', 'vaccinated']</td>\n",
              "    </tr>\n",
              "    <tr>\n",
              "      <th>23</th>\n",
              "      <td>2021-03-17 19:50:14</td>\n",
              "      <td>That's TOTALLY me when I'm an old timer... 🤣🤣🤣...</td>\n",
              "      <td>Mockingjay20211</td>\n",
              "      <td>District 13</td>\n",
              "      <td>UNKNOWN</td>\n",
              "      <td>['CovidVaccine', 'vaccine', 'covid']</td>\n",
              "    </tr>\n",
              "    <tr>\n",
              "      <th>24</th>\n",
              "      <td>2021-03-17 19:50:11</td>\n",
              "      <td>Over 5.2 Million #Covid19Vaccinations Administ...</td>\n",
              "      <td>AfricaNowOnline</td>\n",
              "      <td>Washington, DC</td>\n",
              "      <td>UNKNOWN</td>\n",
              "      <td>['Covid19Vaccinations', 'COVIDVaccine', 'COVID...</td>\n",
              "    </tr>\n",
              "  </tbody>\n",
              "</table>\n",
              "</div>"
            ],
            "text/plain": [
              "              TweetDate  ...                                        AllHashtags\n",
              "0   2021-03-17 19:55:24  ...                                   ['CovidVaccine']\n",
              "1   2021-03-17 19:55:03  ...  ['SanFrancisco', 'CADepartmentofHealth', 'vacc...\n",
              "2   2021-03-17 19:54:47  ...                                   ['CovidVaccine']\n",
              "3   2021-03-17 19:54:12  ...  ['CLDS', 'equal', 'access', 'CovidVaccine', 'P...\n",
              "4   2021-03-17 19:53:58  ...                       ['COVID19vaccine', 'Quebec']\n",
              "5   2021-03-17 19:53:48  ...  ['vaccine', 'trump', 'coronavirus', 'covid19',...\n",
              "6   2021-03-17 19:53:34  ...                   ['rona', 'vaccinated', 'imatop']\n",
              "7   2021-03-17 19:53:31  ...                                   ['CovidVaccine']\n",
              "8   2021-03-17 19:53:18  ...  ['StPatricksDay', 'bar', 'restaurants', 'vacci...\n",
              "9   2021-03-17 19:53:06  ...  ['CNN', 'MSNBC', 'blacktwitter', 'jobs', 'COVI...\n",
              "10  2021-03-17 19:53:04  ...  ['u50lm', 'Covid19UK', 'COVID', 'vaccine', 'co...\n",
              "11  2021-03-17 19:52:52  ...  ['AstraZenaca', 'guinness', 'CovidVaccine', 'S...\n",
              "12  2021-03-17 19:52:32  ...    ['CovidVaccine', 'COVID19', 'covidanniversary']\n",
              "13  2021-03-17 19:52:25  ...  ['CovidVaccine', 'EUVaccine', 'vaccine', 'Covi...\n",
              "14  2021-03-17 19:52:01  ...                         ['teamwork', 'vaccinated']\n",
              "15  2021-03-17 19:51:56  ...                                   ['CovidVaccine']\n",
              "16  2021-03-17 19:51:37  ...                ['CovidVaccine', 'NHSCovidVaccine']\n",
              "17  2021-03-17 19:51:08  ...  ['WearAMask', 'SocialDistance', 'StayHome', 'C...\n",
              "18  2021-03-17 19:51:08  ...       ['iamnotthrowingawaymyshot', 'COVIDvaccine']\n",
              "19  2021-03-17 19:50:54  ...  ['freethevaccine', 'DeathSantis', 'CovidVaccine']\n",
              "20  2021-03-17 19:50:53  ...  ['AstraZenaca', 'EU', 'CovidVaccine', 'COVID19...\n",
              "21  2021-03-17 19:50:36  ...                                   ['CovidVaccine']\n",
              "22  2021-03-17 19:50:28  ...     ['CovidVaccine', 'trustscience', 'vaccinated']\n",
              "23  2021-03-17 19:50:14  ...               ['CovidVaccine', 'vaccine', 'covid']\n",
              "24  2021-03-17 19:50:11  ...  ['Covid19Vaccinations', 'COVIDVaccine', 'COVID...\n",
              "\n",
              "[25 rows x 6 columns]"
            ]
          },
          "metadata": {
            "tags": []
          },
          "execution_count": 1
        }
      ]
    },
    {
      "cell_type": "code",
      "metadata": {
        "colab": {
          "base_uri": "https://localhost:8080/"
        },
        "id": "roJjkW8jvdFD",
        "outputId": "91ce9478-204b-4738-f632-b6ffb7ba22ed"
      },
      "source": [
        "!pip install geopy"
      ],
      "execution_count": 2,
      "outputs": [
        {
          "output_type": "stream",
          "text": [
            "Requirement already satisfied: geopy in /usr/local/lib/python3.7/dist-packages (1.17.0)\n",
            "Requirement already satisfied: geographiclib<2,>=1.49 in /usr/local/lib/python3.7/dist-packages (from geopy) (1.50)\n"
          ],
          "name": "stdout"
        }
      ]
    },
    {
      "cell_type": "code",
      "metadata": {
        "id": "bGMvjwxRE-Pc",
        "colab": {
          "base_uri": "https://localhost:8080/"
        },
        "outputId": "a22f6c78-0948-4db3-b2b9-186a8fe21cfe"
      },
      "source": [
        "import numpy as np\n",
        "import re\n",
        "\n",
        "# Reading emoji patterns which contains emoticons , symbols & pictographs, transport & map symbols , flags\n",
        "emojisCollection = re.compile(\"[\"\n",
        "                       u\"\\U0001F600-\\U0001F64F\"  \n",
        "                       u\"\\U0001F300-\\U0001F5FF\"  \n",
        "                       u\"\\U0001F680-\\U0001F6FF\"  \n",
        "                       u\"\\U0001F1E0-\\U0001F1FF\"  \n",
        "                       u\"\\U00002702-\\U000027B0\"\n",
        "                       u\"\\U000024C2-\\U0001F251\"\n",
        "                       \"]+\", flags=re.UNICODE)\n",
        "df['TweetLocation'] = (df['TweetLocation'].str.replace(emojisCollection, '').str.strip())\n",
        "\n",
        "df['TweetLocation'] = df.TweetLocation.str.split(', ').str.get(0)\n",
        "df['TweetLocation'] = df['TweetLocation'].replace(np.nan, 'Unknown', regex=True)\n",
        "df['TweetLocation']"
      ],
      "execution_count": 10,
      "outputs": [
        {
          "output_type": "execute_result",
          "data": {
            "text/plain": [
              "0                     San Antonio\n",
              "1                         Unknown\n",
              "2                         Unknown\n",
              "3                          London\n",
              "4                        Montreal\n",
              "5                   United States\n",
              "6                       Las Vegas\n",
              "7                      Georgetown\n",
              "8                        Portland\n",
              "9                      Pittsburgh\n",
              "10                        Unknown\n",
              "11                      Gateshead\n",
              "12                         Indore\n",
              "13                        England\n",
              "14                        Unknown\n",
              "15                      Frankfort\n",
              "16    Royaume-Uni. United Kingdom\n",
              "17                         Canada\n",
              "18                        Unknown\n",
              "19                   Winter Haven\n",
              "20                      Beckenham\n",
              "21                        Unknown\n",
              "22                         Orange\n",
              "23                    District 13\n",
              "24                     Washington\n",
              "Name: TweetLocation, dtype: object"
            ]
          },
          "metadata": {
            "tags": []
          },
          "execution_count": 10
        }
      ]
    },
    {
      "cell_type": "code",
      "metadata": {
        "id": "KltxryHevizF"
      },
      "source": [
        "from functools import partial\n",
        "from geopy.geocoders import Nominatim\n",
        "import re\n",
        "\n",
        "countryList =[]\n",
        "def checkCountry(city):\n",
        "  geolocator = Nominatim(user_agent=\"COVID-19 vaccination attitudes\")\n",
        "  geocode = partial(geolocator.geocode, language=\"en\")\n",
        "  if city != \"Unknown\" and not re.match(r'^[_\\W]+$', city)  :\n",
        "    location = geocode(city)   \n",
        "    if location.address.find(\", \") != -1:      \n",
        "      country = str(location.address).split(\", \")[-1] \n",
        "    elif location is None:\n",
        "      country = \"Unknown\"   \n",
        "    else:\n",
        "      country = location.address          \n",
        "  else:    \n",
        "    country = \"Unknown\" \n",
        "  print('City :', city , 'Country : ' , country)  \n",
        "  return country\n",
        "\n",
        "    "
      ],
      "execution_count": 27,
      "outputs": []
    },
    {
      "cell_type": "code",
      "metadata": {
        "id": "psdH_XDY5awp",
        "colab": {
          "base_uri": "https://localhost:8080/"
        },
        "outputId": "7ac59e34-5f32-4553-e0c9-453c5b5693cb"
      },
      "source": [
        "cities=[]\n",
        "countries=[]\n",
        "cities = df['TweetLocation'].tolist()\n",
        "for city in cities:\n",
        "    try:\n",
        "        countries.append(checkCountry(city))  #Calling the checkCountry function\n",
        "    except:\n",
        "        countries.append('Excetion Raised while retriving Country')"
      ],
      "execution_count": 28,
      "outputs": [
        {
          "output_type": "stream",
          "text": [
            "City : San Antonio Country :  United States\n",
            "City : Unknown Country :  Unknown\n",
            "City : Unknown Country :  Unknown\n",
            "City : London Country :  United Kingdom\n",
            "City : Montreal Country :  Canada\n",
            "City : United States Country :  United States\n",
            "City : Las Vegas Country :  United States\n",
            "City : Georgetown Country :  Guyana\n",
            "City : Portland Country :  United States\n",
            "City : Pittsburgh Country :  United States\n",
            "City : Unknown Country :  Unknown\n",
            "City : Gateshead Country :  United Kingdom\n",
            "City : Indore Country :  India\n",
            "City : England Country :  United Kingdom\n",
            "City : Unknown Country :  Unknown\n",
            "City : Frankfort Country :  Germany\n",
            "City : Royaume-Uni. United Kingdom Country :  United Kingdom\n",
            "City : Canada Country :  Canada\n",
            "City : Unknown Country :  Unknown\n",
            "City : Winter Haven Country :  United States\n",
            "City : Beckenham Country :  United Kingdom\n",
            "City : Unknown Country :  Unknown\n",
            "City : Orange Country :  United States\n",
            "City : District 13 Country :  Iran\n",
            "City : Washington Country :  United States\n"
          ],
          "name": "stdout"
        }
      ]
    },
    {
      "cell_type": "code",
      "metadata": {
        "colab": {
          "base_uri": "https://localhost:8080/"
        },
        "id": "biXtpo4v9n2x",
        "outputId": "3265f0cb-cf15-429b-d0bf-3b61f1fd514b"
      },
      "source": [
        "countries"
      ],
      "execution_count": 29,
      "outputs": [
        {
          "output_type": "execute_result",
          "data": {
            "text/plain": [
              "['United States',\n",
              " 'Unknown',\n",
              " 'Unknown',\n",
              " 'United Kingdom',\n",
              " 'Canada',\n",
              " 'United States',\n",
              " 'United States',\n",
              " 'Guyana',\n",
              " 'United States',\n",
              " 'United States',\n",
              " 'Unknown',\n",
              " 'United Kingdom',\n",
              " 'India',\n",
              " 'United Kingdom',\n",
              " 'Unknown',\n",
              " 'Germany',\n",
              " 'United Kingdom',\n",
              " 'Canada',\n",
              " 'Unknown',\n",
              " 'United States',\n",
              " 'United Kingdom',\n",
              " 'Unknown',\n",
              " 'United States',\n",
              " 'Iran',\n",
              " 'United States']"
            ]
          },
          "metadata": {
            "tags": []
          },
          "execution_count": 29
        }
      ]
    },
    {
      "cell_type": "code",
      "metadata": {
        "id": "ygkTlk-LJ9v0"
      },
      "source": [
        "dict_1=dict(zip(cities,countries))"
      ],
      "execution_count": 30,
      "outputs": []
    },
    {
      "cell_type": "code",
      "metadata": {
        "id": "-mdmXe-TJ-ev",
        "colab": {
          "base_uri": "https://localhost:8080/"
        },
        "outputId": "82d4b1eb-273f-4574-d571-ed84dc2c2285"
      },
      "source": [
        "df['Country']=df['TweetLocation'].map(dict_1)\n",
        "df['Country']"
      ],
      "execution_count": 31,
      "outputs": [
        {
          "output_type": "execute_result",
          "data": {
            "text/plain": [
              "0      United States\n",
              "1            Unknown\n",
              "2            Unknown\n",
              "3     United Kingdom\n",
              "4             Canada\n",
              "5      United States\n",
              "6      United States\n",
              "7             Guyana\n",
              "8      United States\n",
              "9      United States\n",
              "10           Unknown\n",
              "11    United Kingdom\n",
              "12             India\n",
              "13    United Kingdom\n",
              "14           Unknown\n",
              "15           Germany\n",
              "16    United Kingdom\n",
              "17            Canada\n",
              "18           Unknown\n",
              "19     United States\n",
              "20    United Kingdom\n",
              "21           Unknown\n",
              "22     United States\n",
              "23              Iran\n",
              "24     United States\n",
              "Name: Country, dtype: object"
            ]
          },
          "metadata": {
            "tags": []
          },
          "execution_count": 31
        }
      ]
    }
  ]
}