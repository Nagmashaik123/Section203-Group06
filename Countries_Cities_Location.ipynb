{
  "nbformat": 4,
  "nbformat_minor": 0,
  "metadata": {
    "colab": {
      "name": "Countries_Cities_Location.ipynb",
      "provenance": [],
      "collapsed_sections": [],
      "authorship_tag": "ABX9TyNUvW+0036ohlgF4BNimNSg",
      "include_colab_link": true
    },
    "kernelspec": {
      "name": "python3",
      "display_name": "Python 3"
    }
  },
  "cells": [
    {
      "cell_type": "markdown",
      "metadata": {
        "id": "view-in-github",
        "colab_type": "text"
      },
      "source": [
        "<a href=\"https://colab.research.google.com/github/Nagmashaik123/Section203-Group06/blob/main/Countries_Cities_Location.ipynb\" target=\"_parent\"><img src=\"https://colab.research.google.com/assets/colab-badge.svg\" alt=\"Open In Colab\"/></a>"
      ]
    },
    {
      "cell_type": "code",
      "metadata": {
        "id": "vKCWwK-fvXpI"
      },
      "source": [
        "import pandas as pd\n",
        "df=pd.read_csv(r\"CovidVaccine.csv\",error_bad_lines=False)\n",
        "df"
      ],
      "execution_count": null,
      "outputs": []
    },
    {
      "cell_type": "code",
      "metadata": {
        "colab": {
          "base_uri": "https://localhost:8080/"
        },
        "id": "roJjkW8jvdFD",
        "outputId": "1135865d-ba7f-411a-fb13-296f8adaa255"
      },
      "source": [
        "!pip install geopy"
      ],
      "execution_count": 36,
      "outputs": [
        {
          "output_type": "stream",
          "text": [
            "Requirement already satisfied: geopy in /usr/local/lib/python3.7/dist-packages (1.17.0)\n",
            "Requirement already satisfied: geographiclib<2,>=1.49 in /usr/local/lib/python3.7/dist-packages (from geopy) (1.50)\n"
          ],
          "name": "stdout"
        }
      ]
    },
    {
      "cell_type": "code",
      "metadata": {
        "id": "bGMvjwxRE-Pc",
        "outputId": "4e848fe7-dd8e-43a6-c698-f3d92fb86cfd",
        "colab": {
          "base_uri": "https://localhost:8080/"
        }
      },
      "source": [
        "import numpy as np\n",
        "import re\n",
        "\n",
        "# Reading emoji patterns which contains emoticons , symbols & pictographs, transport & map symbols , flags\n",
        "emojisCollection = re.compile(\"[\"\n",
        "                       u\"\\U0001F600-\\U0001F64F\"  \n",
        "                       u\"\\U0001F300-\\U0001F5FF\"  \n",
        "                       u\"\\U0001F680-\\U0001F6FF\"  \n",
        "                       u\"\\U0001F1E0-\\U0001F1FF\"  \n",
        "                       u\"\\U00002702-\\U000027B0\"\n",
        "                       u\"\\U000024C2-\\U0001F251\"\n",
        "                       \"]+\", flags=re.UNICODE)\n",
        "df['TweetLocation'] = (df['TweetLocation'].str.replace(emojisCollection, '').str.strip())\n",
        "\n",
        "df['TweetLocation'] = df.TweetLocation.str.split(', ').str.get(0)\n",
        "df['TweetLocation'] = df['TweetLocation'].replace(np.nan, 'Unknown', regex=True)\n",
        "df['TweetLocation']"
      ],
      "execution_count": 37,
      "outputs": [
        {
          "output_type": "execute_result",
          "data": {
            "text/plain": [
              "0                     San Antonio\n",
              "1                         Unknown\n",
              "2                         Unknown\n",
              "3                          London\n",
              "4                        Montreal\n",
              "5                   United States\n",
              "6                       Las Vegas\n",
              "7                      Georgetown\n",
              "8                        Portland\n",
              "9                      Pittsburgh\n",
              "10                        Unknown\n",
              "11                      Gateshead\n",
              "12                         Indore\n",
              "13                        England\n",
              "14                        Unknown\n",
              "15                      Frankfort\n",
              "16    Royaume-Uni. United Kingdom\n",
              "17                         Canada\n",
              "18                        Unknown\n",
              "19                   Winter Haven\n",
              "20                      Beckenham\n",
              "21                        Unknown\n",
              "22                         Orange\n",
              "23                    District 13\n",
              "24                     Washington\n",
              "Name: TweetLocation, dtype: object"
            ]
          },
          "metadata": {
            "tags": []
          },
          "execution_count": 37
        }
      ]
    },
    {
      "cell_type": "code",
      "metadata": {
        "id": "KltxryHevizF"
      },
      "source": [
        "from functools import partial\n",
        "from geopy.geocoders import Nominatim\n",
        "import re\n",
        "\n",
        "countryList =[]\n",
        "def checkCountry(city):\n",
        "  geolocator = Nominatim(user_agent=\"COVID-19 vaccination attitudes\")\n",
        "  geocode = partial(geolocator.geocode, language=\"en\")\n",
        "  if city != \"Unknown\" and not re.match(r'^[_\\W]+$', city)  :\n",
        "    countries = geocode(city)   \n",
        "    if countries.find(\", \") != -1:      \n",
        "      country = str(countries).split(\", \")[-1]\n",
        "      countryList.append(country) \n",
        "    elif countries is None:\n",
        "      countryList.append(\"Unknown\")    \n",
        "    else:\n",
        "      countryList.append(countries)          \n",
        "  else:\n",
        "    countryList.append(\"Unknown\")\n",
        "    return countryList\n",
        "    "
      ],
      "execution_count": 51,
      "outputs": []
    },
    {
      "cell_type": "code",
      "metadata": {
        "id": "psdH_XDY5awp"
      },
      "source": [
        "cities=[]\n",
        "countries=[]\n",
        "cities = df['TweetLocation'].tolist()\n",
        "for city in cities:\n",
        "    try:\n",
        "        countries.append(checkCountry(city))  #Calling the checkCountry function\n",
        "    except:\n",
        "        countries.append('Excetion Raised while retriving Country')"
      ],
      "execution_count": null,
      "outputs": []
    },
    {
      "cell_type": "code",
      "metadata": {
        "id": "ygkTlk-LJ9v0"
      },
      "source": [
        "dict_1=dict(zip(cities,countries))"
      ],
      "execution_count": 18,
      "outputs": []
    },
    {
      "cell_type": "code",
      "metadata": {
        "id": "-mdmXe-TJ-ev"
      },
      "source": [
        "df['Country']=df['TweetLocation'].map(dict_1)\n",
        "df['Country']"
      ],
      "execution_count": null,
      "outputs": []
    }
  ]
}