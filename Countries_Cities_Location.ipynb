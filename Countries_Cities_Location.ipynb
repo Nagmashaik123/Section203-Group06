{
  "nbformat": 4,
  "nbformat_minor": 0,
  "metadata": {
    "colab": {
      "name": "Countries_Cities_Location.ipynb",
      "provenance": [],
      "collapsed_sections": [],
      "authorship_tag": "ABX9TyMURx+f+VkgABdPALw79K/H",
      "include_colab_link": true
    },
    "kernelspec": {
      "name": "python3",
      "display_name": "Python 3"
    }
  },
  "cells": [
    {
      "cell_type": "markdown",
      "metadata": {
        "id": "view-in-github",
        "colab_type": "text"
      },
      "source": [
        "<a href=\"https://colab.research.google.com/github/Nagmashaik123/Section203-Group06/blob/main/Countries_Cities_Location.ipynb\" target=\"_parent\"><img src=\"https://colab.research.google.com/assets/colab-badge.svg\" alt=\"Open In Colab\"/></a>"
      ]
    },
    {
      "cell_type": "code",
      "metadata": {
        "id": "vKCWwK-fvXpI"
      },
      "source": [
        "import pandas as pd\n",
        "df=pd.read_csv(r\"CovidVaccine.csv\",error_bad_lines=False)\n",
        "df"
      ],
      "execution_count": null,
      "outputs": []
    },
    {
      "cell_type": "code",
      "metadata": {
        "colab": {
          "base_uri": "https://localhost:8080/"
        },
        "id": "roJjkW8jvdFD",
        "outputId": "8b7ceacc-cbe0-458c-ae9f-aea25d9e91a4"
      },
      "source": [
        "!pip install geopy"
      ],
      "execution_count": 3,
      "outputs": [
        {
          "output_type": "stream",
          "text": [
            "Requirement already satisfied: geopy in /usr/local/lib/python3.7/dist-packages (1.17.0)\n",
            "Requirement already satisfied: geographiclib<2,>=1.49 in /usr/local/lib/python3.7/dist-packages (from geopy) (1.50)\n"
          ],
          "name": "stdout"
        }
      ]
    },
    {
      "cell_type": "code",
      "metadata": {
        "colab": {
          "base_uri": "https://localhost:8080/"
        },
        "id": "bGMvjwxRE-Pc",
        "outputId": "6ecfe686-bc6e-4665-941e-ab405560af6f"
      },
      "source": [
        "import numpy as np\n",
        "import re\n",
        "\n",
        "# Reading emoji patterns which contains emoticons , symbols & pictographs, transport & map symbols , flags\n",
        "emojisCollection = re.compile(\"[\"\n",
        "                       u\"\\U0001F600-\\U0001F64F\"  \n",
        "                       u\"\\U0001F300-\\U0001F5FF\"  \n",
        "                       u\"\\U0001F680-\\U0001F6FF\"  \n",
        "                       u\"\\U0001F1E0-\\U0001F1FF\"  \n",
        "                       u\"\\U00002702-\\U000027B0\"\n",
        "                       u\"\\U000024C2-\\U0001F251\"\n",
        "                       \"]+\", flags=re.UNICODE)\n",
        "df['TweetLocation'] = (df['TweetLocation'].str.replace(emojisCollection, '').str.strip())\n",
        "\n",
        "df['TweetLocation'] = df.TweetLocation.str.split(', ').str.get(0)\n",
        "df['TweetLocation'] = df['TweetLocation'].replace(np.nan, 'Unknown', regex=True)\n",
        "df['TweetLocation']"
      ],
      "execution_count": 4,
      "outputs": [
        {
          "output_type": "execute_result",
          "data": {
            "text/plain": [
              "0            UnKnown\n",
              "1       Huddersfield\n",
              "2         Manchester\n",
              "3            UnKnown\n",
              "4            Chicago\n",
              "            ...     \n",
              "9995              uk\n",
              "9996              uk\n",
              "9997              uk\n",
              "9998           Seoul\n",
              "9999         UnKnown\n",
              "Name: TweetLocation, Length: 10000, dtype: object"
            ]
          },
          "metadata": {
            "tags": []
          },
          "execution_count": 4
        }
      ]
    },
    {
      "cell_type": "code",
      "metadata": {
        "colab": {
          "base_uri": "https://localhost:8080/"
        },
        "id": "KltxryHevizF",
        "outputId": "ce6824cd-3ff8-4ef5-f5ea-c49b94f083cc"
      },
      "source": [
        "from functools import partial\n",
        "from geopy.geocoders import Nominatim\n",
        "import re\n",
        "\n",
        "countryList =[]\n",
        "def checkCountry(city):\n",
        "  geolocator = Nominatim(user_agent=\"COVID-19 vaccination attitudes\")\n",
        "  geocode = partial(geolocator.geocode, language=\"en\")\n",
        "  print(city)\n",
        "\n",
        "  if city != \"Unknown\" and not re.match(r'^[_\\W]+$', city)  :\n",
        "    countries = geocode(city)\n",
        "    if countries is None:\n",
        "      countryList.append(\"Unknown\") \n",
        "    elif countries.find(\",\") != -1:\n",
        "      country = str(countries).split(\",\")[-1]\n",
        "      countryList.append(country)  \n",
        "    else:\n",
        "      countryList.append(countries)          \n",
        "  else:\n",
        "    countryList.append(\"Unknown\")\n",
        "    return countryList\n",
        "    \n",
        "countryList"
      ],
      "execution_count": 5,
      "outputs": [
        {
          "output_type": "execute_result",
          "data": {
            "text/plain": [
              "[]"
            ]
          },
          "metadata": {
            "tags": []
          },
          "execution_count": 5
        }
      ]
    },
    {
      "cell_type": "code",
      "metadata": {
        "id": "psdH_XDY5awp"
      },
      "source": [
        "cities=[]\n",
        "countries=[]\n",
        "cities = df['TweetLocation'].tolist()\n",
        "for city in cities:\n",
        "    try:\n",
        "        countries.append(checkCountry(city))  #Calling the checkCountry function\n",
        "    except:\n",
        "        countries.append('Excetion Raised while retriving Country')"
      ],
      "execution_count": null,
      "outputs": []
    },
    {
      "cell_type": "code",
      "metadata": {
        "id": "ygkTlk-LJ9v0"
      },
      "source": [
        "dict_1=dict(zip(cities,countries))"
      ],
      "execution_count": null,
      "outputs": []
    },
    {
      "cell_type": "code",
      "metadata": {
        "id": "-mdmXe-TJ-ev"
      },
      "source": [
        "df['Country']=df['TweetLocation'].map(dict_1)"
      ],
      "execution_count": null,
      "outputs": []
    }
  ]
}