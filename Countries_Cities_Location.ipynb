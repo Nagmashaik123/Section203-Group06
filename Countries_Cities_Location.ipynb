{
  "nbformat": 4,
  "nbformat_minor": 0,
  "metadata": {
    "colab": {
      "name": "Countries_Cities_Location.ipynb",
      "provenance": [],
      "collapsed_sections": [],
      "authorship_tag": "ABX9TyMzeKvG4ZXZF1CJUA7Avg5w",
      "include_colab_link": true
    },
    "kernelspec": {
      "name": "python3",
      "display_name": "Python 3"
    }
  },
  "cells": [
    {
      "cell_type": "markdown",
      "metadata": {
        "id": "view-in-github",
        "colab_type": "text"
      },
      "source": [
        "<a href=\"https://colab.research.google.com/github/Nagmashaik123/Section203-Group06/blob/main/Countries_Cities_Location.ipynb\" target=\"_parent\"><img src=\"https://colab.research.google.com/assets/colab-badge.svg\" alt=\"Open In Colab\"/></a>"
      ]
    },
    {
      "cell_type": "code",
      "metadata": {
        "id": "roJjkW8jvdFD",
        "colab": {
          "base_uri": "https://localhost:8080/",
          "height": 708
        },
        "outputId": "fa4ed150-f0e5-4aae-dac8-598f79f3cea0"
      },
      "source": [
        "import pandas as pd\n",
        "df=pd.read_csv(r\"CovidVaccine.csv\")\n",
        "df\n"
      ],
      "execution_count": 2,
      "outputs": [
        {
          "output_type": "execute_result",
          "data": {
            "text/html": [
              "<div>\n",
              "<style scoped>\n",
              "    .dataframe tbody tr th:only-of-type {\n",
              "        vertical-align: middle;\n",
              "    }\n",
              "\n",
              "    .dataframe tbody tr th {\n",
              "        vertical-align: top;\n",
              "    }\n",
              "\n",
              "    .dataframe thead th {\n",
              "        text-align: right;\n",
              "    }\n",
              "</style>\n",
              "<table border=\"1\" class=\"dataframe\">\n",
              "  <thead>\n",
              "    <tr style=\"text-align: right;\">\n",
              "      <th></th>\n",
              "      <th>TweetDate</th>\n",
              "      <th>TweetText</th>\n",
              "      <th>TweetAuthor</th>\n",
              "      <th>TweetLocation</th>\n",
              "      <th>AllHashtags</th>\n",
              "    </tr>\n",
              "  </thead>\n",
              "  <tbody>\n",
              "    <tr>\n",
              "      <th>0</th>\n",
              "      <td>2021-03-26 23:59:59</td>\n",
              "      <td>I'm making spike protein now. Neat!\\n#COVID19V...</td>\n",
              "      <td>kstalenshi</td>\n",
              "      <td>St Louis, MO</td>\n",
              "      <td>['COVID19Vaccine']</td>\n",
              "    </tr>\n",
              "    <tr>\n",
              "      <th>1</th>\n",
              "      <td>2021-03-26 23:59:50</td>\n",
              "      <td>Leo Terrell's emotional reaction to kids' COVI...</td>\n",
              "      <td>timewill10909</td>\n",
              "      <td>United States</td>\n",
              "      <td>['COVID19', 'CovidVaccine', 'MentalHealthAware...</td>\n",
              "    </tr>\n",
              "    <tr>\n",
              "      <th>2</th>\n",
              "      <td>2021-03-26 23:59:33</td>\n",
              "      <td>RT @Despise45: Woohoo!!! Starting in-store #Co...</td>\n",
              "      <td>Teram323Tere</td>\n",
              "      <td>United States</td>\n",
              "      <td>['Covidvaccination']</td>\n",
              "    </tr>\n",
              "    <tr>\n",
              "      <th>3</th>\n",
              "      <td>2021-03-26 23:59:32</td>\n",
              "      <td>Me leaving the medical centre after receiving ...</td>\n",
              "      <td>Neilfax</td>\n",
              "      <td>Brighouse, Calderdale</td>\n",
              "      <td>['CovidVaccine', 'AstraZeneca']</td>\n",
              "    </tr>\n",
              "    <tr>\n",
              "      <th>4</th>\n",
              "      <td>2021-03-26 23:59:23</td>\n",
              "      <td>RT @vanmoofer: this is the Tesla of eBikes\\n\\n...</td>\n",
              "      <td>teslaccu</td>\n",
              "      <td>World</td>\n",
              "      <td>['emobility']</td>\n",
              "    </tr>\n",
              "    <tr>\n",
              "      <th>...</th>\n",
              "      <td>...</td>\n",
              "      <td>...</td>\n",
              "      <td>...</td>\n",
              "      <td>...</td>\n",
              "      <td>...</td>\n",
              "    </tr>\n",
              "    <tr>\n",
              "      <th>9995</th>\n",
              "      <td>2021-03-26 08:04:02</td>\n",
              "      <td>RT @GCPartridge: And amongst the @M0MSuk  #bre...</td>\n",
              "      <td>makesmilk</td>\n",
              "      <td>London, UK</td>\n",
              "      <td>['breastfeeding', 'CovidVaccine']</td>\n",
              "    </tr>\n",
              "    <tr>\n",
              "      <th>9996</th>\n",
              "      <td>2021-03-26 08:04:00</td>\n",
              "      <td>From the registration process to getting #COVI...</td>\n",
              "      <td>drharshvardhan</td>\n",
              "      <td>Delhi</td>\n",
              "      <td>['COVID19Vaccine', 'COVID19Vaccination']</td>\n",
              "    </tr>\n",
              "    <tr>\n",
              "      <th>9997</th>\n",
              "      <td>2021-03-26 08:04:00</td>\n",
              "      <td>‘Dawai Bhi, Kadhai Bhi’ - Adopt to the #NewNor...</td>\n",
              "      <td>PIBSrinagar</td>\n",
              "      <td>Srinagar, Kashmir</td>\n",
              "      <td>['NewNormal', 'COVIDVaccine']</td>\n",
              "    </tr>\n",
              "    <tr>\n",
              "      <th>9998</th>\n",
              "      <td>2021-03-26 08:03:43</td>\n",
              "      <td>RT @DDNewslive: More than 5.5 cr #COVID19Vacci...</td>\n",
              "      <td>MKRaichand_IND</td>\n",
              "      <td>भारत</td>\n",
              "      <td>['COVID19Vaccine']</td>\n",
              "    </tr>\n",
              "    <tr>\n",
              "      <th>9999</th>\n",
              "      <td>2021-03-26 08:03:30</td>\n",
              "      <td>At some point someone will put a figure on the...</td>\n",
              "      <td>BRAVENEWEUROPE1</td>\n",
              "      <td>NaN</td>\n",
              "      <td>['EuropeanUnion', 'COVID19', 'CovidVaccine', '...</td>\n",
              "    </tr>\n",
              "  </tbody>\n",
              "</table>\n",
              "<p>10000 rows × 5 columns</p>\n",
              "</div>"
            ],
            "text/plain": [
              "                TweetDate  ...                                        AllHashtags\n",
              "0     2021-03-26 23:59:59  ...                                 ['COVID19Vaccine']\n",
              "1     2021-03-26 23:59:50  ...  ['COVID19', 'CovidVaccine', 'MentalHealthAware...\n",
              "2     2021-03-26 23:59:33  ...                               ['Covidvaccination']\n",
              "3     2021-03-26 23:59:32  ...                    ['CovidVaccine', 'AstraZeneca']\n",
              "4     2021-03-26 23:59:23  ...                                      ['emobility']\n",
              "...                   ...  ...                                                ...\n",
              "9995  2021-03-26 08:04:02  ...                  ['breastfeeding', 'CovidVaccine']\n",
              "9996  2021-03-26 08:04:00  ...           ['COVID19Vaccine', 'COVID19Vaccination']\n",
              "9997  2021-03-26 08:04:00  ...                      ['NewNormal', 'COVIDVaccine']\n",
              "9998  2021-03-26 08:03:43  ...                                 ['COVID19Vaccine']\n",
              "9999  2021-03-26 08:03:30  ...  ['EuropeanUnion', 'COVID19', 'CovidVaccine', '...\n",
              "\n",
              "[10000 rows x 5 columns]"
            ]
          },
          "metadata": {
            "tags": []
          },
          "execution_count": 2
        }
      ]
    },
    {
      "cell_type": "code",
      "metadata": {
        "id": "mVznv2-v8b6h",
        "colab": {
          "base_uri": "https://localhost:8080/"
        },
        "outputId": "abcc5304-e05d-414a-f225-58257562c954"
      },
      "source": [
        "!pip install geopy"
      ],
      "execution_count": 3,
      "outputs": [
        {
          "output_type": "stream",
          "text": [
            "Requirement already satisfied: geopy in /usr/local/lib/python3.7/dist-packages (1.17.0)\n",
            "Requirement already satisfied: geographiclib<2,>=1.49 in /usr/local/lib/python3.7/dist-packages (from geopy) (1.50)\n"
          ],
          "name": "stdout"
        }
      ]
    },
    {
      "cell_type": "code",
      "metadata": {
        "id": "bGMvjwxRE-Pc",
        "colab": {
          "base_uri": "https://localhost:8080/"
        },
        "outputId": "c3c72690-fab8-4e29-8ae7-5d2ea9aee09d"
      },
      "source": [
        "import numpy as np\n",
        "import re\n",
        "\n",
        "# Reading emoji patterns which contains emoticons , symbols & pictographs, transport & map symbols , flags\n",
        "emojisCollection = re.compile(\"[\"\n",
        "                       u\"\\U0001F600-\\U0001F64F\"  \n",
        "                       u\"\\U0001F300-\\U0001F5FF\"  \n",
        "                       u\"\\U0001F680-\\U0001F6FF\"  \n",
        "                       u\"\\U0001F1E0-\\U0001F1FF\"  \n",
        "                       u\"\\U00002702-\\U000027B0\"\n",
        "                       u\"\\U000024C2-\\U0001F251\"\n",
        "                       \"]+\", flags=re.UNICODE)\n",
        "df['TweetLocation'] = (df['TweetLocation'].str.replace(emojisCollection, '').str.strip())\n",
        "\n",
        "df['TweetLocation'] = df.TweetLocation.str.split(', ').str.get(0)\n",
        "df['TweetLocation'] = df['TweetLocation'].replace(np.nan, 'Unknown', regex=True)\n",
        "df['TweetLocation']"
      ],
      "execution_count": 4,
      "outputs": [
        {
          "output_type": "execute_result",
          "data": {
            "text/plain": [
              "0            St Louis\n",
              "1       United States\n",
              "2       United States\n",
              "3           Brighouse\n",
              "4               World\n",
              "            ...      \n",
              "9995           London\n",
              "9996            Delhi\n",
              "9997         Srinagar\n",
              "9998             भारत\n",
              "9999          Unknown\n",
              "Name: TweetLocation, Length: 10000, dtype: object"
            ]
          },
          "metadata": {
            "tags": []
          },
          "execution_count": 4
        }
      ]
    },
    {
      "cell_type": "code",
      "metadata": {
        "id": "KltxryHevizF"
      },
      "source": [
        "from functools import partial\n",
        "from geopy.geocoders import Nominatim\n",
        "import re\n",
        "\n",
        "countryList =[]\n",
        "geolocator = Nominatim(user_agent=\"COVID-19 vaccination attitudes\")\n",
        "geocode = partial(geolocator.geocode, language=\"en\")\n",
        "# Function to map the country for the corresponding city location\n",
        "def checkCountry(city):\n",
        "  \n",
        "  # passing the city through geocode api to return the location if city is not unknow\n",
        "  if city != \"Unknown\":\n",
        "    location = geocode(city)   \n",
        "    if location is None: \n",
        "      country = \"Unknown\" \n",
        "    else:\n",
        "      country = str(location.address).split(\", \")[-1]   \n",
        "    \n",
        "  # If city is not known then setting country as Unknown        \n",
        "  else:    \n",
        "    country = \"Unknown\"   \n",
        "  return country\n"
      ],
      "execution_count": 5,
      "outputs": []
    },
    {
      "cell_type": "code",
      "metadata": {
        "id": "psdH_XDY5awp"
      },
      "source": [
        "cities=[]\n",
        "countries=[]\n",
        "cities = df['TweetLocation'].tolist()\n",
        "for city in cities:\n",
        "    try:\n",
        "        countries.append(checkCountry(city))  #Calling the checkCountry function\n",
        "    except:\n",
        "        countries.append('Unknown')"
      ],
      "execution_count": 6,
      "outputs": []
    },
    {
      "cell_type": "code",
      "metadata": {
        "id": "ygkTlk-LJ9v0"
      },
      "source": [
        "# Zipping city and corresponding country together\n",
        "dict_1=dict(zip(cities,countries))"
      ],
      "execution_count": 7,
      "outputs": []
    },
    {
      "cell_type": "code",
      "metadata": {
        "id": "-mdmXe-TJ-ev",
        "colab": {
          "base_uri": "https://localhost:8080/",
          "height": 779
        },
        "outputId": "d3c1a590-3f5f-483a-b995-0e69f89b35f4"
      },
      "source": [
        "df['Country']=df['TweetLocation'].map(dict_1)\n",
        "df"
      ],
      "execution_count": 8,
      "outputs": [
        {
          "output_type": "execute_result",
          "data": {
            "text/html": [
              "<div>\n",
              "<style scoped>\n",
              "    .dataframe tbody tr th:only-of-type {\n",
              "        vertical-align: middle;\n",
              "    }\n",
              "\n",
              "    .dataframe tbody tr th {\n",
              "        vertical-align: top;\n",
              "    }\n",
              "\n",
              "    .dataframe thead th {\n",
              "        text-align: right;\n",
              "    }\n",
              "</style>\n",
              "<table border=\"1\" class=\"dataframe\">\n",
              "  <thead>\n",
              "    <tr style=\"text-align: right;\">\n",
              "      <th></th>\n",
              "      <th>TweetDate</th>\n",
              "      <th>TweetText</th>\n",
              "      <th>TweetAuthor</th>\n",
              "      <th>TweetLocation</th>\n",
              "      <th>AllHashtags</th>\n",
              "      <th>Country</th>\n",
              "    </tr>\n",
              "  </thead>\n",
              "  <tbody>\n",
              "    <tr>\n",
              "      <th>0</th>\n",
              "      <td>2021-03-26 23:59:59</td>\n",
              "      <td>I'm making spike protein now. Neat!\\n#COVID19V...</td>\n",
              "      <td>kstalenshi</td>\n",
              "      <td>St Louis</td>\n",
              "      <td>['COVID19Vaccine']</td>\n",
              "      <td>United States</td>\n",
              "    </tr>\n",
              "    <tr>\n",
              "      <th>1</th>\n",
              "      <td>2021-03-26 23:59:50</td>\n",
              "      <td>Leo Terrell's emotional reaction to kids' COVI...</td>\n",
              "      <td>timewill10909</td>\n",
              "      <td>United States</td>\n",
              "      <td>['COVID19', 'CovidVaccine', 'MentalHealthAware...</td>\n",
              "      <td>United States</td>\n",
              "    </tr>\n",
              "    <tr>\n",
              "      <th>2</th>\n",
              "      <td>2021-03-26 23:59:33</td>\n",
              "      <td>RT @Despise45: Woohoo!!! Starting in-store #Co...</td>\n",
              "      <td>Teram323Tere</td>\n",
              "      <td>United States</td>\n",
              "      <td>['Covidvaccination']</td>\n",
              "      <td>United States</td>\n",
              "    </tr>\n",
              "    <tr>\n",
              "      <th>3</th>\n",
              "      <td>2021-03-26 23:59:32</td>\n",
              "      <td>Me leaving the medical centre after receiving ...</td>\n",
              "      <td>Neilfax</td>\n",
              "      <td>Brighouse</td>\n",
              "      <td>['CovidVaccine', 'AstraZeneca']</td>\n",
              "      <td>United Kingdom</td>\n",
              "    </tr>\n",
              "    <tr>\n",
              "      <th>4</th>\n",
              "      <td>2021-03-26 23:59:23</td>\n",
              "      <td>RT @vanmoofer: this is the Tesla of eBikes\\n\\n...</td>\n",
              "      <td>teslaccu</td>\n",
              "      <td>World</td>\n",
              "      <td>['emobility']</td>\n",
              "      <td>United Arab Emirates</td>\n",
              "    </tr>\n",
              "    <tr>\n",
              "      <th>...</th>\n",
              "      <td>...</td>\n",
              "      <td>...</td>\n",
              "      <td>...</td>\n",
              "      <td>...</td>\n",
              "      <td>...</td>\n",
              "      <td>...</td>\n",
              "    </tr>\n",
              "    <tr>\n",
              "      <th>9995</th>\n",
              "      <td>2021-03-26 08:04:02</td>\n",
              "      <td>RT @GCPartridge: And amongst the @M0MSuk  #bre...</td>\n",
              "      <td>makesmilk</td>\n",
              "      <td>London</td>\n",
              "      <td>['breastfeeding', 'CovidVaccine']</td>\n",
              "      <td>United Kingdom</td>\n",
              "    </tr>\n",
              "    <tr>\n",
              "      <th>9996</th>\n",
              "      <td>2021-03-26 08:04:00</td>\n",
              "      <td>From the registration process to getting #COVI...</td>\n",
              "      <td>drharshvardhan</td>\n",
              "      <td>Delhi</td>\n",
              "      <td>['COVID19Vaccine', 'COVID19Vaccination']</td>\n",
              "      <td>India</td>\n",
              "    </tr>\n",
              "    <tr>\n",
              "      <th>9997</th>\n",
              "      <td>2021-03-26 08:04:00</td>\n",
              "      <td>‘Dawai Bhi, Kadhai Bhi’ - Adopt to the #NewNor...</td>\n",
              "      <td>PIBSrinagar</td>\n",
              "      <td>Srinagar</td>\n",
              "      <td>['NewNormal', 'COVIDVaccine']</td>\n",
              "      <td>India</td>\n",
              "    </tr>\n",
              "    <tr>\n",
              "      <th>9998</th>\n",
              "      <td>2021-03-26 08:03:43</td>\n",
              "      <td>RT @DDNewslive: More than 5.5 cr #COVID19Vacci...</td>\n",
              "      <td>MKRaichand_IND</td>\n",
              "      <td>भारत</td>\n",
              "      <td>['COVID19Vaccine']</td>\n",
              "      <td>India</td>\n",
              "    </tr>\n",
              "    <tr>\n",
              "      <th>9999</th>\n",
              "      <td>2021-03-26 08:03:30</td>\n",
              "      <td>At some point someone will put a figure on the...</td>\n",
              "      <td>BRAVENEWEUROPE1</td>\n",
              "      <td>Unknown</td>\n",
              "      <td>['EuropeanUnion', 'COVID19', 'CovidVaccine', '...</td>\n",
              "      <td>Unknown</td>\n",
              "    </tr>\n",
              "  </tbody>\n",
              "</table>\n",
              "<p>10000 rows × 6 columns</p>\n",
              "</div>"
            ],
            "text/plain": [
              "                TweetDate  ...               Country\n",
              "0     2021-03-26 23:59:59  ...         United States\n",
              "1     2021-03-26 23:59:50  ...         United States\n",
              "2     2021-03-26 23:59:33  ...         United States\n",
              "3     2021-03-26 23:59:32  ...        United Kingdom\n",
              "4     2021-03-26 23:59:23  ...  United Arab Emirates\n",
              "...                   ...  ...                   ...\n",
              "9995  2021-03-26 08:04:02  ...        United Kingdom\n",
              "9996  2021-03-26 08:04:00  ...                 India\n",
              "9997  2021-03-26 08:04:00  ...                 India\n",
              "9998  2021-03-26 08:03:43  ...                 India\n",
              "9999  2021-03-26 08:03:30  ...               Unknown\n",
              "\n",
              "[10000 rows x 6 columns]"
            ]
          },
          "metadata": {
            "tags": []
          },
          "execution_count": 8
        }
      ]
    },
    {
      "cell_type": "code",
      "metadata": {
        "id": "ZGJfaKS_bdwd"
      },
      "source": [
        "df.to_csv('CovidVaccineWorldWide.csv')"
      ],
      "execution_count": 9,
      "outputs": []
    }
  ]
}