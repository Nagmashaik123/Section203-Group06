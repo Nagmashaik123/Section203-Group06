{
  "nbformat": 4,
  "nbformat_minor": 0,
  "metadata": {
    "colab": {
      "name": "Data_Cleaning_Tweets.ipynb",
      "provenance": [],
      "collapsed_sections": [],
      "include_colab_link": true
    },
    "kernelspec": {
      "name": "python3",
      "display_name": "Python 3"
    }
  },
  "cells": [
    {
      "cell_type": "markdown",
      "metadata": {
        "id": "view-in-github",
        "colab_type": "text"
      },
      "source": [
        "<a href=\"https://colab.research.google.com/github/Nagmashaik123/Section203-Group06/blob/main/Data_Cleaning_Tweets.ipynb\" target=\"_parent\"><img src=\"https://colab.research.google.com/assets/colab-badge.svg\" alt=\"Open In Colab\"/></a>"
      ]
    },
    {
      "cell_type": "code",
      "metadata": {
        "id": "NSsOJYdx2FVY"
      },
      "source": [
        "import pandas as pd\n",
        "df=pd.read_csv(r\"CovidVaccineWorldWide.csv\")\n",
        "df"
      ],
      "execution_count": null,
      "outputs": []
    },
    {
      "cell_type": "code",
      "metadata": {
        "id": "NryltiVD2OJn"
      },
      "source": [
        "import nltk\n",
        "nltk.download() # d , all ,q"
      ],
      "execution_count": null,
      "outputs": []
    },
    {
      "cell_type": "code",
      "metadata": {
        "id": "U2bz5To9PRC7",
        "colab": {
          "base_uri": "https://localhost:8080/"
        },
        "outputId": "8e82ea1f-5e53-41ca-a2a3-1602edc0bac7"
      },
      "source": [
        "df = df.dropna() # drop null values\n",
        "df.shape"
      ],
      "execution_count": null,
      "outputs": [
        {
          "output_type": "execute_result",
          "data": {
            "text/plain": [
              "(444779, 8)"
            ]
          },
          "metadata": {
            "tags": []
          },
          "execution_count": 19
        }
      ]
    },
    {
      "cell_type": "code",
      "metadata": {
        "id": "kCxePtEz29h7"
      },
      "source": [
        "df[~df.text.str.startswith('RT')]"
      ],
      "execution_count": null,
      "outputs": []
    },
    {
      "cell_type": "code",
      "metadata": {
        "id": "TvugjIKC4CRC"
      },
      "source": [
        "import json\n",
        "import csv\n",
        "import pandas as pd\n",
        "import requests\n",
        "from textblob import Word\n",
        "import nltk\n",
        "nltk.download('wordnet')\n",
        "nltk.download('punkt')\n",
        "from textblob import TextBlob\n",
        "from nltk.stem import PorterStemmer\n",
        "tweets = []\n",
        "cleanedtweets = []\n",
        "df['linksremoved'] = df['TweetText'].str.replace('http\\S+|www.\\S+', '', case=False)\n",
        "df[\"punctuationremoved\"] = df[\"linksremoved\"].str.replace('[^\\w\\s]','')#punctuation\n",
        "df[\"lowercased\"] = df[\"punctuationremoved\"].apply(lambda x: \" \".join(x.lower() for x in x.split()))#lowercase\n",
        "df[\"spellings\"] = df[\"lowercased\"].apply(lambda x: str(TextBlob(x).correct()))#spellings\n",
        "df.to_csv(\"CleanedTweets.csv\")"
      ],
      "execution_count": null,
      "outputs": []
    },
    {
      "cell_type": "code",
      "metadata": {
        "id": "Ze80Nekn2kzA"
      },
      "source": [
        "import re\n",
        "import pandas as pd\n",
        "\n",
        "df= pd.read_csv('CleanedTweets.csv')\n",
        "\n",
        "# Reading emoji patterns which contains emoticons , symbols & pictographs, transport & map symbols , flags\n",
        "emojisCollection = re.compile(\"[\"\n",
        "                       u\"\\U0001F600-\\U0001F64F\"  \n",
        "                       u\"\\U0001F300-\\U0001F5FF\"  \n",
        "                       u\"\\U0001F680-\\U0001F6FF\"  \n",
        "                       u\"\\U0001F1E0-\\U0001F1FF\"  \n",
        "                       u\"\\U00002702-\\U000027B0\"\n",
        "                       u\"\\U000024C2-\\U0001F251\"\n",
        "                       \"]+\", flags=re.UNICODE)\n",
        "df['CleanedTweet'] = (df['spellings'].str.lower().str.replace(r'[^\\w\\s]+', '').str.replace(emojisCollection, '').str.strip())\n"
      ],
      "execution_count": null,
      "outputs": []
    },
    {
      "cell_type": "code",
      "metadata": {
        "id": "baxwAOUl3P5I",
        "colab": {
          "base_uri": "https://localhost:8080/",
          "height": 932
        },
        "outputId": "4b39797e-4a91-472a-df98-1966cf7d336c"
      },
      "source": [
        "dataFrame=df[['TweetDate','TweetText','CleanedTweet','TweetAuthor','TweetLocation','AllHashtags','Country']]\n",
        "dataFrame"
      ],
      "execution_count": null,
      "outputs": [
        {
          "output_type": "execute_result",
          "data": {
            "text/html": [
              "<div>\n",
              "<style scoped>\n",
              "    .dataframe tbody tr th:only-of-type {\n",
              "        vertical-align: middle;\n",
              "    }\n",
              "\n",
              "    .dataframe tbody tr th {\n",
              "        vertical-align: top;\n",
              "    }\n",
              "\n",
              "    .dataframe thead th {\n",
              "        text-align: right;\n",
              "    }\n",
              "</style>\n",
              "<table border=\"1\" class=\"dataframe\">\n",
              "  <thead>\n",
              "    <tr style=\"text-align: right;\">\n",
              "      <th></th>\n",
              "      <th>TweetDate</th>\n",
              "      <th>TweetText</th>\n",
              "      <th>CleanedTweet</th>\n",
              "      <th>TweetAuthor</th>\n",
              "      <th>TweetLocation</th>\n",
              "      <th>AllHashtags</th>\n",
              "      <th>Country</th>\n",
              "    </tr>\n",
              "  </thead>\n",
              "  <tbody>\n",
              "    <tr>\n",
              "      <th>0</th>\n",
              "      <td>2021-03-28 23:59:56</td>\n",
              "      <td>RT @NaheedD: With &amp;gt;400,000 #CovidVaccine do...</td>\n",
              "      <td>rt naheedd with gt400000 covidvaccine doses in...</td>\n",
              "      <td>GuntarsSilders</td>\n",
              "      <td>Hamilton</td>\n",
              "      <td>['CovidVaccine']</td>\n",
              "      <td>Canada</td>\n",
              "    </tr>\n",
              "    <tr>\n",
              "      <th>1</th>\n",
              "      <td>2021-03-28 23:59:54</td>\n",
              "      <td>22 CVS locations show #CovidVaccine slots in C...</td>\n",
              "      <td>22 cvs locations show covidvaccine slots in ca...</td>\n",
              "      <td>VaccineCa</td>\n",
              "      <td>Unknown</td>\n",
              "      <td>['CovidVaccine']</td>\n",
              "      <td>Unknown</td>\n",
              "    </tr>\n",
              "    <tr>\n",
              "      <th>2</th>\n",
              "      <td>2021-03-28 23:59:47</td>\n",
              "      <td>2020: We will be back to normal as soon as we ...</td>\n",
              "      <td>2020 we will be back to normal as soon as we h...</td>\n",
              "      <td>thinkbalancely</td>\n",
              "      <td>Australia</td>\n",
              "      <td>['covid19qld', 'COVID19Aus', 'Covid_19', 'Covi...</td>\n",
              "      <td>Australia</td>\n",
              "    </tr>\n",
              "    <tr>\n",
              "      <th>3</th>\n",
              "      <td>2021-03-28 23:59:45</td>\n",
              "      <td>RT @NaheedD: With &amp;gt;400,000 #CovidVaccine do...</td>\n",
              "      <td>rt naheedd with gt400000 covidvaccine doses in...</td>\n",
              "      <td>BirthSpirit</td>\n",
              "      <td>Toronto</td>\n",
              "      <td>['CovidVaccine']</td>\n",
              "      <td>Canada</td>\n",
              "    </tr>\n",
              "    <tr>\n",
              "      <th>4</th>\n",
              "      <td>2021-03-28 23:59:36</td>\n",
              "      <td>RT @NaheedD: With &amp;gt;400,000 #CovidVaccine do...</td>\n",
              "      <td>rt naheedd with gt400000 covidvaccine doses in...</td>\n",
              "      <td>jeffreyarcand</td>\n",
              "      <td>Ottawa</td>\n",
              "      <td>['CovidVaccine']</td>\n",
              "      <td>Canada</td>\n",
              "    </tr>\n",
              "    <tr>\n",
              "      <th>...</th>\n",
              "      <td>...</td>\n",
              "      <td>...</td>\n",
              "      <td>...</td>\n",
              "      <td>...</td>\n",
              "      <td>...</td>\n",
              "      <td>...</td>\n",
              "      <td>...</td>\n",
              "    </tr>\n",
              "    <tr>\n",
              "      <th>444779</th>\n",
              "      <td>2021-03-25 13:40:53</td>\n",
              "      <td>RT @DrABrownDC: Shout out to @ROWPublicHealth....</td>\n",
              "      <td>rt drabrowndc shout out to rowpublichealth  my...</td>\n",
              "      <td>SusanFoxton1</td>\n",
              "      <td>Unknown</td>\n",
              "      <td>[]</td>\n",
              "      <td>Unknown</td>\n",
              "    </tr>\n",
              "    <tr>\n",
              "      <th>444780</th>\n",
              "      <td>2021-03-25 13:40:52</td>\n",
              "      <td>RT @MaryLTrump: It's been a long fucking year....</td>\n",
              "      <td>rt maryltrump its been a long fucking year hav...</td>\n",
              "      <td>cmchflowersnana</td>\n",
              "      <td>Unknown</td>\n",
              "      <td>['KrispyKreme', 'vaccinated']</td>\n",
              "      <td>Unknown</td>\n",
              "    </tr>\n",
              "    <tr>\n",
              "      <th>444781</th>\n",
              "      <td>2021-03-25 13:40:51</td>\n",
              "      <td>RT @MaryLTrump: It's been a long fucking year....</td>\n",
              "      <td>rt maryltrump its been a long fucking year hav...</td>\n",
              "      <td>slross58</td>\n",
              "      <td>Westchester</td>\n",
              "      <td>['KrispyKreme', 'vaccinated']</td>\n",
              "      <td>United States</td>\n",
              "    </tr>\n",
              "    <tr>\n",
              "      <th>444782</th>\n",
              "      <td>2021-03-25 13:40:50</td>\n",
              "      <td>This should be the headline. \\n\\nHope is alive...</td>\n",
              "      <td>this should be the headline \\n\\nhope is alive ...</td>\n",
              "      <td>drlucymcbride</td>\n",
              "      <td>Washington</td>\n",
              "      <td>['vaccinated', 'Vaccination', 'COVID19', 'trus...</td>\n",
              "      <td>United States</td>\n",
              "    </tr>\n",
              "    <tr>\n",
              "      <th>444783</th>\n",
              "      <td>2021-03-25 13:40:50</td>\n",
              "      <td>RT @EvaUNICEF: Live from #Baghdad Internationa...</td>\n",
              "      <td>rt evaunicef live from baghdad international a...</td>\n",
              "      <td>doris_fiallos</td>\n",
              "      <td>Unknown</td>\n",
              "      <td>['Baghdad', 'Iraq', 'COVID19vaccine', 'COVAX']</td>\n",
              "      <td>Unknown</td>\n",
              "    </tr>\n",
              "  </tbody>\n",
              "</table>\n",
              "<p>444779 rows × 7 columns</p>\n",
              "</div>"
            ],
            "text/plain": [
              "                  TweetDate  ...        Country\n",
              "0       2021-03-28 23:59:56  ...         Canada\n",
              "1       2021-03-28 23:59:54  ...        Unknown\n",
              "2       2021-03-28 23:59:47  ...      Australia\n",
              "3       2021-03-28 23:59:45  ...         Canada\n",
              "4       2021-03-28 23:59:36  ...         Canada\n",
              "...                     ...  ...            ...\n",
              "444779  2021-03-25 13:40:53  ...        Unknown\n",
              "444780  2021-03-25 13:40:52  ...        Unknown\n",
              "444781  2021-03-25 13:40:51  ...  United States\n",
              "444782  2021-03-25 13:40:50  ...  United States\n",
              "444783  2021-03-25 13:40:50  ...        Unknown\n",
              "\n",
              "[444779 rows x 7 columns]"
            ]
          },
          "metadata": {
            "tags": []
          },
          "execution_count": 21
        }
      ]
    },
    {
      "cell_type": "code",
      "metadata": {
        "id": "fAx0NOnd9WoQ"
      },
      "source": [
        "dataFrame.to_csv('ProcessedCovidVaccineReact.csv')"
      ],
      "execution_count": null,
      "outputs": []
    }
  ]
}