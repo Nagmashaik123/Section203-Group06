{
  "nbformat": 4,
  "nbformat_minor": 0,
  "metadata": {
    "colab": {
      "name": "Untitled28.ipynb",
      "provenance": [],
      "include_colab_link": true
    },
    "kernelspec": {
      "name": "python3",
      "display_name": "Python 3"
    },
    "language_info": {
      "name": "python"
    }
  },
  "cells": [
    {
      "cell_type": "markdown",
      "metadata": {
        "id": "view-in-github",
        "colab_type": "text"
      },
      "source": [
        "<a href=\"https://colab.research.google.com/github/Nagmashaik123/Section203-Group06/blob/main/Vacc_Brands_Reactions.ipynb\" target=\"_parent\"><img src=\"https://colab.research.google.com/assets/colab-badge.svg\" alt=\"Open In Colab\"/></a>"
      ]
    },
    {
      "cell_type": "code",
      "metadata": {
        "colab": {
          "base_uri": "https://localhost:8080/",
          "height": 983
        },
        "id": "xN9G6h8us6dc",
        "outputId": "d0329ee4-a5e2-46eb-830a-605069e1a1bd"
      },
      "source": [
        "# Importing dataset for analysis\n",
        "import pandas as pd\n",
        "df=pd.read_csv(r\"ProcessedCovidVaccineReact.csv\")\n",
        "df"
      ],
      "execution_count": null,
      "outputs": [
        {
          "output_type": "execute_result",
          "data": {
            "text/html": [
              "<div>\n",
              "<style scoped>\n",
              "    .dataframe tbody tr th:only-of-type {\n",
              "        vertical-align: middle;\n",
              "    }\n",
              "\n",
              "    .dataframe tbody tr th {\n",
              "        vertical-align: top;\n",
              "    }\n",
              "\n",
              "    .dataframe thead th {\n",
              "        text-align: right;\n",
              "    }\n",
              "</style>\n",
              "<table border=\"1\" class=\"dataframe\">\n",
              "  <thead>\n",
              "    <tr style=\"text-align: right;\">\n",
              "      <th></th>\n",
              "      <th>TweetDate</th>\n",
              "      <th>TweetText</th>\n",
              "      <th>CleanedTweet</th>\n",
              "      <th>TweetAuthor</th>\n",
              "      <th>TweetLocation</th>\n",
              "      <th>AllHashtags</th>\n",
              "      <th>Country</th>\n",
              "    </tr>\n",
              "  </thead>\n",
              "  <tbody>\n",
              "    <tr>\n",
              "      <th>0</th>\n",
              "      <td>2021-03-17 23:59:34</td>\n",
              "      <td>The only way #COVID19 can mutate with variants...</td>\n",
              "      <td>way mutate variants virus replicate hosts peop...</td>\n",
              "      <td>kemsunde</td>\n",
              "      <td>Unknown</td>\n",
              "      <td>['COVID19', 'CovidVaccine', 'GetTheFactsGetThe...</td>\n",
              "      <td>Unknown</td>\n",
              "    </tr>\n",
              "    <tr>\n",
              "      <th>1</th>\n",
              "      <td>2021-03-17 23:59:20</td>\n",
              "      <td>I've now officially had my 1st dose of the #Co...</td>\n",
              "      <td>ive officially dose covidvaccine definitely wo...</td>\n",
              "      <td>ManeckiN</td>\n",
              "      <td>The Wild Western Wastes</td>\n",
              "      <td>['CovidVaccine', 'COVID19', 'PfizerVaccine', '...</td>\n",
              "      <td>Unknown</td>\n",
              "    </tr>\n",
              "    <tr>\n",
              "      <th>2</th>\n",
              "      <td>2021-03-17 23:58:31</td>\n",
              "      <td>@hendopolis Imagine if the #Brexit referendum ...</td>\n",
              "      <td>hendopolis imagine brexit referendum held secr...</td>\n",
              "      <td>raymasseytweets</td>\n",
              "      <td>England</td>\n",
              "      <td>['Brexit', 'EU', 'TrueColours', 'Impfstoff', '...</td>\n",
              "      <td>United Kingdom</td>\n",
              "    </tr>\n",
              "    <tr>\n",
              "      <th>3</th>\n",
              "      <td>2021-03-17 23:58:03</td>\n",
              "      <td>@EICostheta @RicBarraArch1 @insiders Yep. The ...</td>\n",
              "      <td>eicostheta insiders yep liarsnparasites narrow...</td>\n",
              "      <td>MikeFitzAU</td>\n",
              "      <td>Mudjimba</td>\n",
              "      <td>['LiarsNParasites', 'CovidVaccine']</td>\n",
              "      <td>Australia</td>\n",
              "    </tr>\n",
              "    <tr>\n",
              "      <th>4</th>\n",
              "      <td>2021-03-17 23:57:37</td>\n",
              "      <td>This sounds like an important topic for @NickS...</td>\n",
              "      <td>sounds like important topic nicksawyermd tnich...</td>\n",
              "      <td>stephjantzen</td>\n",
              "      <td>Greater Sacramento</td>\n",
              "      <td>['FiresideChat', 'CovidVaccine']</td>\n",
              "      <td>Brazil</td>\n",
              "    </tr>\n",
              "    <tr>\n",
              "      <th>...</th>\n",
              "      <td>...</td>\n",
              "      <td>...</td>\n",
              "      <td>...</td>\n",
              "      <td>...</td>\n",
              "      <td>...</td>\n",
              "      <td>...</td>\n",
              "      <td>...</td>\n",
              "    </tr>\n",
              "    <tr>\n",
              "      <th>352017</th>\n",
              "      <td>2021-04-03 18:39:22</td>\n",
              "      <td>RT @citymississauga: #COVID19Vaccine Booking T...</td>\n",
              "      <td>rt citymississauga booking tip wondering frien...</td>\n",
              "      <td>AnwarKnight</td>\n",
              "      <td>Toronto</td>\n",
              "      <td>['COVID19Vaccine']</td>\n",
              "      <td>Canada</td>\n",
              "    </tr>\n",
              "    <tr>\n",
              "      <th>352018</th>\n",
              "      <td>2021-04-03 18:39:13</td>\n",
              "      <td>RT @iamwandasykes: We’re fully vaccinated and ...</td>\n",
              "      <td>rt iamwandasykes fully vaccinated rejuvenated ...</td>\n",
              "      <td>HarrisTryonLab</td>\n",
              "      <td>Dallas</td>\n",
              "      <td>[]</td>\n",
              "      <td>United States</td>\n",
              "    </tr>\n",
              "    <tr>\n",
              "      <th>352019</th>\n",
              "      <td>2021-04-03 18:39:04</td>\n",
              "      <td>#CovidVaccine and Weird Thoughts by Diane Burt...</td>\n",
              "      <td>covidvaccine weird thoughts diane burton https...</td>\n",
              "      <td>dla1950</td>\n",
              "      <td>http://</td>\n",
              "      <td>['CovidVaccine']</td>\n",
              "      <td>Japan</td>\n",
              "    </tr>\n",
              "    <tr>\n",
              "      <th>352020</th>\n",
              "      <td>2021-04-03 18:38:54</td>\n",
              "      <td>RT @ProfPatOConnor: It’s nice to know that the...</td>\n",
              "      <td>rt profpatoconnor nice know ambitions ceo hse ...</td>\n",
              "      <td>Pepeb72</td>\n",
              "      <td>Cork</td>\n",
              "      <td>[]</td>\n",
              "      <td>Ireland</td>\n",
              "    </tr>\n",
              "    <tr>\n",
              "      <th>352021</th>\n",
              "      <td>2021-04-03 18:38:54</td>\n",
              "      <td>Finally got #Vaccinated today as per the advic...</td>\n",
              "      <td>finally got vaccinated today per advice govern...</td>\n",
              "      <td>DhawalMehta5</td>\n",
              "      <td>Jaipur</td>\n",
              "      <td>['Vaccinated', 'Vaccinations']</td>\n",
              "      <td>India</td>\n",
              "    </tr>\n",
              "  </tbody>\n",
              "</table>\n",
              "<p>352022 rows × 7 columns</p>\n",
              "</div>"
            ],
            "text/plain": [
              "                  TweetDate  ...         Country\n",
              "0       2021-03-17 23:59:34  ...         Unknown\n",
              "1       2021-03-17 23:59:20  ...         Unknown\n",
              "2       2021-03-17 23:58:31  ...  United Kingdom\n",
              "3       2021-03-17 23:58:03  ...       Australia\n",
              "4       2021-03-17 23:57:37  ...          Brazil\n",
              "...                     ...  ...             ...\n",
              "352017  2021-04-03 18:39:22  ...          Canada\n",
              "352018  2021-04-03 18:39:13  ...   United States\n",
              "352019  2021-04-03 18:39:04  ...           Japan\n",
              "352020  2021-04-03 18:38:54  ...         Ireland\n",
              "352021  2021-04-03 18:38:54  ...           India\n",
              "\n",
              "[352022 rows x 7 columns]"
            ]
          },
          "metadata": {
            "tags": []
          },
          "execution_count": 1
        }
      ]
    },
    {
      "cell_type": "code",
      "metadata": {
        "colab": {
          "base_uri": "https://localhost:8080/"
        },
        "id": "5xxwiwXUtSH0",
        "outputId": "2e60bc1a-62af-4b9e-b042-f8e3fafec291"
      },
      "source": [
        "# Shaping data and dropping nulls\n",
        "df.shape\n",
        "dataset = df.dropna()\n",
        "dataset.shape"
      ],
      "execution_count": null,
      "outputs": [
        {
          "output_type": "execute_result",
          "data": {
            "text/plain": [
              "(352010, 7)"
            ]
          },
          "metadata": {
            "tags": []
          },
          "execution_count": 2
        }
      ]
    },
    {
      "cell_type": "code",
      "metadata": {
        "id": "BxY6wxfZtoug"
      },
      "source": [
        "# Manually declaring the reaction key words in a dictionary format by mapping with multiple values for single keys\n",
        "\n",
        "reactionsAndItsKeywords = {'Fever' : ['fever'],\n",
        "                           'Chills': ['chills'],\n",
        "                           'Headache' : ['headache'],\n",
        "                           'Neck pain' : ['neck pain'],\n",
        "                           'Cold' : ['cold', 'flu'],\n",
        "                           'Body pains' : ['body pain','body pains'],\n",
        "                           'Sore arm' : ['sore arm','arm soreness','arm sore','swollen','injection area','tender arm'],\n",
        "                           'Cough' : ['cough','coughing','sore throat'],\n",
        "                           'Vomiting' : ['vomiting','throw up', 'nausea']}\n",
        "\n",
        "# Function to check reactions with respect to each brand\n",
        "def getReactions(brand, reactionVsItsCount):\n",
        "  # passing the reaction through tweets to check the respective brand\n",
        "  for tweet in df[\"CleanedTweet\"]:\n",
        "    try:\n",
        "      if tweet.find(brand) != -1:  # Check if brand exist in tweet\n",
        "        for reaction, keywords in reactionsAndItsKeywords.items(): # Iterate through each tweet when brand exist to check if any reactions from \n",
        "                                                                   # From the map exists\n",
        "          for keyword in keywords:\n",
        "            if(keyword in tweet):\n",
        "              if reaction not in reactionVsItsCount.keys():        # If both brand and reactions exist creating dictionary mapping multiple reactions for each brand\n",
        "                reactionVsItsCount[reaction] = 1\n",
        "              else:\n",
        "                  reactionVsItsCount[reaction] = reactionVsItsCount[reaction]+1\n",
        "\n",
        "    except Exception as ex:\n",
        "      pass\n",
        "  return reactionVsItsCount\n",
        "                            "
      ],
      "execution_count": null,
      "outputs": []
    },
    {
      "cell_type": "code",
      "metadata": {
        "colab": {
          "base_uri": "https://localhost:8080/"
        },
        "id": "xsmc3OwstgCU",
        "outputId": "57ecb032-6e86-43e6-f97c-a3a7ef4d8f6b"
      },
      "source": [
        "# Manually declaring vaccine brands by identifying the existing one from the tweets processed data\n",
        "vaccinesAndItsKeyWords = {\"Covaxin\":['covax','vax','behalf_covax','covaxin','covaxsd','covaxinrockstheworld','covaxvaccinations','covaxinreiterated'],\n",
        "                          \"Pfizer\":['pfizercovidvaccine','pfizervaccine','pfizer','modernapfizer','biotech','pfizerbiotech','pfizerbiontech'],\n",
        "                          \"Moderna\" : ['moderna','modernavaccine','teammoderna','modernagang','modernas'],\n",
        "                          \"Johnson&Johnson\" : ['borisjohnson','johnsonandjohnson',\n",
        "                                               'johnsonandjohnsonvaccine','johnsonjohnson',\n",
        "                                               'johnsonampjohnson','johnsonjohnsonvax','johnsonand','johnson','janssenglobal','janssenvaccine','janssen','janssenus'],\n",
        "                          \"Covishield\" :['covishield','covishieldvaccine','covishielded'],\n",
        "                          \"Astrazeneca\" : ['astrazeneca','oxford','breakingastrazeneca','oxfordastrazeneca','astrazenecas',\n",
        "                                            'astrazenecavaccine','astrazenecaoxford','astrazenecauk'],\n",
        "                          \"Sputnik\" : ['sputnikint','sputnik','sputnikvaccine','sputnikv','sputnikvaccineke',\n",
        "                                        'sputnikvaccineinkenya','sputnikvaccinekenya']\n",
        "                          }               \n",
        "\n",
        "reactions=[]\n",
        "brandVsReactions= {}\n",
        "\n",
        "for vaccine, keywords  in vaccinesAndItsKeyWords.items():\n",
        "  reactionsVsCount={}\n",
        "  for keyword in keywords:\n",
        "    try:\n",
        "        reactionsVsCount = getReactions(keyword,reactionsVsCount) # Function to check reactions for each barnd passed\n",
        "    except:\n",
        "        print (\"Error while checking brand\")\n",
        "  brandVsReactions[vaccine] = reactionsVsCount\n",
        "\n",
        "print(brandVsReactions)"
      ],
      "execution_count": null,
      "outputs": [
        {
          "output_type": "stream",
          "text": [
            "{'Covaxin': {'Cold': 57, 'Fever': 21, 'Chills': 13, 'Headache': 12, 'Body pains': 7, 'Sore arm': 22, 'Cough': 4, 'Vomiting': 3}, 'Pfizer': {'Cold': 149, 'Headache': 217, 'Fever': 167, 'Chills': 112, 'Sore arm': 361, 'Vomiting': 46, 'Cough': 24, 'Neck pain': 1, 'Body pains': 1}, 'Moderna': {'Sore arm': 196, 'Headache': 187, 'Fever': 132, 'Chills': 100, 'Vomiting': 30, 'Cold': 107, 'Cough': 2}, 'Johnson&Johnson': {'Cold': 88, 'Headache': 102, 'Chills': 73, 'Sore arm': 62, 'Fever': 87, 'Vomiting': 17, 'Cough': 23}, 'Covishield': {'Fever': 25, 'Chills': 1, 'Headache': 1, 'Body pains': 5, 'Cough': 8, 'Vomiting': 1, 'Cold': 1}, 'Astrazeneca': {'Cold': 106, 'Sore arm': 66, 'Cough': 10, 'Headache': 125, 'Fever': 64, 'Vomiting': 14, 'Chills': 35, 'Body pains': 10}, 'Sputnik': {'Cold': 22, 'Sore arm': 6}}\n"
          ],
          "name": "stdout"
        }
      ]
    },
    {
      "cell_type": "code",
      "metadata": {
        "id": "WcQrb-ojzLc2"
      },
      "source": [
        "# Creating a data frame\n",
        "df = pd.DataFrame(brandVsReactions, index=['Covaxin', 'Pfizer', 'Moderna','Johnson&Johnson','Covishield','Astrazeneca','Sputnik'])"
      ],
      "execution_count": null,
      "outputs": []
    },
    {
      "cell_type": "code",
      "metadata": {
        "colab": {
          "base_uri": "https://localhost:8080/",
          "height": 328
        },
        "id": "slmnI6DOt7ej",
        "outputId": "5b709680-2f00-4ba3-f36c-2a007855f664"
      },
      "source": [
        "# Dropping Nan if exist\n",
        "df= pd.DataFrame.from_dict(brandVsReactions)\n",
        "df.fillna(0, inplace=True)\n",
        "df"
      ],
      "execution_count": null,
      "outputs": [
        {
          "output_type": "execute_result",
          "data": {
            "text/html": [
              "<div>\n",
              "<style scoped>\n",
              "    .dataframe tbody tr th:only-of-type {\n",
              "        vertical-align: middle;\n",
              "    }\n",
              "\n",
              "    .dataframe tbody tr th {\n",
              "        vertical-align: top;\n",
              "    }\n",
              "\n",
              "    .dataframe thead th {\n",
              "        text-align: right;\n",
              "    }\n",
              "</style>\n",
              "<table border=\"1\" class=\"dataframe\">\n",
              "  <thead>\n",
              "    <tr style=\"text-align: right;\">\n",
              "      <th></th>\n",
              "      <th>Covaxin</th>\n",
              "      <th>Pfizer</th>\n",
              "      <th>Moderna</th>\n",
              "      <th>Johnson&amp;Johnson</th>\n",
              "      <th>Covishield</th>\n",
              "      <th>Astrazeneca</th>\n",
              "      <th>Sputnik</th>\n",
              "    </tr>\n",
              "  </thead>\n",
              "  <tbody>\n",
              "    <tr>\n",
              "      <th>Cold</th>\n",
              "      <td>57.0</td>\n",
              "      <td>149</td>\n",
              "      <td>107.0</td>\n",
              "      <td>88.0</td>\n",
              "      <td>1.0</td>\n",
              "      <td>106.0</td>\n",
              "      <td>22.0</td>\n",
              "    </tr>\n",
              "    <tr>\n",
              "      <th>Fever</th>\n",
              "      <td>21.0</td>\n",
              "      <td>167</td>\n",
              "      <td>132.0</td>\n",
              "      <td>87.0</td>\n",
              "      <td>25.0</td>\n",
              "      <td>64.0</td>\n",
              "      <td>0.0</td>\n",
              "    </tr>\n",
              "    <tr>\n",
              "      <th>Chills</th>\n",
              "      <td>13.0</td>\n",
              "      <td>112</td>\n",
              "      <td>100.0</td>\n",
              "      <td>73.0</td>\n",
              "      <td>1.0</td>\n",
              "      <td>35.0</td>\n",
              "      <td>0.0</td>\n",
              "    </tr>\n",
              "    <tr>\n",
              "      <th>Headache</th>\n",
              "      <td>12.0</td>\n",
              "      <td>217</td>\n",
              "      <td>187.0</td>\n",
              "      <td>102.0</td>\n",
              "      <td>1.0</td>\n",
              "      <td>125.0</td>\n",
              "      <td>0.0</td>\n",
              "    </tr>\n",
              "    <tr>\n",
              "      <th>Body pains</th>\n",
              "      <td>7.0</td>\n",
              "      <td>1</td>\n",
              "      <td>0.0</td>\n",
              "      <td>0.0</td>\n",
              "      <td>5.0</td>\n",
              "      <td>10.0</td>\n",
              "      <td>0.0</td>\n",
              "    </tr>\n",
              "    <tr>\n",
              "      <th>Sore arm</th>\n",
              "      <td>22.0</td>\n",
              "      <td>361</td>\n",
              "      <td>196.0</td>\n",
              "      <td>62.0</td>\n",
              "      <td>0.0</td>\n",
              "      <td>66.0</td>\n",
              "      <td>6.0</td>\n",
              "    </tr>\n",
              "    <tr>\n",
              "      <th>Cough</th>\n",
              "      <td>4.0</td>\n",
              "      <td>24</td>\n",
              "      <td>2.0</td>\n",
              "      <td>23.0</td>\n",
              "      <td>8.0</td>\n",
              "      <td>10.0</td>\n",
              "      <td>0.0</td>\n",
              "    </tr>\n",
              "    <tr>\n",
              "      <th>Vomiting</th>\n",
              "      <td>3.0</td>\n",
              "      <td>46</td>\n",
              "      <td>30.0</td>\n",
              "      <td>17.0</td>\n",
              "      <td>1.0</td>\n",
              "      <td>14.0</td>\n",
              "      <td>0.0</td>\n",
              "    </tr>\n",
              "    <tr>\n",
              "      <th>Neck pain</th>\n",
              "      <td>0.0</td>\n",
              "      <td>1</td>\n",
              "      <td>0.0</td>\n",
              "      <td>0.0</td>\n",
              "      <td>0.0</td>\n",
              "      <td>0.0</td>\n",
              "      <td>0.0</td>\n",
              "    </tr>\n",
              "  </tbody>\n",
              "</table>\n",
              "</div>"
            ],
            "text/plain": [
              "            Covaxin  Pfizer  Moderna  ...  Covishield  Astrazeneca  Sputnik\n",
              "Cold           57.0     149    107.0  ...         1.0        106.0     22.0\n",
              "Fever          21.0     167    132.0  ...        25.0         64.0      0.0\n",
              "Chills         13.0     112    100.0  ...         1.0         35.0      0.0\n",
              "Headache       12.0     217    187.0  ...         1.0        125.0      0.0\n",
              "Body pains      7.0       1      0.0  ...         5.0         10.0      0.0\n",
              "Sore arm       22.0     361    196.0  ...         0.0         66.0      6.0\n",
              "Cough           4.0      24      2.0  ...         8.0         10.0      0.0\n",
              "Vomiting        3.0      46     30.0  ...         1.0         14.0      0.0\n",
              "Neck pain       0.0       1      0.0  ...         0.0          0.0      0.0\n",
              "\n",
              "[9 rows x 7 columns]"
            ]
          },
          "metadata": {
            "tags": []
          },
          "execution_count": 6
        }
      ]
    },
    {
      "cell_type": "code",
      "metadata": {
        "id": "cJ8a6CHFuzta",
        "colab": {
          "base_uri": "https://localhost:8080/",
          "height": 372
        },
        "outputId": "03b254ef-dc36-4b68-8143-85b7f1b19f24"
      },
      "source": [
        "# Visualising the data set through bar chart\n",
        "from matplotlib import pyplot as plt\n",
        "\n",
        "plotdata = pd.DataFrame({\n",
        "    \"Covaxin\":df['Covaxin'],\n",
        "    \"Pfizer\": df['Pfizer'],\n",
        "    \"Moderna\": df['Moderna'],\n",
        "    \"Johnson&Johnson\": df['Johnson&Johnson'],\n",
        "    \"Covishield\": df['Covishield'],\n",
        "    \"Astrazeneca\" : df['Astrazeneca'],\n",
        "    \"Sputnik\" : df['Sputnik']\n",
        "    }, \n",
        "    index=[\"Fever\", \"Cold\", \"Bodypains\", \"Chills\", \"Headache\",\"Sore arm\",\"Vomiting\",\"Cough\"]\n",
        ")\n",
        "plotdata.transpose().plot(kind=\"bar\")\n",
        "plt.title(\"Vaccine vs Reactions Analysis\")\n",
        "plt.xlabel(\"Vaccine Brands\")\n",
        "plt.ylabel(\"Reactions\")\n",
        "plt.savefig('BrandsVsReactions.png')"
      ],
      "execution_count": null,
      "outputs": [
        {
          "output_type": "display_data",
          "data": {
            "image/png": "[encoded data removed]",
            "text/plain": [
              "<Figure size 432x288 with 1 Axes>"
            ]
          },
          "metadata": {
            "tags": [],
            "needs_background": "light"
          }
        }
      ]
    }
  ]
}