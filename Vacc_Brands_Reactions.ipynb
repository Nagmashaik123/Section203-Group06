{
  "nbformat": 4,
  "nbformat_minor": 0,
  "metadata": {
    "colab": {
      "name": "Untitled28.ipynb",
      "provenance": [],
      "include_colab_link": true
    },
    "kernelspec": {
      "name": "python3",
      "display_name": "Python 3"
    },
    "language_info": {
      "name": "python"
    }
  },
  "cells": [
    {
      "cell_type": "markdown",
      "metadata": {
        "id": "view-in-github",
        "colab_type": "text"
      },
      "source": [
        "<a href=\"https://colab.research.google.com/github/Nagmashaik123/Section203-Group06/blob/main/Vacc_Brands_Reactions.ipynb\" target=\"_parent\"><img src=\"https://colab.research.google.com/assets/colab-badge.svg\" alt=\"Open In Colab\"/></a>"
      ]
    },
    {
      "cell_type": "code",
      "metadata": {
        "colab": {
          "base_uri": "https://localhost:8080/",
          "height": 983
        },
        "id": "xN9G6h8us6dc",
        "outputId": "4a0cdaf6-9983-475f-98f4-1ff290e06893"
      },
      "source": [
        "import pandas as pd\n",
        "df=pd.read_csv(r\"ProcessedCovidVaccineReact.csv\")\n",
        "df"
      ],
      "execution_count": 1,
      "outputs": [
        {
          "output_type": "execute_result",
          "data": {
            "text/html": [
              "<div>\n",
              "<style scoped>\n",
              "    .dataframe tbody tr th:only-of-type {\n",
              "        vertical-align: middle;\n",
              "    }\n",
              "\n",
              "    .dataframe tbody tr th {\n",
              "        vertical-align: top;\n",
              "    }\n",
              "\n",
              "    .dataframe thead th {\n",
              "        text-align: right;\n",
              "    }\n",
              "</style>\n",
              "<table border=\"1\" class=\"dataframe\">\n",
              "  <thead>\n",
              "    <tr style=\"text-align: right;\">\n",
              "      <th></th>\n",
              "      <th>TweetDate</th>\n",
              "      <th>TweetText</th>\n",
              "      <th>CleanedTweet</th>\n",
              "      <th>TweetAuthor</th>\n",
              "      <th>TweetLocation</th>\n",
              "      <th>AllHashtags</th>\n",
              "      <th>Country</th>\n",
              "    </tr>\n",
              "  </thead>\n",
              "  <tbody>\n",
              "    <tr>\n",
              "      <th>0</th>\n",
              "      <td>2021-04-02 23:59:56</td>\n",
              "      <td>RT @ichaydon: A year ago I tried the Moderna v...</td>\n",
              "      <td>rt ichaydon year ago tried moderna vaccine see...</td>\n",
              "      <td>realbafomet</td>\n",
              "      <td>United Arab Emirates</td>\n",
              "      <td>['COVIDvaccine']</td>\n",
              "      <td>United Arab Emirates</td>\n",
              "    </tr>\n",
              "    <tr>\n",
              "      <th>1</th>\n",
              "      <td>2021-04-02 23:59:53</td>\n",
              "      <td>RT @hotvickkrishna: Why we need Two Doses of m...</td>\n",
              "      <td>rt hotvickkrishna need two doses mrna vaccine ...</td>\n",
              "      <td>EVANtiel</td>\n",
              "      <td>Unknown</td>\n",
              "      <td>['vaccines', 'COVID19', 'Pfizer', 'moderna', '...</td>\n",
              "      <td>Unknown</td>\n",
              "    </tr>\n",
              "    <tr>\n",
              "      <th>2</th>\n",
              "      <td>2021-04-02 23:59:46</td>\n",
              "      <td>RT @StephMillerShow: Stick it in! Moderna Mama...</td>\n",
              "      <td>rt stephmillershow stick moderna mama house ya...</td>\n",
              "      <td>anessia40</td>\n",
              "      <td>Unknown</td>\n",
              "      <td>['vaccinated', 'VaccinesWork', 'VaccinesSaveLi...</td>\n",
              "      <td>Unknown</td>\n",
              "    </tr>\n",
              "    <tr>\n",
              "      <th>3</th>\n",
              "      <td>2021-04-02 23:59:43</td>\n",
              "      <td>RT @hotvickkrishna: Why we need Two Doses of m...</td>\n",
              "      <td>rt hotvickkrishna need two doses mrna vaccine ...</td>\n",
              "      <td>tammeeh</td>\n",
              "      <td>Kota Petir</td>\n",
              "      <td>['vaccines', 'COVID19', 'Pfizer', 'moderna', '...</td>\n",
              "      <td>Indonesia</td>\n",
              "    </tr>\n",
              "    <tr>\n",
              "      <th>4</th>\n",
              "      <td>2021-04-02 23:59:43</td>\n",
              "      <td>RT @ichaydon: A year ago I tried the Moderna v...</td>\n",
              "      <td>rt ichaydon year ago tried moderna vaccine see...</td>\n",
              "      <td>shipshape555</td>\n",
              "      <td>San Diego</td>\n",
              "      <td>['COVIDvaccine']</td>\n",
              "      <td>United States</td>\n",
              "    </tr>\n",
              "    <tr>\n",
              "      <th>...</th>\n",
              "      <td>...</td>\n",
              "      <td>...</td>\n",
              "      <td>...</td>\n",
              "      <td>...</td>\n",
              "      <td>...</td>\n",
              "      <td>...</td>\n",
              "      <td>...</td>\n",
              "    </tr>\n",
              "    <tr>\n",
              "      <th>206245</th>\n",
              "      <td>2021-03-10 22:35:54</td>\n",
              "      <td>I blasted this in the car as an Army nurse gav...</td>\n",
              "      <td>blasted car army nurse gave covid vaccine toda...</td>\n",
              "      <td>MatthewDWhite2</td>\n",
              "      <td>New Orleans</td>\n",
              "      <td>['vaccinated', 'vaccine', 'rona', 'Mississippi...</td>\n",
              "      <td>United States</td>\n",
              "    </tr>\n",
              "    <tr>\n",
              "      <th>206246</th>\n",
              "      <td>2021-03-10 22:35:48</td>\n",
              "      <td>2nd #Pfizer shot!! I’m vaccinated! Thank you @...</td>\n",
              "      <td>pfizer shot im vaccinated thank vanyharbor gre...</td>\n",
              "      <td>NYMetroVets</td>\n",
              "      <td>Bronx</td>\n",
              "      <td>['Pfizer', 'Veterans', 'CovidVaccine']</td>\n",
              "      <td>United States</td>\n",
              "    </tr>\n",
              "    <tr>\n",
              "      <th>206247</th>\n",
              "      <td>2021-03-10 22:35:09</td>\n",
              "      <td>@Sarahluvshkey77 Tomorrow is two weeks since m...</td>\n",
              "      <td>tomorrow two weeks since second shot appointme...</td>\n",
              "      <td>G8rgrrlCheryl</td>\n",
              "      <td>Western Washington</td>\n",
              "      <td>['vaccinated']</td>\n",
              "      <td>United States</td>\n",
              "    </tr>\n",
              "    <tr>\n",
              "      <th>206248</th>\n",
              "      <td>2021-03-10 22:35:00</td>\n",
              "      <td>#COVID19 vaccines are hard to come by, but the...</td>\n",
              "      <td>vaccines hard come theres new way find shot ch...</td>\n",
              "      <td>medicaldaily</td>\n",
              "      <td>New York</td>\n",
              "      <td>['COVID19', 'COVID19vaccine', 'vaccineregistra...</td>\n",
              "      <td>United States</td>\n",
              "    </tr>\n",
              "    <tr>\n",
              "      <th>206249</th>\n",
              "      <td>2021-03-10 22:34:59</td>\n",
              "      <td>Fully vaccinated ✅ #vaccinated #COVID19 #vacci...</td>\n",
              "      <td>fully vaccinated vaccinated vaccine getvaccina...</td>\n",
              "      <td>sister_sweeney</td>\n",
              "      <td>London</td>\n",
              "      <td>['vaccinated', 'COVID19', 'vaccine', 'GetVacci...</td>\n",
              "      <td>United Kingdom</td>\n",
              "    </tr>\n",
              "  </tbody>\n",
              "</table>\n",
              "<p>206250 rows × 7 columns</p>\n",
              "</div>"
            ],
            "text/plain": [
              "                  TweetDate  ...               Country\n",
              "0       2021-04-02 23:59:56  ...  United Arab Emirates\n",
              "1       2021-04-02 23:59:53  ...               Unknown\n",
              "2       2021-04-02 23:59:46  ...               Unknown\n",
              "3       2021-04-02 23:59:43  ...             Indonesia\n",
              "4       2021-04-02 23:59:43  ...         United States\n",
              "...                     ...  ...                   ...\n",
              "206245  2021-03-10 22:35:54  ...         United States\n",
              "206246  2021-03-10 22:35:48  ...         United States\n",
              "206247  2021-03-10 22:35:09  ...         United States\n",
              "206248  2021-03-10 22:35:00  ...         United States\n",
              "206249  2021-03-10 22:34:59  ...        United Kingdom\n",
              "\n",
              "[206250 rows x 7 columns]"
            ]
          },
          "metadata": {
            "tags": []
          },
          "execution_count": 1
        }
      ]
    },
    {
      "cell_type": "code",
      "metadata": {
        "colab": {
          "base_uri": "https://localhost:8080/"
        },
        "id": "5xxwiwXUtSH0",
        "outputId": "7c4f5a8a-2a2e-46e1-c484-47b8ce9dd05b"
      },
      "source": [
        "df.shape\n",
        "dataset = df.dropna() # drop null values\n",
        "dataset.shape"
      ],
      "execution_count": 2,
      "outputs": [
        {
          "output_type": "execute_result",
          "data": {
            "text/plain": [
              "(205574, 7)"
            ]
          },
          "metadata": {
            "tags": []
          },
          "execution_count": 2
        }
      ]
    },
    {
      "cell_type": "code",
      "metadata": {
        "id": "BxY6wxfZtoug"
      },
      "source": [
        "reactions_keywords= ['fever','chills','headache','neck pain','cold','flu','body pain',\n",
        "            'body pains','sore arm','arm soreness','arm sore','swollen','injection area',\n",
        "            'tender arm','cough','coughing','sore throat']\n",
        "reactionsAndItsKeywords = {'Fever' : ['fever'],\n",
        "                           'Chills': ['chills'],\n",
        "                           'Headache' : ['headache'],\n",
        "                           'Neck pain' : ['neck pain'],\n",
        "                           'Cold' : ['cold', 'flu'],\n",
        "                           'Body pains' : ['body pain','body pains'],\n",
        "                           'Sore arm' : ['sore arm','arm soreness','arm sore','swollen','injection area','tender arm'],\n",
        "                           'Cough' : ['cough','coughing','sore throat'],\n",
        "                           'Vomiting' : ['vomiting','throw up', 'nausea']}\n",
        "\n",
        "# Function to reaction with respect to brands\n",
        "def getReactions(brand, reactionVsItsCount):\n",
        "  # passing the reaction through tweets to check the respective brand\n",
        "  for tweet in df[\"CleanedTweet\"]:\n",
        "    try:\n",
        "      if tweet.find(brand) != -1:\n",
        "        for reaction, keywords in reactionsAndItsKeywords.items():\n",
        "          for keyword in keywords:\n",
        "            if(keyword in tweet):\n",
        "              if reaction not in reactionVsItsCount.keys():\n",
        "                reactionVsItsCount[reaction] = 1\n",
        "              else:\n",
        "                  reactionVsItsCount[reaction] = reactionVsItsCount[reaction]+1\n",
        "          # reactionVsItsCount[reaction]=count\n",
        "    except Exception as ex:\n",
        "      pass\n",
        "  return reactionVsItsCount\n",
        "                            "
      ],
      "execution_count": 3,
      "outputs": []
    },
    {
      "cell_type": "code",
      "metadata": {
        "colab": {
          "base_uri": "https://localhost:8080/"
        },
        "id": "xsmc3OwstgCU",
        "outputId": "31754a18-8266-4b46-a1ca-779bd0d1d596"
      },
      "source": [
        "vaccinesAndItsKeyWords = {\"Covaxin\":['covax','vax','behalf_covax'],\n",
        "                          \"Pfizer\":['pfizercovidvaccine','pfizervaccine','pfizer','modernapfizer'],\n",
        "                          \"Moderna\" : ['moderna','modernavaccine','teammoderna'],\n",
        "                          \"Johnson&Johnson\" : ['borisjohnson','johnson','johnsonandjohnson','johnsonandjohnsonvaccine'],\n",
        "                          \"Covishield\" :['covishield']\n",
        "                          }\n",
        "reactions=[]\n",
        "brandVsReactions= {}\n",
        "\n",
        "for vaccine, keywords  in vaccinesAndItsKeyWords.items():\n",
        "  reactionsVsCount={}\n",
        "  for keyword in keywords:\n",
        "    try:\n",
        "        reactionsVsCount = getReactions(keyword,reactionsVsCount)\n",
        "    except:\n",
        "        print (\"Error while checking brand\")\n",
        "  brandVsReactions[vaccine] = reactionsVsCount\n",
        "\n",
        "print(brandVsReactions)"
      ],
      "execution_count": 4,
      "outputs": [
        {
          "output_type": "stream",
          "text": [
            "{'Covaxin': {'Fever': 11, 'Cold': 25, 'Body pains': 6, 'Chills': 5, 'Headache': 6, 'Sore arm': 12, 'Vomiting': 3, 'Cough': 1}, 'Pfizer': {'Sore arm': 216, 'Cold': 75, 'Headache': 111, 'Fever': 91, 'Chills': 51, 'Vomiting': 33, 'Cough': 5}, 'Moderna': {'Cold': 67, 'Vomiting': 21, 'Fever': 74, 'Chills': 58, 'Sore arm': 118, 'Headache': 132, 'Cough': 1}, 'Johnson&Johnson': {'Cold': 30, 'Headache': 41, 'Chills': 37, 'Sore arm': 24, 'Fever': 27, 'Vomiting': 8}, 'Covishield': {'Fever': 7, 'Chills': 1, 'Headache': 1, 'Body pains': 1}}\n"
          ],
          "name": "stdout"
        }
      ]
    },
    {
      "cell_type": "code",
      "metadata": {
        "id": "WcQrb-ojzLc2"
      },
      "source": [
        "df = pd.DataFrame(brandVsReactions, index=['Covaxin', 'Pfizer', 'Moderna','Johnson&Johnson','Covishield'])\n",
        "df"
      ],
      "execution_count": null,
      "outputs": []
    },
    {
      "cell_type": "code",
      "metadata": {
        "colab": {
          "base_uri": "https://localhost:8080/",
          "height": 297
        },
        "id": "slmnI6DOt7ej",
        "outputId": "d8a1fe0a-da98-4ae2-9f2b-786f20ad9111"
      },
      "source": [
        "df= pd.DataFrame.from_dict(brandVsReactions)\n",
        "df.fillna(0, inplace=True)\n",
        "df"
      ],
      "execution_count": 13,
      "outputs": [
        {
          "output_type": "execute_result",
          "data": {
            "text/html": [
              "<div>\n",
              "<style scoped>\n",
              "    .dataframe tbody tr th:only-of-type {\n",
              "        vertical-align: middle;\n",
              "    }\n",
              "\n",
              "    .dataframe tbody tr th {\n",
              "        vertical-align: top;\n",
              "    }\n",
              "\n",
              "    .dataframe thead th {\n",
              "        text-align: right;\n",
              "    }\n",
              "</style>\n",
              "<table border=\"1\" class=\"dataframe\">\n",
              "  <thead>\n",
              "    <tr style=\"text-align: right;\">\n",
              "      <th></th>\n",
              "      <th>Covaxin</th>\n",
              "      <th>Pfizer</th>\n",
              "      <th>Moderna</th>\n",
              "      <th>Johnson&amp;Johnson</th>\n",
              "      <th>Covishield</th>\n",
              "    </tr>\n",
              "  </thead>\n",
              "  <tbody>\n",
              "    <tr>\n",
              "      <th>Fever</th>\n",
              "      <td>11</td>\n",
              "      <td>91.0</td>\n",
              "      <td>74.0</td>\n",
              "      <td>27.0</td>\n",
              "      <td>7.0</td>\n",
              "    </tr>\n",
              "    <tr>\n",
              "      <th>Cold</th>\n",
              "      <td>25</td>\n",
              "      <td>75.0</td>\n",
              "      <td>67.0</td>\n",
              "      <td>30.0</td>\n",
              "      <td>0.0</td>\n",
              "    </tr>\n",
              "    <tr>\n",
              "      <th>Body pains</th>\n",
              "      <td>6</td>\n",
              "      <td>0.0</td>\n",
              "      <td>0.0</td>\n",
              "      <td>0.0</td>\n",
              "      <td>1.0</td>\n",
              "    </tr>\n",
              "    <tr>\n",
              "      <th>Chills</th>\n",
              "      <td>5</td>\n",
              "      <td>51.0</td>\n",
              "      <td>58.0</td>\n",
              "      <td>37.0</td>\n",
              "      <td>1.0</td>\n",
              "    </tr>\n",
              "    <tr>\n",
              "      <th>Headache</th>\n",
              "      <td>6</td>\n",
              "      <td>111.0</td>\n",
              "      <td>132.0</td>\n",
              "      <td>41.0</td>\n",
              "      <td>1.0</td>\n",
              "    </tr>\n",
              "    <tr>\n",
              "      <th>Sore arm</th>\n",
              "      <td>12</td>\n",
              "      <td>216.0</td>\n",
              "      <td>118.0</td>\n",
              "      <td>24.0</td>\n",
              "      <td>0.0</td>\n",
              "    </tr>\n",
              "    <tr>\n",
              "      <th>Vomiting</th>\n",
              "      <td>3</td>\n",
              "      <td>33.0</td>\n",
              "      <td>21.0</td>\n",
              "      <td>8.0</td>\n",
              "      <td>0.0</td>\n",
              "    </tr>\n",
              "    <tr>\n",
              "      <th>Cough</th>\n",
              "      <td>1</td>\n",
              "      <td>5.0</td>\n",
              "      <td>1.0</td>\n",
              "      <td>0.0</td>\n",
              "      <td>0.0</td>\n",
              "    </tr>\n",
              "  </tbody>\n",
              "</table>\n",
              "</div>"
            ],
            "text/plain": [
              "            Covaxin  Pfizer  Moderna  Johnson&Johnson  Covishield\n",
              "Fever            11    91.0     74.0             27.0         7.0\n",
              "Cold             25    75.0     67.0             30.0         0.0\n",
              "Body pains        6     0.0      0.0              0.0         1.0\n",
              "Chills            5    51.0     58.0             37.0         1.0\n",
              "Headache          6   111.0    132.0             41.0         1.0\n",
              "Sore arm         12   216.0    118.0             24.0         0.0\n",
              "Vomiting          3    33.0     21.0              8.0         0.0\n",
              "Cough             1     5.0      1.0              0.0         0.0"
            ]
          },
          "metadata": {
            "tags": []
          },
          "execution_count": 13
        }
      ]
    },
    {
      "cell_type": "code",
      "metadata": {
        "id": "cJ8a6CHFuzta"
      },
      "source": [
        "\n",
        "from matplotlib import pyplot as plt\n",
        "\n",
        "plotdata = pd.DataFrame({\n",
        "    \"Covaxin\":df['Covaxin'],\n",
        "    \"Pfizer\": df['Pfizer'],\n",
        "    \"Moderna\": df['Moderna'],\n",
        "    \"Johnson&Johnson\": df['Johnson&Johnson'],\n",
        "    \"Covishield\": df['Covishield']\n",
        "    }, \n",
        "    index=[\"Fever\", \"Cold\", \"Bodypains\", \"Chills\", \"Headache\",\"Sore arm\",\"Vomiting\",\"Cough\"]\n",
        ")\n",
        "plotdata.transpose().plot(kind=\"bar\")\n",
        "plt.figure(figsize=(35, 35))\n",
        "plt.title(\"Vaccine vs Reactions Analysis\")\n",
        "plt.xlabel(\"Vaccine Brands\")\n",
        "plt.ylabel(\"Reactions\")"
      ],
      "execution_count": null,
      "outputs": []
    }
  ]
}