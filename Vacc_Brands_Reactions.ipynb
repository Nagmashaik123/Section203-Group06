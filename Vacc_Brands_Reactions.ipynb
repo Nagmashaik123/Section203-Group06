{
  "nbformat": 4,
  "nbformat_minor": 0,
  "metadata": {
    "colab": {
      "name": "Untitled28.ipynb",
      "provenance": [],
      "include_colab_link": true
    },
    "kernelspec": {
      "name": "python3",
      "display_name": "Python 3"
    },
    "language_info": {
      "name": "python"
    }
  },
  "cells": [
    {
      "cell_type": "markdown",
      "metadata": {
        "id": "view-in-github",
        "colab_type": "text"
      },
      "source": [
        "<a href=\"https://colab.research.google.com/github/Nagmashaik123/Section203-Group06/blob/main/Vacc_Brands_Reactions.ipynb\" target=\"_parent\"><img src=\"https://colab.research.google.com/assets/colab-badge.svg\" alt=\"Open In Colab\"/></a>"
      ]
    },
    {
      "cell_type": "code",
      "metadata": {
        "colab": {
          "base_uri": "https://localhost:8080/",
          "height": 983
        },
        "id": "xN9G6h8us6dc",
        "outputId": "082663b9-acb4-4229-fb41-0ba391a70f0c"
      },
      "source": [
        "import pandas as pd\n",
        "df=pd.read_csv(r\"ProcessedCovidVaccineReact.csv\")\n",
        "df"
      ],
      "execution_count": 1,
      "outputs": [
        {
          "output_type": "execute_result",
          "data": {
            "text/html": [
              "<div>\n",
              "<style scoped>\n",
              "    .dataframe tbody tr th:only-of-type {\n",
              "        vertical-align: middle;\n",
              "    }\n",
              "\n",
              "    .dataframe tbody tr th {\n",
              "        vertical-align: top;\n",
              "    }\n",
              "\n",
              "    .dataframe thead th {\n",
              "        text-align: right;\n",
              "    }\n",
              "</style>\n",
              "<table border=\"1\" class=\"dataframe\">\n",
              "  <thead>\n",
              "    <tr style=\"text-align: right;\">\n",
              "      <th></th>\n",
              "      <th>TweetDate</th>\n",
              "      <th>TweetText</th>\n",
              "      <th>CleanedTweet</th>\n",
              "      <th>TweetAuthor</th>\n",
              "      <th>TweetLocation</th>\n",
              "      <th>AllHashtags</th>\n",
              "      <th>Country</th>\n",
              "    </tr>\n",
              "  </thead>\n",
              "  <tbody>\n",
              "    <tr>\n",
              "      <th>0</th>\n",
              "      <td>2021-04-02 23:59:56</td>\n",
              "      <td>RT @ichaydon: A year ago I tried the Moderna v...</td>\n",
              "      <td>rt ichaydon year ago tried moderna vaccine see...</td>\n",
              "      <td>realbafomet</td>\n",
              "      <td>United Arab Emirates</td>\n",
              "      <td>['COVIDvaccine']</td>\n",
              "      <td>United Arab Emirates</td>\n",
              "    </tr>\n",
              "    <tr>\n",
              "      <th>1</th>\n",
              "      <td>2021-04-02 23:59:53</td>\n",
              "      <td>RT @hotvickkrishna: Why we need Two Doses of m...</td>\n",
              "      <td>rt hotvickkrishna need two doses mrna vaccine ...</td>\n",
              "      <td>EVANtiel</td>\n",
              "      <td>Unknown</td>\n",
              "      <td>['vaccines', 'COVID19', 'Pfizer', 'moderna', '...</td>\n",
              "      <td>Unknown</td>\n",
              "    </tr>\n",
              "    <tr>\n",
              "      <th>2</th>\n",
              "      <td>2021-04-02 23:59:46</td>\n",
              "      <td>RT @StephMillerShow: Stick it in! Moderna Mama...</td>\n",
              "      <td>rt stephmillershow stick moderna mama house ya...</td>\n",
              "      <td>anessia40</td>\n",
              "      <td>Unknown</td>\n",
              "      <td>['vaccinated', 'VaccinesWork', 'VaccinesSaveLi...</td>\n",
              "      <td>Unknown</td>\n",
              "    </tr>\n",
              "    <tr>\n",
              "      <th>3</th>\n",
              "      <td>2021-04-02 23:59:43</td>\n",
              "      <td>RT @hotvickkrishna: Why we need Two Doses of m...</td>\n",
              "      <td>rt hotvickkrishna need two doses mrna vaccine ...</td>\n",
              "      <td>tammeeh</td>\n",
              "      <td>Kota Petir</td>\n",
              "      <td>['vaccines', 'COVID19', 'Pfizer', 'moderna', '...</td>\n",
              "      <td>Indonesia</td>\n",
              "    </tr>\n",
              "    <tr>\n",
              "      <th>4</th>\n",
              "      <td>2021-04-02 23:59:43</td>\n",
              "      <td>RT @ichaydon: A year ago I tried the Moderna v...</td>\n",
              "      <td>rt ichaydon year ago tried moderna vaccine see...</td>\n",
              "      <td>shipshape555</td>\n",
              "      <td>San Diego</td>\n",
              "      <td>['COVIDvaccine']</td>\n",
              "      <td>United States</td>\n",
              "    </tr>\n",
              "    <tr>\n",
              "      <th>...</th>\n",
              "      <td>...</td>\n",
              "      <td>...</td>\n",
              "      <td>...</td>\n",
              "      <td>...</td>\n",
              "      <td>...</td>\n",
              "      <td>...</td>\n",
              "      <td>...</td>\n",
              "    </tr>\n",
              "    <tr>\n",
              "      <th>206245</th>\n",
              "      <td>2021-03-10 22:35:54</td>\n",
              "      <td>I blasted this in the car as an Army nurse gav...</td>\n",
              "      <td>blasted car army nurse gave covid vaccine toda...</td>\n",
              "      <td>MatthewDWhite2</td>\n",
              "      <td>New Orleans</td>\n",
              "      <td>['vaccinated', 'vaccine', 'rona', 'Mississippi...</td>\n",
              "      <td>United States</td>\n",
              "    </tr>\n",
              "    <tr>\n",
              "      <th>206246</th>\n",
              "      <td>2021-03-10 22:35:48</td>\n",
              "      <td>2nd #Pfizer shot!! I’m vaccinated! Thank you @...</td>\n",
              "      <td>pfizer shot im vaccinated thank vanyharbor gre...</td>\n",
              "      <td>NYMetroVets</td>\n",
              "      <td>Bronx</td>\n",
              "      <td>['Pfizer', 'Veterans', 'CovidVaccine']</td>\n",
              "      <td>United States</td>\n",
              "    </tr>\n",
              "    <tr>\n",
              "      <th>206247</th>\n",
              "      <td>2021-03-10 22:35:09</td>\n",
              "      <td>@Sarahluvshkey77 Tomorrow is two weeks since m...</td>\n",
              "      <td>tomorrow two weeks since second shot appointme...</td>\n",
              "      <td>G8rgrrlCheryl</td>\n",
              "      <td>Western Washington</td>\n",
              "      <td>['vaccinated']</td>\n",
              "      <td>United States</td>\n",
              "    </tr>\n",
              "    <tr>\n",
              "      <th>206248</th>\n",
              "      <td>2021-03-10 22:35:00</td>\n",
              "      <td>#COVID19 vaccines are hard to come by, but the...</td>\n",
              "      <td>vaccines hard come theres new way find shot ch...</td>\n",
              "      <td>medicaldaily</td>\n",
              "      <td>New York</td>\n",
              "      <td>['COVID19', 'COVID19vaccine', 'vaccineregistra...</td>\n",
              "      <td>United States</td>\n",
              "    </tr>\n",
              "    <tr>\n",
              "      <th>206249</th>\n",
              "      <td>2021-03-10 22:34:59</td>\n",
              "      <td>Fully vaccinated ✅ #vaccinated #COVID19 #vacci...</td>\n",
              "      <td>fully vaccinated vaccinated vaccine getvaccina...</td>\n",
              "      <td>sister_sweeney</td>\n",
              "      <td>London</td>\n",
              "      <td>['vaccinated', 'COVID19', 'vaccine', 'GetVacci...</td>\n",
              "      <td>United Kingdom</td>\n",
              "    </tr>\n",
              "  </tbody>\n",
              "</table>\n",
              "<p>206250 rows × 7 columns</p>\n",
              "</div>"
            ],
            "text/plain": [
              "                  TweetDate  ...               Country\n",
              "0       2021-04-02 23:59:56  ...  United Arab Emirates\n",
              "1       2021-04-02 23:59:53  ...               Unknown\n",
              "2       2021-04-02 23:59:46  ...               Unknown\n",
              "3       2021-04-02 23:59:43  ...             Indonesia\n",
              "4       2021-04-02 23:59:43  ...         United States\n",
              "...                     ...  ...                   ...\n",
              "206245  2021-03-10 22:35:54  ...         United States\n",
              "206246  2021-03-10 22:35:48  ...         United States\n",
              "206247  2021-03-10 22:35:09  ...         United States\n",
              "206248  2021-03-10 22:35:00  ...         United States\n",
              "206249  2021-03-10 22:34:59  ...        United Kingdom\n",
              "\n",
              "[206250 rows x 7 columns]"
            ]
          },
          "metadata": {
            "tags": []
          },
          "execution_count": 1
        }
      ]
    },
    {
      "cell_type": "code",
      "metadata": {
        "colab": {
          "base_uri": "https://localhost:8080/"
        },
        "id": "5xxwiwXUtSH0",
        "outputId": "125f59c4-02f8-41dd-9836-d6437390fe2a"
      },
      "source": [
        "df.shape\n",
        "dataset = df.dropna() # drop null values\n",
        "dataset.shape"
      ],
      "execution_count": 2,
      "outputs": [
        {
          "output_type": "execute_result",
          "data": {
            "text/plain": [
              "(205574, 7)"
            ]
          },
          "metadata": {
            "tags": []
          },
          "execution_count": 2
        }
      ]
    },
    {
      "cell_type": "code",
      "metadata": {
        "id": "BxY6wxfZtoug"
      },
      "source": [
        "from functools import partial\n",
        "from geopy.geocoders import Nominatim\n",
        "import re\n",
        "\n",
        "reactions_keywords= ['fever','chills','headache','neck pain','cold','flu','body pain',\n",
        "            'body pains','sore arm','arm soreness','arm sore','swollen','injection area',\n",
        "            'tender arm','cough','coughing','sore throat']\n",
        "reactionsAndItsKeywords = {'Fever' : ['fever'],\n",
        "                           'Chills': ['chills'],\n",
        "                           'Headache' : ['headache'],\n",
        "                           'Neck pain' : ['neck pain'],\n",
        "                           'Cold' : ['cold', 'flu'],\n",
        "                           'Body pains' : ['body pain','body pains'],\n",
        "                           'Sore arm' : ['sore arm','arm soreness','arm sore','swollen','injection area','tender arm'],\n",
        "                           'Cough' : ['cough','coughing','sore throat'],\n",
        "                           'Vomiting' : ['vomiting','throw up', 'nausea']}\n",
        "\n",
        "# Function to reaction with respect to brands\n",
        "def getReactions(brand):\n",
        "  reactionVsItsCount={}\n",
        "  # passing the reaction through tweets to check the respective brand\n",
        "  for tweet in df[\"CleanedTweet\"]:\n",
        "    try:\n",
        "      if tweet.find(brand) != -1:\n",
        "        count=0\n",
        "        for reaction, keywords in reactions_keywords.items():\n",
        "          for keyword in keywords:\n",
        "            if(keyword in tweet):\n",
        "              #reactions.append(keyword)\n",
        "              count=count+1\n",
        "          reactionVsItsCount[reaction]=count\n",
        "    except:\n",
        "      pass\n",
        "  return reactionVsItsCount    \n",
        "\n",
        "       \n",
        "                            "
      ],
      "execution_count": 3,
      "outputs": []
    },
    {
      "cell_type": "code",
      "metadata": {
        "colab": {
          "base_uri": "https://localhost:8080/"
        },
        "id": "xsmc3OwstgCU",
        "outputId": "db3f0ae2-16d5-4494-f0ac-564ea09f2ce9"
      },
      "source": [
        "vaccinesAndItsKeyWords = {\"Covaxin\":['covax','vax','behalf_covax'],\n",
        "                          \"Pfizer\":['pfizercovidvaccine','pfizervaccine','pfizer','modernapfizer'],\n",
        "                          \"Moderna\" : ['moderna','modernavaccine','teammoderna'],\n",
        "                          \"Johnson&Johnson\" : ['borisjohnson','johnson','johnsonandjohnson','johnsonandjohnsonvaccine'],\n",
        "                          \"Covishield\" :['covishield']\n",
        "                          }           \n",
        "reactions=[]           \n",
        "brandVsReactions= {}\n",
        "\n",
        "for vaccine, keywords  in vaccinesAndItsKeyWords.items():\n",
        "  vaccineReactions=[]\n",
        "  for keyword in keywords:\n",
        "    try:\n",
        "        reactions = getReactions(keyword)\n",
        "        vaccineReactions.append(reactions)\n",
        "    except:\n",
        "        print (\"Error while checking brand\")\n",
        "  brandVsReactions[vaccine] = vaccineReactions\n",
        "\n",
        "brandVsReactions"
      ],
      "execution_count": 4,
      "outputs": [
        {
          "output_type": "execute_result",
          "data": {
            "text/plain": [
              "{'Covaxin': [{}, {}, {}],\n",
              " 'Covishield': [{}],\n",
              " 'Johnson&Johnson': [{}, {}, {}, {}],\n",
              " 'Moderna': [{}, {}, {}],\n",
              " 'Pfizer': [{}, {}, {}, {}]}"
            ]
          },
          "metadata": {
            "tags": []
          },
          "execution_count": 4
        }
      ]
    }
  ]
}