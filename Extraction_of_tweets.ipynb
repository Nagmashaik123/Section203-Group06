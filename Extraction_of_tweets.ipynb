{
  "nbformat": 4,
  "nbformat_minor": 0,
  "metadata": {
    "colab": {
      "name": "Extraction of tweets.ipynb",
      "provenance": [],
      "collapsed_sections": [],
      "authorship_tag": "ABX9TyNAGcEQDuiLhCGJXbDhUh9K",
      "include_colab_link": true
    },
    "kernelspec": {
      "name": "python3",
      "display_name": "Python 3"
    }
  },
  "cells": [
    {
      "cell_type": "markdown",
      "metadata": {
        "id": "view-in-github",
        "colab_type": "text"
      },
      "source": [
        "<a href=\"https://colab.research.google.com/github/Nagmashaik123/Section203-Group06/blob/main/Extraction_of_tweets.ipynb\" target=\"_parent\"><img src=\"https://colab.research.google.com/assets/colab-badge.svg\" alt=\"Open In Colab\"/></a>"
      ]
    },
    {
      "cell_type": "code",
      "metadata": {
        "colab": {
          "base_uri": "https://localhost:8080/"
        },
        "id": "jGhFk0RGW4jW",
        "outputId": "2aa591c5-db61-46cb-f463-70e5e0d506c7"
      },
      "source": [
        "!pip install tweepy\n"
      ],
      "execution_count": null,
      "outputs": [
        {
          "output_type": "stream",
          "text": [
            "Requirement already satisfied: tweepy in /usr/local/lib/python3.7/dist-packages (3.10.0)\n",
            "Requirement already satisfied: requests-oauthlib>=0.7.0 in /usr/local/lib/python3.7/dist-packages (from tweepy) (1.3.0)\n",
            "Requirement already satisfied: six>=1.10.0 in /usr/local/lib/python3.7/dist-packages (from tweepy) (1.15.0)\n",
            "Requirement already satisfied: requests[socks]>=2.11.1 in /usr/local/lib/python3.7/dist-packages (from tweepy) (2.23.0)\n",
            "Requirement already satisfied: oauthlib>=3.0.0 in /usr/local/lib/python3.7/dist-packages (from requests-oauthlib>=0.7.0->tweepy) (3.1.0)\n",
            "Requirement already satisfied: certifi>=2017.4.17 in /usr/local/lib/python3.7/dist-packages (from requests[socks]>=2.11.1->tweepy) (2020.12.5)\n",
            "Requirement already satisfied: idna<3,>=2.5 in /usr/local/lib/python3.7/dist-packages (from requests[socks]>=2.11.1->tweepy) (2.10)\n",
            "Requirement already satisfied: urllib3!=1.25.0,!=1.25.1,<1.26,>=1.21.1 in /usr/local/lib/python3.7/dist-packages (from requests[socks]>=2.11.1->tweepy) (1.24.3)\n",
            "Requirement already satisfied: chardet<4,>=3.0.2 in /usr/local/lib/python3.7/dist-packages (from requests[socks]>=2.11.1->tweepy) (3.0.4)\n",
            "Requirement already satisfied: PySocks!=1.5.7,>=1.5.6; extra == \"socks\" in /usr/local/lib/python3.7/dist-packages (from requests[socks]>=2.11.1->tweepy) (1.7.1)\n"
          ],
          "name": "stdout"
        }
      ]
    },
    {
      "cell_type": "code",
      "metadata": {
        "id": "rO1K5kt1W7iC"
      },
      "source": [
        "# Extracting twitter data using Twitter API\n",
        "import json\n",
        "import csv\n",
        "import re\n",
        "import os\n",
        "import tweepy\n",
        "import getpass\n",
        "# Defining function to scrape twitter data\n",
        "def scraping_twitter(api_key, api_secret, access_token, access_secret):\n",
        "    # Hashtag of the tweets to be extracted\n",
        "    hashtag = \"#Vaccinated OR #CovidVaccine OR #Covid19Vaccine\"\n",
        "    # authenticating the twitter developer account to access the tweets\n",
        "    authenticate = tweepy.OAuthHandler(api_key, api_secret)\n",
        "    authenticate.set_access_token(access_token, access_secret)\n",
        "    # Extracting tweets using API function of tweepy package\n",
        "    api = tweepy.API(authenticate, wait_on_rate_limit=True)\n",
        "    file_name = 'CovidVaccine'\n",
        "    with open('%s.csv' % (file_name), 'w') as file:\n",
        "        w = csv.writer(file)\n",
        "        w.writerow(['TweetDate', 'TweetText', 'TweetAuthor','TweetLocation','TweetCountry','AllHashtags'])\n",
        "        # Iterate and extract tweets\n",
        "        for tweet in tweepy.Cursor(api.search, q=hashtag+' -filter:retweets', lang=\"en\", since = \"2020-01-12\", until = \"2021-11-03\",\n",
        "                                   tweet_mode='extended').items(10000):\n",
        "            if tweet.place is None:\n",
        "              w.writerow([tweet.created_at, tweet.full_text, tweet.user.screen_name,tweet.user.location,'UNKNOWN',[e['text'] for e in tweet._json['entities']['hashtags']]])\n",
        "            else:\n",
        "              w.writerow([tweet.created_at, tweet.full_text, tweet.user.screen_name,tweet.user.location, tweet.place.country,[e['text'] for e in tweet._json['entities']['hashtags']]])\n",
        "\n",
        "api_key = getpass.getpass('Enter twitter consumer api key :  ')\n",
        "api_secret = getpass.getpass('Enter twitter consumer api secret key :  ')\n",
        "access_token = getpass.getpass('Enter twitter access token  :  ')\n",
        "access_secret = getpass.getpass('Enter twitter access secret token :  ')\n",
        "scraping_twitter(api_key, api_secret, access_token, access_secret)"
      ],
      "execution_count": null,
      "outputs": []
    },
    {
      "cell_type": "code",
      "metadata": {
        "colab": {
          "base_uri": "https://localhost:8080/",
          "height": 691
        },
        "id": "NqTNgEpRXqXp",
        "outputId": "c622f422-b034-4956-a73e-35dc8f11b356"
      },
      "source": [
        "#Saving the twitter data to a csv file\n",
        "import pandas as pd\n",
        "tweets = pd.read_csv(\"CovidVaccine.csv\")\n",
        "tweets"
      ],
      "execution_count": 8,
      "outputs": [
        {
          "output_type": "execute_result",
          "data": {
            "text/html": [
              "<div>\n",
              "<style scoped>\n",
              "    .dataframe tbody tr th:only-of-type {\n",
              "        vertical-align: middle;\n",
              "    }\n",
              "\n",
              "    .dataframe tbody tr th {\n",
              "        vertical-align: top;\n",
              "    }\n",
              "\n",
              "    .dataframe thead th {\n",
              "        text-align: right;\n",
              "    }\n",
              "</style>\n",
              "<table border=\"1\" class=\"dataframe\">\n",
              "  <thead>\n",
              "    <tr style=\"text-align: right;\">\n",
              "      <th></th>\n",
              "      <th>TweetDate</th>\n",
              "      <th>TweetText</th>\n",
              "      <th>TweetAuthor</th>\n",
              "      <th>TweetLocation</th>\n",
              "      <th>TweetCountry</th>\n",
              "      <th>AllHashtags</th>\n",
              "    </tr>\n",
              "  </thead>\n",
              "  <tbody>\n",
              "    <tr>\n",
              "      <th>0</th>\n",
              "      <td>2021-03-16 17:04:39</td>\n",
              "      <td>Immediately after a needle related panic attac...</td>\n",
              "      <td>kstep38</td>\n",
              "      <td>NaN</td>\n",
              "      <td>UNKNOWN</td>\n",
              "      <td>['CovidVaccine']</td>\n",
              "    </tr>\n",
              "    <tr>\n",
              "      <th>1</th>\n",
              "      <td>2021-03-16 17:04:27</td>\n",
              "      <td>Facebook is launching a new push to promote th...</td>\n",
              "      <td>MikeMck84268</td>\n",
              "      <td>Huddersfield, West Yorskshire</td>\n",
              "      <td>UNKNOWN</td>\n",
              "      <td>['Facebook', '100daysofcode', 'COVID19Vaccine'...</td>\n",
              "    </tr>\n",
              "    <tr>\n",
              "      <th>2</th>\n",
              "      <td>2021-03-16 17:04:18</td>\n",
              "      <td>Last Friday's Urdu Jumu'ah khutbah was also re...</td>\n",
              "      <td>MakkiMasjid_Mcr</td>\n",
              "      <td>Manchester, England</td>\n",
              "      <td>UNKNOWN</td>\n",
              "      <td>['COVID19', 'vaccine', 'Covid_19', 'CovidVacci...</td>\n",
              "    </tr>\n",
              "    <tr>\n",
              "      <th>3</th>\n",
              "      <td>2021-03-16 17:04:07</td>\n",
              "      <td>So while the \"Last guy\" was on TV saying Covid...</td>\n",
              "      <td>Deemoney521</td>\n",
              "      <td>NaN</td>\n",
              "      <td>UNKNOWN</td>\n",
              "      <td>['CovidVaccine']</td>\n",
              "    </tr>\n",
              "    <tr>\n",
              "      <th>4</th>\n",
              "      <td>2021-03-16 17:03:48</td>\n",
              "      <td>A year of so much sacrifice and loss, but now....</td>\n",
              "      <td>lilkioko</td>\n",
              "      <td>Chicago, IL</td>\n",
              "      <td>UNKNOWN</td>\n",
              "      <td>['vaccinated', 'ScienceRocks']</td>\n",
              "    </tr>\n",
              "    <tr>\n",
              "      <th>...</th>\n",
              "      <td>...</td>\n",
              "      <td>...</td>\n",
              "      <td>...</td>\n",
              "      <td>...</td>\n",
              "      <td>...</td>\n",
              "      <td>...</td>\n",
              "    </tr>\n",
              "    <tr>\n",
              "      <th>9995</th>\n",
              "      <td>2021-03-14 09:17:35</td>\n",
              "      <td>#Marr @Channel4News @SkyNews \\n\\nThink you're ...</td>\n",
              "      <td>WaronSpeech</td>\n",
              "      <td>uk</td>\n",
              "      <td>UNKNOWN</td>\n",
              "      <td>['Marr', 'GAVI', 'vaccines', 'billgates', 'COV...</td>\n",
              "    </tr>\n",
              "    <tr>\n",
              "      <th>9996</th>\n",
              "      <td>2021-03-14 09:17:34</td>\n",
              "      <td>#Marr @Channel4News @SkyNews \\n\\nThink you're ...</td>\n",
              "      <td>WaronSpeech</td>\n",
              "      <td>uk</td>\n",
              "      <td>UNKNOWN</td>\n",
              "      <td>['Marr', 'GAVI', 'vaccines', 'billgates', 'COV...</td>\n",
              "    </tr>\n",
              "    <tr>\n",
              "      <th>9997</th>\n",
              "      <td>2021-03-14 09:17:34</td>\n",
              "      <td>#Marr think you're clever\\nhttps://t.co/EbQ79s...</td>\n",
              "      <td>WaronSpeech</td>\n",
              "      <td>uk</td>\n",
              "      <td>UNKNOWN</td>\n",
              "      <td>['Marr', 'GAVI', 'vaccines', 'billgates', 'COV...</td>\n",
              "    </tr>\n",
              "    <tr>\n",
              "      <th>9998</th>\n",
              "      <td>2021-03-14 09:17:32</td>\n",
              "      <td>Interactable #heatmap showing number of new #C...</td>\n",
              "      <td>hangangmagazine</td>\n",
              "      <td>Seoul, Korea</td>\n",
              "      <td>UNKNOWN</td>\n",
              "      <td>['heatmap', 'COVIDVaccinations', 'Korea', 'cor...</td>\n",
              "    </tr>\n",
              "    <tr>\n",
              "      <th>9999</th>\n",
              "      <td>2021-03-14 09:17:16</td>\n",
              "      <td>Undisputed middleweight champion Marvelous Mar...</td>\n",
              "      <td>HPVSideEffects</td>\n",
              "      <td>NaN</td>\n",
              "      <td>UNKNOWN</td>\n",
              "      <td>['vaccinated']</td>\n",
              "    </tr>\n",
              "  </tbody>\n",
              "</table>\n",
              "<p>10000 rows × 6 columns</p>\n",
              "</div>"
            ],
            "text/plain": [
              "                TweetDate  ...                                        AllHashtags\n",
              "0     2021-03-16 17:04:39  ...                                   ['CovidVaccine']\n",
              "1     2021-03-16 17:04:27  ...  ['Facebook', '100daysofcode', 'COVID19Vaccine'...\n",
              "2     2021-03-16 17:04:18  ...  ['COVID19', 'vaccine', 'Covid_19', 'CovidVacci...\n",
              "3     2021-03-16 17:04:07  ...                                   ['CovidVaccine']\n",
              "4     2021-03-16 17:03:48  ...                     ['vaccinated', 'ScienceRocks']\n",
              "...                   ...  ...                                                ...\n",
              "9995  2021-03-14 09:17:35  ...  ['Marr', 'GAVI', 'vaccines', 'billgates', 'COV...\n",
              "9996  2021-03-14 09:17:34  ...  ['Marr', 'GAVI', 'vaccines', 'billgates', 'COV...\n",
              "9997  2021-03-14 09:17:34  ...  ['Marr', 'GAVI', 'vaccines', 'billgates', 'COV...\n",
              "9998  2021-03-14 09:17:32  ...  ['heatmap', 'COVIDVaccinations', 'Korea', 'cor...\n",
              "9999  2021-03-14 09:17:16  ...                                     ['vaccinated']\n",
              "\n",
              "[10000 rows x 6 columns]"
            ]
          },
          "metadata": {
            "tags": []
          },
          "execution_count": 8
        }
      ]
    }
  ]
}