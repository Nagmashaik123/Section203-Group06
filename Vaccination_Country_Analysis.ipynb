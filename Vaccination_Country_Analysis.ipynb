{
  "nbformat": 4,
  "nbformat_minor": 0,
  "metadata": {
    "colab": {
      "name": "Untitled8.ipynb",
      "provenance": [],
      "include_colab_link": true
    },
    "kernelspec": {
      "name": "python3",
      "display_name": "Python 3"
    }
  },
  "cells": [
    {
      "cell_type": "markdown",
      "metadata": {
        "id": "view-in-github",
        "colab_type": "text"
      },
      "source": [
        "<a href=\"https://colab.research.google.com/github/Nagmashaik123/Section203-Group06/blob/main/Vaccination_Country_Analysis.ipynb\" target=\"_parent\"><img src=\"https://colab.research.google.com/assets/colab-badge.svg\" alt=\"Open In Colab\"/></a>"
      ]
    },
    {
      "cell_type": "code",
      "metadata": {
        "id": "yVg8hue_81xN"
      },
      "source": [
        "\n",
        "# importing pandas module  \n",
        "import pandas as pd \n",
        "df = pd.read_csv(\"CovidVaccineWorldWide.csv\")\n"
      ],
      "execution_count": 1,
      "outputs": []
    },
    {
      "cell_type": "code",
      "metadata": {
        "colab": {
          "base_uri": "https://localhost:8080/",
          "height": 589
        },
        "id": "ZHzsNdnwZVKP",
        "outputId": "ba0a68e7-3256-4a3e-f511-177e4726f623"
      },
      "source": [
        "data = df[df.Country != 'Unknown']\n",
        "data"
      ],
      "execution_count": 2,
      "outputs": [
        {
          "output_type": "execute_result",
          "data": {
            "text/html": [
              "<div>\n",
              "<style scoped>\n",
              "    .dataframe tbody tr th:only-of-type {\n",
              "        vertical-align: middle;\n",
              "    }\n",
              "\n",
              "    .dataframe tbody tr th {\n",
              "        vertical-align: top;\n",
              "    }\n",
              "\n",
              "    .dataframe thead th {\n",
              "        text-align: right;\n",
              "    }\n",
              "</style>\n",
              "<table border=\"1\" class=\"dataframe\">\n",
              "  <thead>\n",
              "    <tr style=\"text-align: right;\">\n",
              "      <th></th>\n",
              "      <th>TweetDate</th>\n",
              "      <th>TweetText</th>\n",
              "      <th>TweetAuthor</th>\n",
              "      <th>TweetLocation</th>\n",
              "      <th>AllHashtags</th>\n",
              "      <th>Country</th>\n",
              "    </tr>\n",
              "  </thead>\n",
              "  <tbody>\n",
              "    <tr>\n",
              "      <th>0</th>\n",
              "      <td>2021-04-02 23:59:56</td>\n",
              "      <td>RT @ichaydon: A year ago I tried the Moderna v...</td>\n",
              "      <td>realbafomet</td>\n",
              "      <td>United Arab Emirates</td>\n",
              "      <td>['COVIDvaccine']</td>\n",
              "      <td>United Arab Emirates</td>\n",
              "    </tr>\n",
              "    <tr>\n",
              "      <th>3</th>\n",
              "      <td>2021-04-02 23:59:43</td>\n",
              "      <td>RT @hotvickkrishna: Why we need Two Doses of m...</td>\n",
              "      <td>tammeeh</td>\n",
              "      <td>Kota Petir</td>\n",
              "      <td>['vaccines', 'COVID19', 'Pfizer', 'moderna', '...</td>\n",
              "      <td>Indonesia</td>\n",
              "    </tr>\n",
              "    <tr>\n",
              "      <th>4</th>\n",
              "      <td>2021-04-02 23:59:43</td>\n",
              "      <td>RT @ichaydon: A year ago I tried the Moderna v...</td>\n",
              "      <td>shipshape555</td>\n",
              "      <td>San Diego</td>\n",
              "      <td>['COVIDvaccine']</td>\n",
              "      <td>United States</td>\n",
              "    </tr>\n",
              "    <tr>\n",
              "      <th>5</th>\n",
              "      <td>2021-04-02 23:59:40</td>\n",
              "      <td>I didn’t throw away my [chance to get a] shot....</td>\n",
              "      <td>debrabirnbaum</td>\n",
              "      <td>Los Angeles</td>\n",
              "      <td>['vaccinated']</td>\n",
              "      <td>United States</td>\n",
              "    </tr>\n",
              "    <tr>\n",
              "      <th>6</th>\n",
              "      <td>2021-04-02 23:59:39</td>\n",
              "      <td>RT @hotvickkrishna: Why we need Two Doses of m...</td>\n",
              "      <td>disgrosstinggg</td>\n",
              "      <td>New York</td>\n",
              "      <td>['vaccines', 'COVID19', 'Pfizer', 'moderna', '...</td>\n",
              "      <td>United States</td>\n",
              "    </tr>\n",
              "    <tr>\n",
              "      <th>...</th>\n",
              "      <td>...</td>\n",
              "      <td>...</td>\n",
              "      <td>...</td>\n",
              "      <td>...</td>\n",
              "      <td>...</td>\n",
              "      <td>...</td>\n",
              "    </tr>\n",
              "    <tr>\n",
              "      <th>206245</th>\n",
              "      <td>2021-03-10 22:35:54</td>\n",
              "      <td>I blasted this in the car as an Army nurse gav...</td>\n",
              "      <td>MatthewDWhite2</td>\n",
              "      <td>New Orleans</td>\n",
              "      <td>['vaccinated', 'vaccine', 'rona', 'Mississippi...</td>\n",
              "      <td>United States</td>\n",
              "    </tr>\n",
              "    <tr>\n",
              "      <th>206246</th>\n",
              "      <td>2021-03-10 22:35:48</td>\n",
              "      <td>2nd #Pfizer shot!! I’m vaccinated! Thank you @...</td>\n",
              "      <td>NYMetroVets</td>\n",
              "      <td>Bronx</td>\n",
              "      <td>['Pfizer', 'Veterans', 'CovidVaccine']</td>\n",
              "      <td>United States</td>\n",
              "    </tr>\n",
              "    <tr>\n",
              "      <th>206247</th>\n",
              "      <td>2021-03-10 22:35:09</td>\n",
              "      <td>@Sarahluvshkey77 Tomorrow is two weeks since m...</td>\n",
              "      <td>G8rgrrlCheryl</td>\n",
              "      <td>Western Washington</td>\n",
              "      <td>['vaccinated']</td>\n",
              "      <td>United States</td>\n",
              "    </tr>\n",
              "    <tr>\n",
              "      <th>206248</th>\n",
              "      <td>2021-03-10 22:35:00</td>\n",
              "      <td>#COVID19 vaccines are hard to come by, but the...</td>\n",
              "      <td>medicaldaily</td>\n",
              "      <td>New York</td>\n",
              "      <td>['COVID19', 'COVID19vaccine', 'vaccineregistra...</td>\n",
              "      <td>United States</td>\n",
              "    </tr>\n",
              "    <tr>\n",
              "      <th>206249</th>\n",
              "      <td>2021-03-10 22:34:59</td>\n",
              "      <td>Fully vaccinated ✅ #vaccinated #COVID19 #vacci...</td>\n",
              "      <td>sister_sweeney</td>\n",
              "      <td>London</td>\n",
              "      <td>['vaccinated', 'COVID19', 'vaccine', 'GetVacci...</td>\n",
              "      <td>United Kingdom</td>\n",
              "    </tr>\n",
              "  </tbody>\n",
              "</table>\n",
              "<p>138612 rows × 6 columns</p>\n",
              "</div>"
            ],
            "text/plain": [
              "                  TweetDate  ...               Country\n",
              "0       2021-04-02 23:59:56  ...  United Arab Emirates\n",
              "3       2021-04-02 23:59:43  ...             Indonesia\n",
              "4       2021-04-02 23:59:43  ...         United States\n",
              "5       2021-04-02 23:59:40  ...         United States\n",
              "6       2021-04-02 23:59:39  ...         United States\n",
              "...                     ...  ...                   ...\n",
              "206245  2021-03-10 22:35:54  ...         United States\n",
              "206246  2021-03-10 22:35:48  ...         United States\n",
              "206247  2021-03-10 22:35:09  ...         United States\n",
              "206248  2021-03-10 22:35:00  ...         United States\n",
              "206249  2021-03-10 22:34:59  ...        United Kingdom\n",
              "\n",
              "[138612 rows x 6 columns]"
            ]
          },
          "metadata": {
            "tags": []
          },
          "execution_count": 2
        }
      ]
    },
    {
      "cell_type": "code",
      "metadata": {
        "colab": {
          "base_uri": "https://localhost:8080/",
          "height": 419
        },
        "id": "_qGd9FYmC-84",
        "outputId": "1cb93d67-8763-4634-a38d-0f996f7e2a80"
      },
      "source": [
        "# Filtering the data set to represent bar graph\n",
        "dataFr = pd.DataFrame(data.Country.value_counts().loc[lambda x : x>39].reset_index().values, columns=[\"Tweet_Country\", \"Vaccination_Count\"])\n",
        "dataFrame = dataFr.sort_index(axis = 1)\n",
        "dataFrame\n",
        "\n",
        "\n"
      ],
      "execution_count": 3,
      "outputs": [
        {
          "output_type": "execute_result",
          "data": {
            "text/html": [
              "<div>\n",
              "<style scoped>\n",
              "    .dataframe tbody tr th:only-of-type {\n",
              "        vertical-align: middle;\n",
              "    }\n",
              "\n",
              "    .dataframe tbody tr th {\n",
              "        vertical-align: top;\n",
              "    }\n",
              "\n",
              "    .dataframe thead th {\n",
              "        text-align: right;\n",
              "    }\n",
              "</style>\n",
              "<table border=\"1\" class=\"dataframe\">\n",
              "  <thead>\n",
              "    <tr style=\"text-align: right;\">\n",
              "      <th></th>\n",
              "      <th>Tweet_Country</th>\n",
              "      <th>Vaccination_Count</th>\n",
              "    </tr>\n",
              "  </thead>\n",
              "  <tbody>\n",
              "    <tr>\n",
              "      <th>0</th>\n",
              "      <td>United States</td>\n",
              "      <td>60744</td>\n",
              "    </tr>\n",
              "    <tr>\n",
              "      <th>1</th>\n",
              "      <td>United Kingdom</td>\n",
              "      <td>22694</td>\n",
              "    </tr>\n",
              "    <tr>\n",
              "      <th>2</th>\n",
              "      <td>India</td>\n",
              "      <td>12570</td>\n",
              "    </tr>\n",
              "    <tr>\n",
              "      <th>3</th>\n",
              "      <td>Canada</td>\n",
              "      <td>11547</td>\n",
              "    </tr>\n",
              "    <tr>\n",
              "      <th>4</th>\n",
              "      <td>Australia</td>\n",
              "      <td>2717</td>\n",
              "    </tr>\n",
              "    <tr>\n",
              "      <th>...</th>\n",
              "      <td>...</td>\n",
              "      <td>...</td>\n",
              "    </tr>\n",
              "    <tr>\n",
              "      <th>91</th>\n",
              "      <td>Iceland</td>\n",
              "      <td>43</td>\n",
              "    </tr>\n",
              "    <tr>\n",
              "      <th>92</th>\n",
              "      <td>Costa Rica</td>\n",
              "      <td>42</td>\n",
              "    </tr>\n",
              "    <tr>\n",
              "      <th>93</th>\n",
              "      <td>Iraq</td>\n",
              "      <td>41</td>\n",
              "    </tr>\n",
              "    <tr>\n",
              "      <th>94</th>\n",
              "      <td>Isle of Man</td>\n",
              "      <td>40</td>\n",
              "    </tr>\n",
              "    <tr>\n",
              "      <th>95</th>\n",
              "      <td>Maldives</td>\n",
              "      <td>40</td>\n",
              "    </tr>\n",
              "  </tbody>\n",
              "</table>\n",
              "<p>96 rows × 2 columns</p>\n",
              "</div>"
            ],
            "text/plain": [
              "     Tweet_Country Vaccination_Count\n",
              "0    United States             60744\n",
              "1   United Kingdom             22694\n",
              "2            India             12570\n",
              "3           Canada             11547\n",
              "4        Australia              2717\n",
              "..             ...               ...\n",
              "91         Iceland                43\n",
              "92      Costa Rica                42\n",
              "93            Iraq                41\n",
              "94     Isle of Man                40\n",
              "95        Maldives                40\n",
              "\n",
              "[96 rows x 2 columns]"
            ]
          },
          "metadata": {
            "tags": []
          },
          "execution_count": 3
        }
      ]
    },
    {
      "cell_type": "code",
      "metadata": {
        "colab": {
          "base_uri": "https://localhost:8080/",
          "height": 282
        },
        "id": "W5n5V8jEHbiY",
        "outputId": "d6768013-dacd-4f60-a48b-f2e01b3d6746"
      },
      "source": [
        "data['Country'].value_counts(normalize=True)[:20].plot(kind='barh')"
      ],
      "execution_count": 4,
      "outputs": [
        {
          "output_type": "execute_result",
          "data": {
            "text/plain": [
              "<matplotlib.axes._subplots.AxesSubplot at 0x7f96780cad50>"
            ]
          },
          "metadata": {
            "tags": []
          },
          "execution_count": 4
        },
        {
          "output_type": "display_data",
          "data": {
            "image/png": "[encoded data removed]",
            "text/plain": [
              "<Figure size 432x288 with 1 Axes>"
            ]
          },
          "metadata": {
            "tags": [],
            "needs_background": "light"
          }
        }
      ]
    }
  ]
}