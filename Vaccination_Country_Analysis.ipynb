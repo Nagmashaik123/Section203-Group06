{
  "nbformat": 4,
  "nbformat_minor": 0,
  "metadata": {
    "colab": {
      "name": "Untitled8.ipynb",
      "provenance": [],
      "include_colab_link": true
    },
    "kernelspec": {
      "name": "python3",
      "display_name": "Python 3"
    }
  },
  "cells": [
    {
      "cell_type": "markdown",
      "metadata": {
        "id": "view-in-github",
        "colab_type": "text"
      },
      "source": [
        "<a href=\"https://colab.research.google.com/github/Nagmashaik123/Section203-Group06/blob/main/Vaccination_Country_Analysis.ipynb\" target=\"_parent\"><img src=\"https://colab.research.google.com/assets/colab-badge.svg\" alt=\"Open In Colab\"/></a>"
      ]
    },
    {
      "cell_type": "code",
      "metadata": {
        "id": "yVg8hue_81xN"
      },
      "source": [
        "\n",
        "# importing pandas module  \n",
        "import pandas as pd \n",
        "df = pd.read_csv(\"/content/CovidVaccineWorldWide.csv\")\n"
      ],
      "execution_count": 2,
      "outputs": []
    },
    {
      "cell_type": "code",
      "metadata": {
        "colab": {
          "base_uri": "https://localhost:8080/",
          "height": 949
        },
        "id": "ZHzsNdnwZVKP",
        "outputId": "3a3125aa-01d8-4afc-d13f-245f6ed452d1"
      },
      "source": [
        "data = df[df.Country != 'Unknown']\n",
        "data"
      ],
      "execution_count": 3,
      "outputs": [
        {
          "output_type": "execute_result",
          "data": {
            "text/html": [
              "<div>\n",
              "<style scoped>\n",
              "    .dataframe tbody tr th:only-of-type {\n",
              "        vertical-align: middle;\n",
              "    }\n",
              "\n",
              "    .dataframe tbody tr th {\n",
              "        vertical-align: top;\n",
              "    }\n",
              "\n",
              "    .dataframe thead th {\n",
              "        text-align: right;\n",
              "    }\n",
              "</style>\n",
              "<table border=\"1\" class=\"dataframe\">\n",
              "  <thead>\n",
              "    <tr style=\"text-align: right;\">\n",
              "      <th></th>\n",
              "      <th>Unnamed: 0</th>\n",
              "      <th>TweetDate</th>\n",
              "      <th>TweetText</th>\n",
              "      <th>TweetAuthor</th>\n",
              "      <th>TweetLocation</th>\n",
              "      <th>AllHashtags</th>\n",
              "      <th>Country</th>\n",
              "    </tr>\n",
              "  </thead>\n",
              "  <tbody>\n",
              "    <tr>\n",
              "      <th>2</th>\n",
              "      <td>2</td>\n",
              "      <td>2021-03-17 23:58:31</td>\n",
              "      <td>@hendopolis Imagine if the #Brexit referendum ...</td>\n",
              "      <td>raymasseytweets</td>\n",
              "      <td>England</td>\n",
              "      <td>['Brexit', 'EU', 'TrueColours', 'Impfstoff', '...</td>\n",
              "      <td>United Kingdom</td>\n",
              "    </tr>\n",
              "    <tr>\n",
              "      <th>3</th>\n",
              "      <td>3</td>\n",
              "      <td>2021-03-17 23:58:03</td>\n",
              "      <td>@EICostheta @RicBarraArch1 @insiders Yep. The ...</td>\n",
              "      <td>MikeFitzAU</td>\n",
              "      <td>Mudjimba</td>\n",
              "      <td>['LiarsNParasites', 'CovidVaccine']</td>\n",
              "      <td>Australia</td>\n",
              "    </tr>\n",
              "    <tr>\n",
              "      <th>4</th>\n",
              "      <td>4</td>\n",
              "      <td>2021-03-17 23:57:37</td>\n",
              "      <td>This sounds like an important topic for @NickS...</td>\n",
              "      <td>stephjantzen</td>\n",
              "      <td>Greater Sacramento</td>\n",
              "      <td>['FiresideChat', 'CovidVaccine']</td>\n",
              "      <td>Brazil</td>\n",
              "    </tr>\n",
              "    <tr>\n",
              "      <th>6</th>\n",
              "      <td>6</td>\n",
              "      <td>2021-03-17 23:57:19</td>\n",
              "      <td>Update. 4.45pm. Back in the parking lot. Peopl...</td>\n",
              "      <td>theanthonydavis</td>\n",
              "      <td>Los Angeles</td>\n",
              "      <td>['CovidVaccine']</td>\n",
              "      <td>United States</td>\n",
              "    </tr>\n",
              "    <tr>\n",
              "      <th>7</th>\n",
              "      <td>7</td>\n",
              "      <td>2021-03-17 23:57:11</td>\n",
              "      <td>German Headlines \\nAngela Merkel refuses Astra...</td>\n",
              "      <td>SamanthaSAS</td>\n",
              "      <td>USA</td>\n",
              "      <td>['CovidVaccine', 'COVID19']</td>\n",
              "      <td>United States</td>\n",
              "    </tr>\n",
              "    <tr>\n",
              "      <th>...</th>\n",
              "      <td>...</td>\n",
              "      <td>...</td>\n",
              "      <td>...</td>\n",
              "      <td>...</td>\n",
              "      <td>...</td>\n",
              "      <td>...</td>\n",
              "      <td>...</td>\n",
              "    </tr>\n",
              "    <tr>\n",
              "      <th>77838</th>\n",
              "      <td>7837</td>\n",
              "      <td>2021-03-18 16:02:03</td>\n",
              "      <td>RT @EMA_News: ‼️ We are starting the press bri...</td>\n",
              "      <td>EU_Bonn</td>\n",
              "      <td>Für NRW</td>\n",
              "      <td>['COVID19Vaccine']</td>\n",
              "      <td>Germany</td>\n",
              "    </tr>\n",
              "    <tr>\n",
              "      <th>77839</th>\n",
              "      <td>7838</td>\n",
              "      <td>2021-03-18 16:02:01</td>\n",
              "      <td>RT @EMA_News: ‼️ We are starting the press bri...</td>\n",
              "      <td>ChAhmedSabri</td>\n",
              "      <td>Egypt</td>\n",
              "      <td>['COVID19Vaccine']</td>\n",
              "      <td>Egypt</td>\n",
              "    </tr>\n",
              "    <tr>\n",
              "      <th>77840</th>\n",
              "      <td>7839</td>\n",
              "      <td>2021-03-18 16:01:57</td>\n",
              "      <td>RT @EMA_News: ‼️ We are starting the press bri...</td>\n",
              "      <td>chiaramondi</td>\n",
              "      <td>Italy</td>\n",
              "      <td>['COVID19Vaccine']</td>\n",
              "      <td>Italy</td>\n",
              "    </tr>\n",
              "    <tr>\n",
              "      <th>77841</th>\n",
              "      <td>7840</td>\n",
              "      <td>2021-03-18 16:01:51</td>\n",
              "      <td>RT @EMA_News: ‼️ We are starting the press bri...</td>\n",
              "      <td>andrewiconnell</td>\n",
              "      <td>London • Wirral</td>\n",
              "      <td>['COVID19Vaccine']</td>\n",
              "      <td>United Kingdom</td>\n",
              "    </tr>\n",
              "    <tr>\n",
              "      <th>77842</th>\n",
              "      <td>7841</td>\n",
              "      <td>2021-03-18 16:01:48</td>\n",
              "      <td>I got vaccinated today my arm hurt a little no...</td>\n",
              "      <td>NaN</td>\n",
              "      <td>NaN</td>\n",
              "      <td>NaN</td>\n",
              "      <td>NaN</td>\n",
              "    </tr>\n",
              "  </tbody>\n",
              "</table>\n",
              "<p>53011 rows × 7 columns</p>\n",
              "</div>"
            ],
            "text/plain": [
              "      Unnamed: 0  ...         Country\n",
              "2              2  ...  United Kingdom\n",
              "3              3  ...       Australia\n",
              "4              4  ...          Brazil\n",
              "6              6  ...   United States\n",
              "7              7  ...   United States\n",
              "...          ...  ...             ...\n",
              "77838       7837  ...         Germany\n",
              "77839       7838  ...           Egypt\n",
              "77840       7839  ...           Italy\n",
              "77841       7840  ...  United Kingdom\n",
              "77842       7841  ...             NaN\n",
              "\n",
              "[53011 rows x 7 columns]"
            ]
          },
          "metadata": {
            "tags": []
          },
          "execution_count": 3
        }
      ]
    },
    {
      "cell_type": "code",
      "metadata": {
        "colab": {
          "base_uri": "https://localhost:8080/",
          "height": 419
        },
        "id": "_qGd9FYmC-84",
        "outputId": "65a37bf8-7545-4a39-b8fc-daa6bf9ef3c7"
      },
      "source": [
        "# Filtering the data set to represent bar graph\n",
        "dataFr = pd.DataFrame(data.Country.value_counts().loc[lambda x : x>39].reset_index().values, columns=[\"Tweet_Country\", \"Vaccination_Count\"])\n",
        "dataFrame = dataFr.sort_index(axis = 1)\n",
        "dataFrame\n",
        "\n",
        "\n"
      ],
      "execution_count": 5,
      "outputs": [
        {
          "output_type": "execute_result",
          "data": {
            "text/html": [
              "<div>\n",
              "<style scoped>\n",
              "    .dataframe tbody tr th:only-of-type {\n",
              "        vertical-align: middle;\n",
              "    }\n",
              "\n",
              "    .dataframe tbody tr th {\n",
              "        vertical-align: top;\n",
              "    }\n",
              "\n",
              "    .dataframe thead th {\n",
              "        text-align: right;\n",
              "    }\n",
              "</style>\n",
              "<table border=\"1\" class=\"dataframe\">\n",
              "  <thead>\n",
              "    <tr style=\"text-align: right;\">\n",
              "      <th></th>\n",
              "      <th>Tweet_Country</th>\n",
              "      <th>Vaccination_Count</th>\n",
              "    </tr>\n",
              "  </thead>\n",
              "  <tbody>\n",
              "    <tr>\n",
              "      <th>0</th>\n",
              "      <td>United States</td>\n",
              "      <td>21996</td>\n",
              "    </tr>\n",
              "    <tr>\n",
              "      <th>1</th>\n",
              "      <td>United Kingdom</td>\n",
              "      <td>9738</td>\n",
              "    </tr>\n",
              "    <tr>\n",
              "      <th>2</th>\n",
              "      <td>India</td>\n",
              "      <td>4769</td>\n",
              "    </tr>\n",
              "    <tr>\n",
              "      <th>3</th>\n",
              "      <td>Canada</td>\n",
              "      <td>4314</td>\n",
              "    </tr>\n",
              "    <tr>\n",
              "      <th>4</th>\n",
              "      <td>Kenya</td>\n",
              "      <td>1135</td>\n",
              "    </tr>\n",
              "    <tr>\n",
              "      <th>...</th>\n",
              "      <td>...</td>\n",
              "      <td>...</td>\n",
              "    </tr>\n",
              "    <tr>\n",
              "      <th>57</th>\n",
              "      <td>Trinidad and Tobago</td>\n",
              "      <td>42</td>\n",
              "    </tr>\n",
              "    <tr>\n",
              "      <th>58</th>\n",
              "      <td>Malawi</td>\n",
              "      <td>42</td>\n",
              "    </tr>\n",
              "    <tr>\n",
              "      <th>59</th>\n",
              "      <td>Czechia</td>\n",
              "      <td>40</td>\n",
              "    </tr>\n",
              "    <tr>\n",
              "      <th>60</th>\n",
              "      <td>Ukraine</td>\n",
              "      <td>40</td>\n",
              "    </tr>\n",
              "    <tr>\n",
              "      <th>61</th>\n",
              "      <td>Ethiopia</td>\n",
              "      <td>40</td>\n",
              "    </tr>\n",
              "  </tbody>\n",
              "</table>\n",
              "<p>62 rows × 2 columns</p>\n",
              "</div>"
            ],
            "text/plain": [
              "          Tweet_Country Vaccination_Count\n",
              "0         United States             21996\n",
              "1        United Kingdom              9738\n",
              "2                 India              4769\n",
              "3                Canada              4314\n",
              "4                 Kenya              1135\n",
              "..                  ...               ...\n",
              "57  Trinidad and Tobago                42\n",
              "58               Malawi                42\n",
              "59              Czechia                40\n",
              "60              Ukraine                40\n",
              "61             Ethiopia                40\n",
              "\n",
              "[62 rows x 2 columns]"
            ]
          },
          "metadata": {
            "tags": []
          },
          "execution_count": 5
        }
      ]
    },
    {
      "cell_type": "code",
      "metadata": {
        "colab": {
          "base_uri": "https://localhost:8080/",
          "height": 282
        },
        "id": "W5n5V8jEHbiY",
        "outputId": "4780635d-4144-4a65-dbe9-0472d4634ecb"
      },
      "source": [
        "data['Country'].value_counts(normalize=True)[:20].plot(kind='barh')"
      ],
      "execution_count": 6,
      "outputs": [
        {
          "output_type": "execute_result",
          "data": {
            "text/plain": [
              "<matplotlib.axes._subplots.AxesSubplot at 0x7fd297869350>"
            ]
          },
          "metadata": {
            "tags": []
          },
          "execution_count": 6
        },
        {
          "output_type": "display_data",
          "data": {
            "image/png": "[encoded data removed]",
            "text/plain": [
              "<Figure size 432x288 with 1 Axes>"
            ]
          },
          "metadata": {
            "tags": [],
            "needs_background": "light"
          }
        }
      ]
    }
  ]
}