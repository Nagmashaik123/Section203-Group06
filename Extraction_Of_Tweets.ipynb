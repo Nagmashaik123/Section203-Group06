{
  "nbformat": 4,
  "nbformat_minor": 0,
  "metadata": {
    "colab": {
      "name": "Copy of Extraction_Of_Tweets.ipynb",
      "provenance": [],
      "collapsed_sections": [],
      "include_colab_link": true
    },
    "kernelspec": {
      "name": "python3",
      "display_name": "Python 3"
    }
  },
  "cells": [
    {
      "cell_type": "markdown",
      "metadata": {
        "id": "view-in-github",
        "colab_type": "text"
      },
      "source": [
        "<a href=\"https://colab.research.google.com/github/Nagmashaik123/Section203-Group06/blob/main/Extraction_Of_Tweets.ipynb\" target=\"_parent\"><img src=\"https://colab.research.google.com/assets/colab-badge.svg\" alt=\"Open In Colab\"/></a>"
      ]
    },
    {
      "cell_type": "code",
      "metadata": {
        "id": "lSfGUGflsrAY",
        "colab": {
          "base_uri": "https://localhost:8080/"
        },
        "outputId": "c9cf3c7f-3c00-40aa-9f48-ba381d98366d"
      },
      "source": [
        "!pip install tweepy\n"
      ],
      "execution_count": 1,
      "outputs": [
        {
          "output_type": "stream",
          "text": [
            "Requirement already satisfied: tweepy in /usr/local/lib/python3.7/dist-packages (3.10.0)\n",
            "Requirement already satisfied: six>=1.10.0 in /usr/local/lib/python3.7/dist-packages (from tweepy) (1.15.0)\n",
            "Requirement already satisfied: requests[socks]>=2.11.1 in /usr/local/lib/python3.7/dist-packages (from tweepy) (2.23.0)\n",
            "Requirement already satisfied: requests-oauthlib>=0.7.0 in /usr/local/lib/python3.7/dist-packages (from tweepy) (1.3.0)\n",
            "Requirement already satisfied: certifi>=2017.4.17 in /usr/local/lib/python3.7/dist-packages (from requests[socks]>=2.11.1->tweepy) (2020.12.5)\n",
            "Requirement already satisfied: chardet<4,>=3.0.2 in /usr/local/lib/python3.7/dist-packages (from requests[socks]>=2.11.1->tweepy) (3.0.4)\n",
            "Requirement already satisfied: urllib3!=1.25.0,!=1.25.1,<1.26,>=1.21.1 in /usr/local/lib/python3.7/dist-packages (from requests[socks]>=2.11.1->tweepy) (1.24.3)\n",
            "Requirement already satisfied: idna<3,>=2.5 in /usr/local/lib/python3.7/dist-packages (from requests[socks]>=2.11.1->tweepy) (2.10)\n",
            "Requirement already satisfied: PySocks!=1.5.7,>=1.5.6; extra == \"socks\" in /usr/local/lib/python3.7/dist-packages (from requests[socks]>=2.11.1->tweepy) (1.7.1)\n",
            "Requirement already satisfied: oauthlib>=3.0.0 in /usr/local/lib/python3.7/dist-packages (from requests-oauthlib>=0.7.0->tweepy) (3.1.0)\n"
          ],
          "name": "stdout"
        }
      ]
    },
    {
      "cell_type": "code",
      "metadata": {
        "id": "HOm32ru60ASH",
        "outputId": "b5a5d938-a9fe-4fe9-cdd5-6473d880df2e",
        "colab": {
          "base_uri": "https://localhost:8080/"
        }
      },
      "source": [
        "# Extracting twitter data using Twitter API\n",
        "import json\n",
        "import csv\n",
        "import re\n",
        "import os\n",
        "import tweepy\n",
        "import getpass\n",
        "# Defining function to scrape twitter data\n",
        "def scraping_twitter(api_key, api_secret, access_token, access_secret):\n",
        "    # Hashtag of the tweets to be extracted\n",
        "    hashtag = \"#Vaccinated OR #CovidVaccine OR #Covid19Vaccine\"\n",
        "    # authenticating the twitter developer account to access the tweets\n",
        "    authenticate = tweepy.OAuthHandler(api_key, api_secret)\n",
        "    authenticate.set_access_token(access_token, access_secret)\n",
        "    # Extracting tweets using API function of tweepy package\n",
        "    api = tweepy.API(authenticate, wait_on_rate_limit=True)\n",
        "    file_name = 'CovidVaccine'\n",
        "    with open('%s.csv' % (file_name), 'w') as file:\n",
        "        w = csv.writer(file)\n",
        "        w.writerow(['TweetDate', 'TweetText', 'TweetAuthor','TweetLocation','AllHashtags'])\n",
        "        # Iterate and extract tweets\n",
        "        for tweet in tweepy.Cursor(api.search, q=hashtag, lang=\"en\", since = \"2021-03-11\", until = \"2021-03-26\", tweet_mode='extended').items(10000):\n",
        "          w.writerow([tweet.created_at, tweet.full_text, tweet.user.screen_name,tweet.user.location, [e['text'] for e in tweet._json['entities']['hashtags']]])\n",
        "\n",
        "api_key = getpass.getpass('Enter twitter consumer api key :  ')\n",
        "api_secret = getpass.getpass('Enter twitter consumer api secret key :  ')\n",
        "access_token = getpass.getpass('Enter twitter access token  :  ')\n",
        "access_secret = getpass.getpass('Enter twitter access secret token :  ')\n",
        "    \n",
        "scraping_twitter(api_key, api_secret, access_token, access_secret)"
      ],
      "execution_count": 2,
      "outputs": [
        {
          "output_type": "stream",
          "text": [
            "Enter twitter consumer api key :  ··········\n",
            "Enter twitter consumer api secret key :  ··········\n",
            "Enter twitter access token  :  ··········\n",
            "Enter twitter access secret token :  ··········\n"
          ],
          "name": "stdout"
        }
      ]
    },
    {
      "cell_type": "code",
      "metadata": {
        "id": "pO0axMmKQ9Nt",
        "outputId": "d1f9c490-3319-4f2e-de55-f3dacd91b770",
        "colab": {
          "base_uri": "https://localhost:8080/",
          "height": 691
        }
      },
      "source": [
        "import pandas as pd\n",
        "df=pd.read_csv(r\"CovidVaccine.csv\")\n",
        "df"
      ],
      "execution_count": 3,
      "outputs": [
        {
          "output_type": "execute_result",
          "data": {
            "text/html": [
              "<div>\n",
              "<style scoped>\n",
              "    .dataframe tbody tr th:only-of-type {\n",
              "        vertical-align: middle;\n",
              "    }\n",
              "\n",
              "    .dataframe tbody tr th {\n",
              "        vertical-align: top;\n",
              "    }\n",
              "\n",
              "    .dataframe thead th {\n",
              "        text-align: right;\n",
              "    }\n",
              "</style>\n",
              "<table border=\"1\" class=\"dataframe\">\n",
              "  <thead>\n",
              "    <tr style=\"text-align: right;\">\n",
              "      <th></th>\n",
              "      <th>TweetDate</th>\n",
              "      <th>TweetText</th>\n",
              "      <th>TweetAuthor</th>\n",
              "      <th>TweetLocation</th>\n",
              "      <th>AllHashtags</th>\n",
              "    </tr>\n",
              "  </thead>\n",
              "  <tbody>\n",
              "    <tr>\n",
              "      <th>0</th>\n",
              "      <td>2021-03-25 23:59:57</td>\n",
              "      <td>Stay away from the Sinovac vaccine. It is unsa...</td>\n",
              "      <td>trekker_william</td>\n",
              "      <td>Southwest</td>\n",
              "      <td>['Sinovac', 'ChinaLies', 'CovidVaccine', 'Sino...</td>\n",
              "    </tr>\n",
              "    <tr>\n",
              "      <th>1</th>\n",
              "      <td>2021-03-25 23:59:53</td>\n",
              "      <td>V-A-C-C-I-N-A-T-E-D!!! 💁🏽‍♀️💉❤️😷 #COVID #coron...</td>\n",
              "      <td>ashlydhorace</td>\n",
              "      <td>TX ✈️CA☀️</td>\n",
              "      <td>['COVID', 'coronavirus', 'CoronaVaccine', 'Joh...</td>\n",
              "    </tr>\n",
              "    <tr>\n",
              "      <th>2</th>\n",
              "      <td>2021-03-25 23:59:51</td>\n",
              "      <td>RT @Cal_OES: 🚨ALERT!!🚨More Californians will s...</td>\n",
              "      <td>SantaMonicaLibr</td>\n",
              "      <td>Santa Monica, CA</td>\n",
              "      <td>['CovidVaccine', 'VaccinesWork', 'VaccineEquity']</td>\n",
              "    </tr>\n",
              "    <tr>\n",
              "      <th>3</th>\n",
              "      <td>2021-03-25 23:59:48</td>\n",
              "      <td>RT @THP_hospital: Pharmacy Technicians have be...</td>\n",
              "      <td>PhmSonia</td>\n",
              "      <td>NaN</td>\n",
              "      <td>['COVID19vaccine']</td>\n",
              "    </tr>\n",
              "    <tr>\n",
              "      <th>4</th>\n",
              "      <td>2021-03-25 23:59:32</td>\n",
              "      <td>RT @MaryLTrump: It's been a long fucking year....</td>\n",
              "      <td>102415A</td>\n",
              "      <td>NaN</td>\n",
              "      <td>['KrispyKreme', 'vaccinated']</td>\n",
              "    </tr>\n",
              "    <tr>\n",
              "      <th>...</th>\n",
              "      <td>...</td>\n",
              "      <td>...</td>\n",
              "      <td>...</td>\n",
              "      <td>...</td>\n",
              "      <td>...</td>\n",
              "    </tr>\n",
              "    <tr>\n",
              "      <th>9995</th>\n",
              "      <td>2021-03-25 10:32:52</td>\n",
              "      <td>RT @NHSAbility: Read about work with #FamilyCa...</td>\n",
              "      <td>marybusk</td>\n",
              "      <td>London, England</td>\n",
              "      <td>['FamilyCarers', 'LearningDisability']</td>\n",
              "    </tr>\n",
              "    <tr>\n",
              "      <th>9996</th>\n",
              "      <td>2021-03-25 10:32:52</td>\n",
              "      <td>RT @Angeliccutie19: There is sufficient vaccin...</td>\n",
              "      <td>Dena644</td>\n",
              "      <td>NaN</td>\n",
              "      <td>['vaccinated', 'Corona', 'COVIDー19']</td>\n",
              "    </tr>\n",
              "    <tr>\n",
              "      <th>9997</th>\n",
              "      <td>2021-03-25 10:32:48</td>\n",
              "      <td>RT @MaryLTrump: It's been a long fucking year....</td>\n",
              "      <td>LindaMStaples</td>\n",
              "      <td>NaN</td>\n",
              "      <td>['KrispyKreme', 'vaccinated']</td>\n",
              "    </tr>\n",
              "    <tr>\n",
              "      <th>9998</th>\n",
              "      <td>2021-03-25 10:32:47</td>\n",
              "      <td>RT @DrMercyKorir: New @MOH_Kenya directive: If...</td>\n",
              "      <td>mwanambeyu</td>\n",
              "      <td>NaN</td>\n",
              "      <td>['Covid19Vaccine']</td>\n",
              "    </tr>\n",
              "    <tr>\n",
              "      <th>9999</th>\n",
              "      <td>2021-03-25 10:32:36</td>\n",
              "      <td>RT @DrWilfredoM: 1/ I signed this petition fro...</td>\n",
              "      <td>BrighamMedRes</td>\n",
              "      <td>Boston, MA</td>\n",
              "      <td>[]</td>\n",
              "    </tr>\n",
              "  </tbody>\n",
              "</table>\n",
              "<p>10000 rows × 5 columns</p>\n",
              "</div>"
            ],
            "text/plain": [
              "                TweetDate  ...                                        AllHashtags\n",
              "0     2021-03-25 23:59:57  ...  ['Sinovac', 'ChinaLies', 'CovidVaccine', 'Sino...\n",
              "1     2021-03-25 23:59:53  ...  ['COVID', 'coronavirus', 'CoronaVaccine', 'Joh...\n",
              "2     2021-03-25 23:59:51  ...  ['CovidVaccine', 'VaccinesWork', 'VaccineEquity']\n",
              "3     2021-03-25 23:59:48  ...                                 ['COVID19vaccine']\n",
              "4     2021-03-25 23:59:32  ...                      ['KrispyKreme', 'vaccinated']\n",
              "...                   ...  ...                                                ...\n",
              "9995  2021-03-25 10:32:52  ...             ['FamilyCarers', 'LearningDisability']\n",
              "9996  2021-03-25 10:32:52  ...               ['vaccinated', 'Corona', 'COVIDー19']\n",
              "9997  2021-03-25 10:32:48  ...                      ['KrispyKreme', 'vaccinated']\n",
              "9998  2021-03-25 10:32:47  ...                                 ['Covid19Vaccine']\n",
              "9999  2021-03-25 10:32:36  ...                                                 []\n",
              "\n",
              "[10000 rows x 5 columns]"
            ]
          },
          "metadata": {
            "tags": []
          },
          "execution_count": 3
        }
      ]
    }
  ]
}