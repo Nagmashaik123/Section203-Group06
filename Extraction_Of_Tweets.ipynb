{
  "nbformat": 4,
  "nbformat_minor": 0,
  "metadata": {
    "colab": {
      "name": "Extraction_Of_Tweets.ipynb",
      "provenance": [],
      "collapsed_sections": [],
      "authorship_tag": "ABX9TyMX1JFKMgVcrgVtlePPbJC6",
      "include_colab_link": true
    },
    "kernelspec": {
      "name": "python3",
      "display_name": "Python 3"
    }
  },
  "cells": [
    {
      "cell_type": "markdown",
      "metadata": {
        "id": "view-in-github",
        "colab_type": "text"
      },
      "source": [
        "<a href=\"https://colab.research.google.com/github/Nagmashaik123/Section203-Group06/blob/main/Extraction_Of_Tweets.ipynb\" target=\"_parent\"><img src=\"https://colab.research.google.com/assets/colab-badge.svg\" alt=\"Open In Colab\"/></a>"
      ]
    },
    {
      "cell_type": "code",
      "metadata": {
        "colab": {
          "base_uri": "https://localhost:8080/"
        },
        "id": "lSfGUGflsrAY",
        "outputId": "9ddfbdca-76d2-4e86-ee9b-db40f2818e22"
      },
      "source": [
        "#A Python 3 library and a corresponding command line utility for accessing old tweets\n",
        "!pip install -e git+https://github.com/Mottl/GetOldTweets3#egg=GetOldTweets3"
      ],
      "execution_count": 8,
      "outputs": [
        {
          "output_type": "stream",
          "text": [
            "Obtaining GetOldTweets3 from git+https://github.com/Mottl/GetOldTweets3#egg=GetOldTweets3\n",
            "  Updating ./src/getoldtweets3 clone\n",
            "  Running command git fetch -q --tags\n",
            "  Running command git reset --hard -q 54a8e73d56953c7f664e073e121fa1413de4fbff\n",
            "Requirement already satisfied: lxml>=3.5.0 in /usr/local/lib/python3.7/dist-packages (from GetOldTweets3) (4.2.6)\n",
            "Requirement already satisfied: pyquery>=1.2.10 in /usr/local/lib/python3.7/dist-packages (from GetOldTweets3) (1.4.3)\n",
            "Requirement already satisfied: cssselect>0.7.9 in /usr/local/lib/python3.7/dist-packages (from pyquery>=1.2.10->GetOldTweets3) (1.1.0)\n",
            "Installing collected packages: GetOldTweets3\n",
            "  Found existing installation: GetOldTweets3 0.0.11\n",
            "    Can't uninstall 'GetOldTweets3'. No files were found to uninstall.\n",
            "  Running setup.py develop for GetOldTweets3\n",
            "Successfully installed GetOldTweets3\n"
          ],
          "name": "stdout"
        }
      ]
    },
    {
      "cell_type": "code",
      "metadata": {
        "colab": {
          "base_uri": "https://localhost:8080/"
        },
        "id": "Nj-VU9I8tkvD",
        "outputId": "bda36fb9-8891-489a-983a-c997be33a857"
      },
      "source": [
        "# The requirements.txt is a file which describes project dependencies that needs to be installed\n",
        "!pip install -r requirements.txt"
      ],
      "execution_count": 10,
      "outputs": [
        {
          "output_type": "stream",
          "text": [
            "\u001b[31mERROR: Could not open requirements file: [Errno 2] No such file or directory: 'requirements.txt'\u001b[0m\n"
          ],
          "name": "stdout"
        }
      ]
    }
  ]
}