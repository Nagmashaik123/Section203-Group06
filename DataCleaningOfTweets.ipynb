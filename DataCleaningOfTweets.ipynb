{
  "nbformat": 4,
  "nbformat_minor": 0,
  "metadata": {
    "colab": {
      "name": "DataCleaningOfTweets.ipynb",
      "provenance": [],
      "collapsed_sections": [],
      "include_colab_link": true
    },
    "kernelspec": {
      "name": "python3",
      "display_name": "Python 3"
    }
  },
  "cells": [
    {
      "cell_type": "markdown",
      "metadata": {
        "id": "view-in-github",
        "colab_type": "text"
      },
      "source": [
        "<a href=\"https://colab.research.google.com/github/Nagmashaik123/Section203-Group06/blob/main/DataCleaningOfTweets.ipynb\" target=\"_parent\"><img src=\"https://colab.research.google.com/assets/colab-badge.svg\" alt=\"Open In Colab\"/></a>"
      ]
    },
    {
      "cell_type": "code",
      "metadata": {
        "id": "NSsOJYdx2FVY"
      },
      "source": [
        "import pandas as pd\n",
        "df=pd.read_csv(r\"CovidVaccine.csv\",error_bad_lines=False)"
      ],
      "execution_count": null,
      "outputs": []
    },
    {
      "cell_type": "code",
      "metadata": {
        "id": "NryltiVD2OJn",
        "colab": {
          "base_uri": "https://localhost:8080/"
        },
        "outputId": "10e7fd0d-5091-40bb-abf6-a0e522021169"
      },
      "source": [
        "import nltk\n",
        "nltk.download()"
      ],
      "execution_count": null,
      "outputs": [
        {
          "output_type": "stream",
          "text": [
            "NLTK Downloader\n",
            "---------------------------------------------------------------------------\n",
            "    d) Download   l) List    u) Update   c) Config   h) Help   q) Quit\n",
            "---------------------------------------------------------------------------\n",
            "Downloader> a\n",
            "Command 'a' unrecognized\n",
            "\n",
            "---------------------------------------------------------------------------\n",
            "    d) Download   l) List    u) Update   c) Config   h) Help   q) Quit\n",
            "---------------------------------------------------------------------------\n",
            "Downloader> all\n",
            "Command 'all' unrecognized\n",
            "\n",
            "---------------------------------------------------------------------------\n",
            "    d) Download   l) List    u) Update   c) Config   h) Help   q) Quit\n",
            "---------------------------------------------------------------------------\n",
            "Downloader> q\n"
          ],
          "name": "stdout"
        },
        {
          "output_type": "execute_result",
          "data": {
            "text/plain": [
              "True"
            ]
          },
          "metadata": {
            "tags": []
          },
          "execution_count": 23
        }
      ]
    },
    {
      "cell_type": "code",
      "metadata": {
        "id": "Ze80Nekn2kzA"
      },
      "source": [
        "import re\n",
        "\n",
        "# Reading emoji patterns which contains emoticons , symbols & pictographs, transport & map symbols , flags\n",
        "emoji_pattern = re.compile(\"[\"\n",
        "                       u\"\\U0001F600-\\U0001F64F\"  \n",
        "                       u\"\\U0001F300-\\U0001F5FF\"  \n",
        "                       u\"\\U0001F680-\\U0001F6FF\"  \n",
        "                       u\"\\U0001F1E0-\\U0001F1FF\"  \n",
        "                       u\"\\U00002702-\\U000027B0\"\n",
        "                       u\"\\U000024C2-\\U0001F251\"\n",
        "                       \"]+\", flags=re.UNICODE)\n",
        "df['CleanedTweet'] = (df['TweetText'].str.lower().str.replace(r'[^\\w\\s]+', '').str.replace(emoji_pattern, '').str.strip())\n"
      ],
      "execution_count": null,
      "outputs": []
    },
    {
      "cell_type": "code",
      "metadata": {
        "id": "baxwAOUl3P5I",
        "colab": {
          "base_uri": "https://localhost:8080/",
          "height": 580
        },
        "outputId": "06341826-fa5d-46a9-d4a1-1af59b731c00"
      },
      "source": [
        "frame=df[['TweetDate','TweetText','CleanedTweet','TweetAuthor','TweetLocation','TweetCountry','AllHashtags',]]\n",
        "frame"
      ],
      "execution_count": null,
      "outputs": [
        {
          "output_type": "execute_result",
          "data": {
            "text/html": [
              "<div>\n",
              "<style scoped>\n",
              "    .dataframe tbody tr th:only-of-type {\n",
              "        vertical-align: middle;\n",
              "    }\n",
              "\n",
              "    .dataframe tbody tr th {\n",
              "        vertical-align: top;\n",
              "    }\n",
              "\n",
              "    .dataframe thead th {\n",
              "        text-align: right;\n",
              "    }\n",
              "</style>\n",
              "<table border=\"1\" class=\"dataframe\">\n",
              "  <thead>\n",
              "    <tr style=\"text-align: right;\">\n",
              "      <th></th>\n",
              "      <th>TweetDate</th>\n",
              "      <th>TweetText</th>\n",
              "      <th>CleanedTweet</th>\n",
              "      <th>TweetAuthor</th>\n",
              "      <th>TweetLocation</th>\n",
              "      <th>TweetCountry</th>\n",
              "      <th>AllHashtags</th>\n",
              "    </tr>\n",
              "  </thead>\n",
              "  <tbody>\n",
              "    <tr>\n",
              "      <th>0</th>\n",
              "      <td>2021-03-16 15:52:56</td>\n",
              "      <td>Trials begin on children 6mo - under 12\\n#coro...</td>\n",
              "      <td>trials begin on children 6mo  under 12\\ncorona...</td>\n",
              "      <td>Lon3Star</td>\n",
              "      <td>Bristol, CT</td>\n",
              "      <td>UNKNOWN</td>\n",
              "      <td>['coronavirus', 'COVID19Vaccine', 'COVID']</td>\n",
              "    </tr>\n",
              "    <tr>\n",
              "      <th>1</th>\n",
              "      <td>2021-03-16 15:52:56</td>\n",
              "      <td>We are continuing to vaccinate the community i...</td>\n",
              "      <td>we are continuing to vaccinate the community i...</td>\n",
              "      <td>ASIAOHIO</td>\n",
              "      <td>Northeast Ohio</td>\n",
              "      <td>UNKNOWN</td>\n",
              "      <td>['GetTheShot', 'CovidVaccine']</td>\n",
              "    </tr>\n",
              "    <tr>\n",
              "      <th>2</th>\n",
              "      <td>2021-03-16 15:52:53</td>\n",
              "      <td>Do you have tips (time of day new appointments...</td>\n",
              "      <td>do you have tips time of day new appointments ...</td>\n",
              "      <td>V2019N</td>\n",
              "      <td>NaN</td>\n",
              "      <td>UNKNOWN</td>\n",
              "      <td>['GetVaccinated', 'GetTheShot', 'vaccinated', ...</td>\n",
              "    </tr>\n",
              "    <tr>\n",
              "      <th>3</th>\n",
              "      <td>2021-03-16 15:52:43</td>\n",
              "      <td>Moderna begins #COVID19vaccine trial in childr...</td>\n",
              "      <td>moderna begins covid19vaccine trial in childre...</td>\n",
              "      <td>ryanchatelain</td>\n",
              "      <td>NYC/NJ</td>\n",
              "      <td>UNKNOWN</td>\n",
              "      <td>['COVID19vaccine']</td>\n",
              "    </tr>\n",
              "    <tr>\n",
              "      <th>4</th>\n",
              "      <td>2021-03-16 15:52:36</td>\n",
              "      <td>Wow. Over 3M vaccination in 24 hours. Well don...</td>\n",
              "      <td>wow over 3m vaccination in 24 hours well done ...</td>\n",
              "      <td>omkurmi</td>\n",
              "      <td>Coventry, England</td>\n",
              "      <td>United Kingdom</td>\n",
              "      <td>['vaccination', 'CovidVaccine', 'India']</td>\n",
              "    </tr>\n",
              "    <tr>\n",
              "      <th>5</th>\n",
              "      <td>2021-03-16 15:52:28</td>\n",
              "      <td>@MoH_Somalia @AbikarDr @DrFuje @dradow @TheVil...</td>\n",
              "      <td>moh_somalia abikardr drfuje dradow thevillasom...</td>\n",
              "      <td>Hodman_Bella</td>\n",
              "      <td>📍Mogadishu🏝</td>\n",
              "      <td>UNKNOWN</td>\n",
              "      <td>['CovidVaccine']</td>\n",
              "    </tr>\n",
              "    <tr>\n",
              "      <th>6</th>\n",
              "      <td>2021-03-16 15:52:27</td>\n",
              "      <td>Here’s an important message from @SpursOfficia...</td>\n",
              "      <td>heres an important message from spursofficial ...</td>\n",
              "      <td>NCLCCG_Haringey</td>\n",
              "      <td>Haringey, North London</td>\n",
              "      <td>UNKNOWN</td>\n",
              "      <td>['COVIDVaccine', 'KeepHaringeySafe']</td>\n",
              "    </tr>\n",
              "    <tr>\n",
              "      <th>7</th>\n",
              "      <td>2021-03-16 15:52:26</td>\n",
              "      <td>One of the founders of @ASIAOHIO was among the...</td>\n",
              "      <td>one of the founders of asiaohio was among the ...</td>\n",
              "      <td>ASIAOHIO</td>\n",
              "      <td>Northeast Ohio</td>\n",
              "      <td>UNKNOWN</td>\n",
              "      <td>['GetTheShot', 'CovidVaccine']</td>\n",
              "    </tr>\n",
              "    <tr>\n",
              "      <th>8</th>\n",
              "      <td>2021-03-16 15:52:11</td>\n",
              "      <td>Got my first dose of #CovidVaccine just now. #...</td>\n",
              "      <td>got my first dose of covidvaccine just now tha...</td>\n",
              "      <td>MagentaBlu69</td>\n",
              "      <td>United States</td>\n",
              "      <td>UNKNOWN</td>\n",
              "      <td>['CovidVaccine', 'ThankYouBiden', 'ThankYouSci...</td>\n",
              "    </tr>\n",
              "    <tr>\n",
              "      <th>9</th>\n",
              "      <td>2021-03-16 15:51:53</td>\n",
              "      <td>Today is a blummin good day \\n\\n#vaccine #Covi...</td>\n",
              "      <td>today is a blummin good day \\n\\nvaccine covid_...</td>\n",
              "      <td>JenksNome</td>\n",
              "      <td>NaN</td>\n",
              "      <td>UNKNOWN</td>\n",
              "      <td>['vaccine', 'Covid_19', 'CovidVaccine']</td>\n",
              "    </tr>\n",
              "  </tbody>\n",
              "</table>\n",
              "</div>"
            ],
            "text/plain": [
              "             TweetDate  ...                                        AllHashtags\n",
              "0  2021-03-16 15:52:56  ...         ['coronavirus', 'COVID19Vaccine', 'COVID']\n",
              "1  2021-03-16 15:52:56  ...                     ['GetTheShot', 'CovidVaccine']\n",
              "2  2021-03-16 15:52:53  ...  ['GetVaccinated', 'GetTheShot', 'vaccinated', ...\n",
              "3  2021-03-16 15:52:43  ...                                 ['COVID19vaccine']\n",
              "4  2021-03-16 15:52:36  ...           ['vaccination', 'CovidVaccine', 'India']\n",
              "5  2021-03-16 15:52:28  ...                                   ['CovidVaccine']\n",
              "6  2021-03-16 15:52:27  ...               ['COVIDVaccine', 'KeepHaringeySafe']\n",
              "7  2021-03-16 15:52:26  ...                     ['GetTheShot', 'CovidVaccine']\n",
              "8  2021-03-16 15:52:11  ...  ['CovidVaccine', 'ThankYouBiden', 'ThankYouSci...\n",
              "9  2021-03-16 15:51:53  ...            ['vaccine', 'Covid_19', 'CovidVaccine']\n",
              "\n",
              "[10 rows x 7 columns]"
            ]
          },
          "metadata": {
            "tags": []
          },
          "execution_count": 25
        }
      ]
    },
    {
      "cell_type": "code",
      "metadata": {
        "id": "_W4ser5b32AB"
      },
      "source": [
        "\n",
        "#Tokenization on tweet data after cleaning\n",
        "def tokenization(row):\n",
        "    textData = row['CleanedTweet']\n",
        "    tokensData = nltk.word_tokenize(textData)\n",
        "    # taken only words (not punctuation)\n",
        "    tokenWords = [i for i in tokensData if i.isalpha()]\n",
        "    return tokenWords"
      ],
      "execution_count": null,
      "outputs": []
    },
    {
      "cell_type": "code",
      "metadata": {
        "id": "h6P1CI835jHP"
      },
      "source": [
        "#Lemmatization on tweet data after cleaning\n",
        "from nltk.stem import WordNetLemmatizer \n",
        "lemmatizer = WordNetLemmatizer()\n",
        "def lemmatize(row):\n",
        "    lemmatizeList = row['CleanedTweet']\n",
        "    lemmatizedList = [lemmatizer.lemmatize(item) for item in lemmatizeList]\n",
        "    return (lemmatizedList)"
      ],
      "execution_count": null,
      "outputs": []
    },
    {
      "cell_type": "code",
      "metadata": {
        "id": "9u0TzEA55dPF"
      },
      "source": [
        "#Stemming on tweet data after cleaning\n",
        "from nltk.stem import PorterStemmer\n",
        "stemming = PorterStemmer()\n",
        "def stemmData(row):\n",
        "    stemmList = row['CleanedTweet']\n",
        "    stemmedList = [stemming.stem(item) for item in stemmList]\n",
        "    return (stemmedList)"
      ],
      "execution_count": null,
      "outputs": []
    },
    {
      "cell_type": "code",
      "metadata": {
        "id": "nrg80jJS6LKb"
      },
      "source": [
        "#Removing stop words on tweet data after cleaning\n",
        "from nltk.corpus import stopwords\n",
        "stopWordList = set(stopwords.words(\"english\"))                  \n",
        "\n",
        "def cleanStopWords(row):\n",
        "    stopList = row['CleanedTweet']\n",
        "    words = [item for item in stopList if not item in stopWordList]\n",
        "    return (words)"
      ],
      "execution_count": null,
      "outputs": []
    },
    {
      "cell_type": "code",
      "metadata": {
        "id": "GRBAe7Hh7MG0"
      },
      "source": [
        "#Joining all the tweets after processing\n",
        "def joinTweets(row):\n",
        "    cleanList = row['CleanedTweet']\n",
        "    finalWords = ( \" \".join(cleanList))\n",
        "    return finalWords"
      ],
      "execution_count": null,
      "outputs": []
    },
    {
      "cell_type": "code",
      "metadata": {
        "id": "nCflWcId72u1"
      },
      "source": [
        "# Converting to lower case\n",
        "frame['CleanedTweet'] = frame['CleanedTweet'].str.lower()\n"
      ],
      "execution_count": null,
      "outputs": []
    },
    {
      "cell_type": "code",
      "metadata": {
        "id": "7a1Qn8tJ7ikp",
        "colab": {
          "base_uri": "https://localhost:8080/",
          "height": 580
        },
        "outputId": "4c67cf2c-4c7f-4aef-e5fa-74207138506e"
      },
      "source": [
        "# Executing all the functions calls declared for processing the tweet text\n",
        "import re\n",
        "from nltk.corpus import stopwords\n",
        "\n",
        "frame['CleanedTweet'] = frame.apply(tokenization, axis=1)\n",
        "frame['CleanedTweet'] = frame.apply(lemmatize, axis=1)\n",
        "frame['CleanedTweet'] = frame.apply(stemmData, axis=1)\n",
        "frame['CleanedTweet'] = frame.apply(cleanStopWords, axis=1)\n",
        "frame['CleanedTweet'] = frame.apply(joinTweets, axis=1)\n",
        "\n",
        "\n",
        "\n",
        "frame"
      ],
      "execution_count": null,
      "outputs": [
        {
          "output_type": "execute_result",
          "data": {
            "text/html": [
              "<div>\n",
              "<style scoped>\n",
              "    .dataframe tbody tr th:only-of-type {\n",
              "        vertical-align: middle;\n",
              "    }\n",
              "\n",
              "    .dataframe tbody tr th {\n",
              "        vertical-align: top;\n",
              "    }\n",
              "\n",
              "    .dataframe thead th {\n",
              "        text-align: right;\n",
              "    }\n",
              "</style>\n",
              "<table border=\"1\" class=\"dataframe\">\n",
              "  <thead>\n",
              "    <tr style=\"text-align: right;\">\n",
              "      <th></th>\n",
              "      <th>TweetDate</th>\n",
              "      <th>TweetText</th>\n",
              "      <th>CleanedTweet</th>\n",
              "      <th>TweetAuthor</th>\n",
              "      <th>TweetLocation</th>\n",
              "      <th>TweetCountry</th>\n",
              "      <th>AllHashtags</th>\n",
              "    </tr>\n",
              "  </thead>\n",
              "  <tbody>\n",
              "    <tr>\n",
              "      <th>0</th>\n",
              "      <td>2021-03-16 15:52:56</td>\n",
              "      <td>Trials begin on children 6mo - under 12\\n#coro...</td>\n",
              "      <td>trial begin child coronaviru covid</td>\n",
              "      <td>Lon3Star</td>\n",
              "      <td>Bristol, CT</td>\n",
              "      <td>UNKNOWN</td>\n",
              "      <td>['coronavirus', 'COVID19Vaccine', 'COVID']</td>\n",
              "    </tr>\n",
              "    <tr>\n",
              "      <th>1</th>\n",
              "      <td>2021-03-16 15:52:56</td>\n",
              "      <td>We are continuing to vaccinate the community i...</td>\n",
              "      <td>continu vaccin commun summit counti ohio asia ...</td>\n",
              "      <td>ASIAOHIO</td>\n",
              "      <td>Northeast Ohio</td>\n",
              "      <td>UNKNOWN</td>\n",
              "      <td>['GetTheShot', 'CovidVaccine']</td>\n",
              "    </tr>\n",
              "    <tr>\n",
              "      <th>2</th>\n",
              "      <td>2021-03-16 15:52:53</td>\n",
              "      <td>Do you have tips (time of day new appointments...</td>\n",
              "      <td>tip time day new appoint post websit volunt op...</td>\n",
              "      <td>V2019N</td>\n",
              "      <td>NaN</td>\n",
              "      <td>UNKNOWN</td>\n",
              "      <td>['GetVaccinated', 'GetTheShot', 'vaccinated', ...</td>\n",
              "    </tr>\n",
              "    <tr>\n",
              "      <th>3</th>\n",
              "      <td>2021-03-16 15:52:43</td>\n",
              "      <td>Moderna begins #COVID19vaccine trial in childr...</td>\n",
              "      <td>moderna begin trial child month year old</td>\n",
              "      <td>ryanchatelain</td>\n",
              "      <td>NYC/NJ</td>\n",
              "      <td>UNKNOWN</td>\n",
              "      <td>['COVID19vaccine']</td>\n",
              "    </tr>\n",
              "    <tr>\n",
              "      <th>4</th>\n",
              "      <td>2021-03-16 15:52:36</td>\n",
              "      <td>Wow. Over 3M vaccination in 24 hours. Well don...</td>\n",
              "      <td>wow vaccin hour well done india need doubl thi...</td>\n",
              "      <td>omkurmi</td>\n",
              "      <td>Coventry, England</td>\n",
              "      <td>United Kingdom</td>\n",
              "      <td>['vaccination', 'CovidVaccine', 'India']</td>\n",
              "    </tr>\n",
              "    <tr>\n",
              "      <th>5</th>\n",
              "      <td>2021-03-16 15:52:28</td>\n",
              "      <td>@MoH_Somalia @AbikarDr @DrFuje @dradow @TheVil...</td>\n",
              "      <td>abikardr drfuje dradow thevillasomalia mohamed...</td>\n",
              "      <td>Hodman_Bella</td>\n",
              "      <td>📍Mogadishu🏝</td>\n",
              "      <td>UNKNOWN</td>\n",
              "      <td>['CovidVaccine']</td>\n",
              "    </tr>\n",
              "    <tr>\n",
              "      <th>6</th>\n",
              "      <td>2021-03-16 15:52:27</td>\n",
              "      <td>Here’s an important message from @SpursOfficia...</td>\n",
              "      <td>import messag spursoffici footbal covidvaccin ...</td>\n",
              "      <td>NCLCCG_Haringey</td>\n",
              "      <td>Haringey, North London</td>\n",
              "      <td>UNKNOWN</td>\n",
              "      <td>['COVIDVaccine', 'KeepHaringeySafe']</td>\n",
              "    </tr>\n",
              "    <tr>\n",
              "      <th>7</th>\n",
              "      <td>2021-03-16 15:52:26</td>\n",
              "      <td>One of the founders of @ASIAOHIO was among the...</td>\n",
              "      <td>one founder asiaohio wa among first commun mem...</td>\n",
              "      <td>ASIAOHIO</td>\n",
              "      <td>Northeast Ohio</td>\n",
              "      <td>UNKNOWN</td>\n",
              "      <td>['GetTheShot', 'CovidVaccine']</td>\n",
              "    </tr>\n",
              "    <tr>\n",
              "      <th>8</th>\n",
              "      <td>2021-03-16 15:52:11</td>\n",
              "      <td>Got my first dose of #CovidVaccine just now. #...</td>\n",
              "      <td>got first dose covidvaccin thankyoubiden thank...</td>\n",
              "      <td>MagentaBlu69</td>\n",
              "      <td>United States</td>\n",
              "      <td>UNKNOWN</td>\n",
              "      <td>['CovidVaccine', 'ThankYouBiden', 'ThankYouSci...</td>\n",
              "    </tr>\n",
              "    <tr>\n",
              "      <th>9</th>\n",
              "      <td>2021-03-16 15:51:53</td>\n",
              "      <td>Today is a blummin good day \\n\\n#vaccine #Covi...</td>\n",
              "      <td>today blummin good day vaccin covidvaccin http...</td>\n",
              "      <td>JenksNome</td>\n",
              "      <td>NaN</td>\n",
              "      <td>UNKNOWN</td>\n",
              "      <td>['vaccine', 'Covid_19', 'CovidVaccine']</td>\n",
              "    </tr>\n",
              "  </tbody>\n",
              "</table>\n",
              "</div>"
            ],
            "text/plain": [
              "             TweetDate  ...                                        AllHashtags\n",
              "0  2021-03-16 15:52:56  ...         ['coronavirus', 'COVID19Vaccine', 'COVID']\n",
              "1  2021-03-16 15:52:56  ...                     ['GetTheShot', 'CovidVaccine']\n",
              "2  2021-03-16 15:52:53  ...  ['GetVaccinated', 'GetTheShot', 'vaccinated', ...\n",
              "3  2021-03-16 15:52:43  ...                                 ['COVID19vaccine']\n",
              "4  2021-03-16 15:52:36  ...           ['vaccination', 'CovidVaccine', 'India']\n",
              "5  2021-03-16 15:52:28  ...                                   ['CovidVaccine']\n",
              "6  2021-03-16 15:52:27  ...               ['COVIDVaccine', 'KeepHaringeySafe']\n",
              "7  2021-03-16 15:52:26  ...                     ['GetTheShot', 'CovidVaccine']\n",
              "8  2021-03-16 15:52:11  ...  ['CovidVaccine', 'ThankYouBiden', 'ThankYouSci...\n",
              "9  2021-03-16 15:51:53  ...            ['vaccine', 'Covid_19', 'CovidVaccine']\n",
              "\n",
              "[10 rows x 7 columns]"
            ]
          },
          "metadata": {
            "tags": []
          },
          "execution_count": 32
        }
      ]
    },
    {
      "cell_type": "code",
      "metadata": {
        "id": "fAx0NOnd9WoQ"
      },
      "source": [
        "frame.to_csv('ProcessedCovidVaccineReact.csv')"
      ],
      "execution_count": null,
      "outputs": []
    }
  ]
}